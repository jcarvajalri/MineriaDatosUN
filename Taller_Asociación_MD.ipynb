{
  "nbformat": 4,
  "nbformat_minor": 0,
  "metadata": {
    "colab": {
      "name": "Taller_Asociación_MD.ipynb",
      "provenance": [],
      "collapsed_sections": [],
      "authorship_tag": "ABX9TyNWIP/l7OaJjHM/lT0NbpwS",
      "include_colab_link": true
    },
    "kernelspec": {
      "name": "python3",
      "display_name": "Python 3"
    },
    "language_info": {
      "name": "python"
    }
  },
  "cells": [
    {
      "cell_type": "markdown",
      "metadata": {
        "id": "view-in-github",
        "colab_type": "text"
      },
      "source": [
        "<a href=\"https://colab.research.google.com/github/jcarvajalri/MineriaDatosUN/blob/main/Taller_Asociaci%C3%B3n_MD.ipynb\" target=\"_parent\"><img src=\"https://colab.research.google.com/assets/colab-badge.svg\" alt=\"Open In Colab\"/></a>"
      ]
    },
    {
      "cell_type": "markdown",
      "metadata": {
        "id": "oHG1IEyjDEy1"
      },
      "source": [
        "# Universidad Nacional de Colombia\n",
        "###Minería de Datos\n",
        "\n",
        "### Prof. Elizabeth León\n",
        "### **Taller de Asociación**\n",
        "### Presentado por: John David Carvajal"
      ]
    },
    {
      "cell_type": "code",
      "metadata": {
        "colab": {
          "base_uri": "https://localhost:8080/"
        },
        "id": "AJzSq_csMiNS",
        "outputId": "8b633e77-81f8-4ac0-d222-ca5847601a00"
      },
      "source": [
        "#Intalación de librerias \n",
        "!pip install apyori\n",
        "!pip install apriori\n",
        "!pip install pyfpgrowth\n",
        "!pip install efficient-apriori"
      ],
      "execution_count": 1,
      "outputs": [
        {
          "output_type": "stream",
          "text": [
            "Requirement already satisfied: apyori in /usr/local/lib/python3.7/dist-packages (1.1.2)\n",
            "Requirement already satisfied: apriori in /usr/local/lib/python3.7/dist-packages (1.0.0)\n",
            "Requirement already satisfied: pyfpgrowth in /usr/local/lib/python3.7/dist-packages (1.0)\n",
            "Requirement already satisfied: efficient-apriori in /usr/local/lib/python3.7/dist-packages (1.1.1)\n"
          ],
          "name": "stdout"
        }
      ]
    },
    {
      "cell_type": "code",
      "metadata": {
        "id": "juduWVyWMm_-"
      },
      "source": [
        "#Import de Librerias\n",
        "import numpy as np\n",
        "import pandas as pd\n",
        "import pyfpgrowth\n",
        "import time\n",
        "from efficient_apriori import apriori\n",
        "from apyori import apriori as apy\n",
        "from sklearn import preprocessing\n",
        "from scipy import stats\n",
        "from google.colab import files\n",
        "import io"
      ],
      "execution_count": 2,
      "outputs": []
    },
    {
      "cell_type": "markdown",
      "metadata": {
        "id": "r50Rz60CED7v"
      },
      "source": [
        "## Punto 1 “market basket”\n",
        "\n",
        "Para el desarrollo de este punto se utilizó la libreria **from efficient_apriori import apriori**"
      ]
    },
    {
      "cell_type": "code",
      "metadata": {
        "colab": {
          "resources": {
            "http://localhost:8080/nbextensions/google.colab/files.js": {
              "data": "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",
              "ok": true,
              "headers": [
                [
                  "content-type",
                  "application/javascript"
                ]
              ],
              "status": 200,
              "status_text": ""
            }
          },
          "base_uri": "https://localhost:8080/",
          "height": 70
        },
        "id": "C3I-nn3nEQDo",
        "outputId": "f0041ae2-99dc-4465-91bd-4103db25e131"
      },
      "source": [
        "#Se realiza el cargue del archivo CSV\n",
        "uploaded = files.upload()"
      ],
      "execution_count": null,
      "outputs": [
        {
          "output_type": "display_data",
          "data": {
            "text/html": [
              "\n",
              "     <input type=\"file\" id=\"files-c1b94900-8c63-4dcf-962a-26911a8349ce\" name=\"files[]\" multiple disabled\n",
              "        style=\"border:none\" />\n",
              "     <output id=\"result-c1b94900-8c63-4dcf-962a-26911a8349ce\">\n",
              "      Upload widget is only available when the cell has been executed in the\n",
              "      current browser session. Please rerun this cell to enable.\n",
              "      </output>\n",
              "      <script src=\"/nbextensions/google.colab/files.js\"></script> "
            ],
            "text/plain": [
              "<IPython.core.display.HTML object>"
            ]
          },
          "metadata": {
            "tags": []
          }
        },
        {
          "output_type": "stream",
          "text": [
            "Saving marketBasket.csv to marketBasket.csv\n"
          ],
          "name": "stdout"
        }
      ]
    },
    {
      "cell_type": "code",
      "metadata": {
        "colab": {
          "base_uri": "https://localhost:8080/",
          "height": 335
        },
        "id": "VHOY1_V1E431",
        "outputId": "ab27ae4d-90d7-4181-89d1-820b99b9a448"
      },
      "source": [
        "# Se carga en un Dataframe la información del archivo que se cargo\n",
        "df = pd.read_csv(io.BytesIO(uploaded['marketBasket.csv']), sep=';', encoding='latin-1') \n",
        "del df['ID'] # Se borra la columna de ID\n",
        "df.head() \n",
        "df.shape \n",
        "df"
      ],
      "execution_count": null,
      "outputs": [
        {
          "output_type": "execute_result",
          "data": {
            "text/html": [
              "<div>\n",
              "<style scoped>\n",
              "    .dataframe tbody tr th:only-of-type {\n",
              "        vertical-align: middle;\n",
              "    }\n",
              "\n",
              "    .dataframe tbody tr th {\n",
              "        vertical-align: top;\n",
              "    }\n",
              "\n",
              "    .dataframe thead th {\n",
              "        text-align: right;\n",
              "    }\n",
              "</style>\n",
              "<table border=\"1\" class=\"dataframe\">\n",
              "  <thead>\n",
              "    <tr style=\"text-align: right;\">\n",
              "      <th></th>\n",
              "      <th>Leche</th>\n",
              "      <th>Cerveza</th>\n",
              "      <th>Pañales</th>\n",
              "      <th>Pan</th>\n",
              "      <th>Mantequilla</th>\n",
              "      <th>Galletas</th>\n",
              "    </tr>\n",
              "  </thead>\n",
              "  <tbody>\n",
              "    <tr>\n",
              "      <th>0</th>\n",
              "      <td>True</td>\n",
              "      <td>True</td>\n",
              "      <td>True</td>\n",
              "      <td>False</td>\n",
              "      <td>False</td>\n",
              "      <td>False</td>\n",
              "    </tr>\n",
              "    <tr>\n",
              "      <th>1</th>\n",
              "      <td>True</td>\n",
              "      <td>False</td>\n",
              "      <td>False</td>\n",
              "      <td>True</td>\n",
              "      <td>True</td>\n",
              "      <td>False</td>\n",
              "    </tr>\n",
              "    <tr>\n",
              "      <th>2</th>\n",
              "      <td>True</td>\n",
              "      <td>False</td>\n",
              "      <td>True</td>\n",
              "      <td>False</td>\n",
              "      <td>False</td>\n",
              "      <td>True</td>\n",
              "    </tr>\n",
              "    <tr>\n",
              "      <th>3</th>\n",
              "      <td>False</td>\n",
              "      <td>False</td>\n",
              "      <td>False</td>\n",
              "      <td>True</td>\n",
              "      <td>True</td>\n",
              "      <td>True</td>\n",
              "    </tr>\n",
              "    <tr>\n",
              "      <th>4</th>\n",
              "      <td>False</td>\n",
              "      <td>True</td>\n",
              "      <td>True</td>\n",
              "      <td>False</td>\n",
              "      <td>False</td>\n",
              "      <td>True</td>\n",
              "    </tr>\n",
              "    <tr>\n",
              "      <th>5</th>\n",
              "      <td>True</td>\n",
              "      <td>False</td>\n",
              "      <td>True</td>\n",
              "      <td>True</td>\n",
              "      <td>True</td>\n",
              "      <td>False</td>\n",
              "    </tr>\n",
              "    <tr>\n",
              "      <th>6</th>\n",
              "      <td>False</td>\n",
              "      <td>False</td>\n",
              "      <td>True</td>\n",
              "      <td>True</td>\n",
              "      <td>True</td>\n",
              "      <td>False</td>\n",
              "    </tr>\n",
              "    <tr>\n",
              "      <th>7</th>\n",
              "      <td>False</td>\n",
              "      <td>True</td>\n",
              "      <td>True</td>\n",
              "      <td>False</td>\n",
              "      <td>False</td>\n",
              "      <td>False</td>\n",
              "    </tr>\n",
              "    <tr>\n",
              "      <th>8</th>\n",
              "      <td>True</td>\n",
              "      <td>False</td>\n",
              "      <td>True</td>\n",
              "      <td>True</td>\n",
              "      <td>True</td>\n",
              "      <td>False</td>\n",
              "    </tr>\n",
              "    <tr>\n",
              "      <th>9</th>\n",
              "      <td>False</td>\n",
              "      <td>True</td>\n",
              "      <td>False</td>\n",
              "      <td>False</td>\n",
              "      <td>False</td>\n",
              "      <td>True</td>\n",
              "    </tr>\n",
              "  </tbody>\n",
              "</table>\n",
              "</div>"
            ],
            "text/plain": [
              "   Leche  Cerveza  Pañales    Pan  Mantequilla  Galletas\n",
              "0   True     True     True  False        False     False\n",
              "1   True    False    False   True         True     False\n",
              "2   True    False     True  False        False      True\n",
              "3  False    False    False   True         True      True\n",
              "4  False     True     True  False        False      True\n",
              "5   True    False     True   True         True     False\n",
              "6  False    False     True   True         True     False\n",
              "7  False     True     True  False        False     False\n",
              "8   True    False     True   True         True     False\n",
              "9  False     True    False  False        False      True"
            ]
          },
          "metadata": {
            "tags": []
          },
          "execution_count": 11
        }
      ]
    },
    {
      "cell_type": "code",
      "metadata": {
        "colab": {
          "base_uri": "https://localhost:8080/"
        },
        "id": "PKaMYSxrF5dw",
        "outputId": "0e29d5f0-5d93-4202-913a-8962ca0c7170"
      },
      "source": [
        "#Modificación del dataFrame para hacer listas de productos \n",
        "headers= list(df.columns.values) # encabezado de productos\n",
        "records = df.to_records(index=False) #Tupla de df\n",
        "trans = list(records) #Lista de transacciones con las tuplas\n",
        "transactions = [] #Lista donde van a quedar los productos \n",
        "for i in range (0,len(trans)): #Se recorre la primera lista la cual es 9 tuplas \n",
        "   transactions.append([]) #Se agrega una nueva transacción\n",
        "   for j in range(0,len(headers)): #Se recorre el encabezado que en si son los productos\n",
        "      if trans[i][j] == True: #Se valida si es True\n",
        "         transactions[i].append(headers[j])\t#se agrega el producto \n",
        "print(transactions)"
      ],
      "execution_count": null,
      "outputs": [
        {
          "output_type": "stream",
          "text": [
            "[['Leche', 'Cerveza', 'Pañales'], ['Leche', 'Pan', 'Mantequilla'], ['Leche', 'Pañales', 'Galletas'], ['Pan', 'Mantequilla', 'Galletas'], ['Cerveza', 'Pañales', 'Galletas'], ['Leche', 'Pañales', 'Pan', 'Mantequilla'], ['Pañales', 'Pan', 'Mantequilla'], ['Cerveza', 'Pañales'], ['Leche', 'Pañales', 'Pan', 'Mantequilla'], ['Cerveza', 'Galletas']]\n"
          ],
          "name": "stdout"
        }
      ]
    },
    {
      "cell_type": "code",
      "metadata": {
        "colab": {
          "base_uri": "https://localhost:8080/"
        },
        "id": "f5gvfGWpM0L5",
        "outputId": "e26e5215-c9a5-4179-e22d-57633aab80f7"
      },
      "source": [
        "# (a) Una regla que tiene alto soporte y alta confianza\n",
        "#Soporte = 70% confianza = 70% \n",
        "itemsets, rules = apriori(transactions, min_support=0.7,  min_confidence=0.7)\n",
        "countAssociationRules =  len(rules)\n",
        "results = list(itemsets)\n",
        "print(\"Soporte 70% Confianza 60% \")\n",
        "print(\"Cantidad de reglas de asociación \" + str(countAssociationRules))\n",
        "print(\"------------------------------------------- \")\n",
        "print(\"Reglas k=1\")\n",
        "rules_rhs = filter(lambda rule: len(rule.lhs) == 1 and len(rule.rhs) == 1, rules)\n",
        "for rule in sorted(rules_rhs, key=lambda rule: rule.lift):\n",
        "  print(rule)  # Prints the rule and its confidence, support, lift, ...\n",
        "print(\"------------------------------------------- \")\n",
        "print(\"Reglas k=2\")\n",
        "rules_rhs2 = filter(lambda rule: len(rule.lhs) == 2 and len(rule.rhs) == 1, rules)\n",
        "for rule in sorted(rules_rhs2, key=lambda rule: rule.lift):\n",
        "  print(rule)  # Prints the rule and its confidence, support, lift, ...\n",
        "print(\"------------------------------------------- \")\n",
        "print(\"Reglas k=3\")\n",
        "rules_rhs3 = filter(lambda rule: len(rule.lhs) == 3 and len(rule.rhs) == 1, rules)\n",
        "for rule in sorted(rules_rhs3, key=lambda rule: rule.lift):\n",
        "  print(rule)  # Prints the rule and its confidence, support, lift, ..."
      ],
      "execution_count": null,
      "outputs": [
        {
          "output_type": "stream",
          "text": [
            "Soporte 70% Confianza 60% \n",
            "Cantidad de reglas de asociación 0\n",
            "------------------------------------------- \n",
            "Reglas k=1\n",
            "------------------------------------------- \n",
            "Reglas k=2\n",
            "------------------------------------------- \n",
            "Reglas k=3\n"
          ],
          "name": "stdout"
        }
      ]
    },
    {
      "cell_type": "code",
      "metadata": {
        "colab": {
          "base_uri": "https://localhost:8080/"
        },
        "id": "lzasORNTgQvF",
        "outputId": "72a6e002-aa65-44f5-9680-898aef84f664"
      },
      "source": [
        "# (b) Una regla que tiene razonablemente alto soporte, pero baja confianza\n",
        "#Soporte = 45% confianza = 15% \n",
        "itemsets, rules = apriori(transactions, min_support=0.45,  min_confidence=0.15)\n",
        "countAssociationRules =  len(rules)\n",
        "results = list(itemsets)\n",
        "print(\"Soporte 45% Confianza 15% \")\n",
        "print(\"Cantidad de reglas de asociación \" + str(countAssociationRules))\n",
        "print(\"------------------------------------------- \")\n",
        "print(\"Reglas k=1\")\n",
        "rules_rhs = filter(lambda rule: len(rule.lhs) == 1 and len(rule.rhs) == 1, rules)\n",
        "for rule in sorted(rules_rhs, key=lambda rule: rule.lift):\n",
        "  print(rule)  # Prints the rule and its confidence, support, lift, ...\n",
        "print(\"------------------------------------------- \")\n",
        "print(\"Reglas k=2\")\n",
        "rules_rhs2 = filter(lambda rule: len(rule.lhs) == 2 and len(rule.rhs) == 1, rules)\n",
        "for rule in sorted(rules_rhs2, key=lambda rule: rule.lift):\n",
        "  print(rule)  # Prints the rule and its confidence, support, lift, ...\n",
        "print(\"------------------------------------------- \")\n",
        "print(\"Reglas k=3\")\n",
        "rules_rhs3 = filter(lambda rule: len(rule.lhs) == 3 and len(rule.rhs) == 1, rules)\n",
        "for rule in sorted(rules_rhs3, key=lambda rule: rule.lift):\n",
        "  print(rule)  # Prints the rule and its confidence, support, lift, ..."
      ],
      "execution_count": null,
      "outputs": [
        {
          "output_type": "stream",
          "text": [
            "Soporte 45% Confianza 15% \n",
            "Cantidad de reglas de asociación 2\n",
            "------------------------------------------- \n",
            "Reglas k=1\n",
            "{Pan} -> {Mantequilla} (conf: 1.000, supp: 0.500, lift: 2.000, conv: 500000000.000)\n",
            "{Mantequilla} -> {Pan} (conf: 1.000, supp: 0.500, lift: 2.000, conv: 500000000.000)\n",
            "------------------------------------------- \n",
            "Reglas k=2\n",
            "------------------------------------------- \n",
            "Reglas k=3\n"
          ],
          "name": "stdout"
        }
      ]
    },
    {
      "cell_type": "code",
      "metadata": {
        "colab": {
          "base_uri": "https://localhost:8080/"
        },
        "id": "oQXePneogqxH",
        "outputId": "d82381ad-aa57-4d40-87af-07587340469b"
      },
      "source": [
        "# c) Una regla que tiene bajo soporte y baja confianza\n",
        "#Soporte = 4.5% confianza = 10% \n",
        "itemsets, rules = apriori(transactions, min_support=0.20,  min_confidence=0.15)\n",
        "countAssociationRules =  len(rules)\n",
        "results = list(itemsets)\n",
        "print(\"Soporte 20% Confianza 15% \")\n",
        "print(\"Cantidad de reglas de asociación \" + str(countAssociationRules))\n",
        "print(\"------------------------------------------- \")\n",
        "print(\"Reglas k=1\")\n",
        "rules_rhs = filter(lambda rule: len(rule.lhs) == 1 and len(rule.rhs) == 1, rules)\n",
        "for rule in sorted(rules_rhs, key=lambda rule: rule.lift):\n",
        "  print(rule)  # Prints the rule and its confidence, support, lift, ...\n",
        "print(\"------------------------------------------- \")\n",
        "print(\"Reglas k=2\")\n",
        "rules_rhs2 = filter(lambda rule: len(rule.lhs) == 2 and len(rule.rhs) == 1, rules)\n",
        "for rule in sorted(rules_rhs2, key=lambda rule: rule.lift):\n",
        "  print(rule)  # Prints the rule and its confidence, support, lift, ...\n",
        "print(\"------------------------------------------- \")\n",
        "print(\"Reglas k=3\")\n",
        "rules_rhs3 = filter(lambda rule: len(rule.lhs) == 3 and len(rule.rhs) == 1, rules)\n",
        "for rule in sorted(rules_rhs3, key=lambda rule: rule.lift):\n",
        "  print(rule)  # Prints the rule and its confidence, support, lift, ..."
      ],
      "execution_count": null,
      "outputs": [
        {
          "output_type": "stream",
          "text": [
            "Soporte 20% Confianza 15% \n",
            "Cantidad de reglas de asociación 56\n",
            "------------------------------------------- \n",
            "Reglas k=1\n",
            "{Pañales} -> {Galletas} (conf: 0.286, supp: 0.200, lift: 0.714, conv: 0.840)\n",
            "{Galletas} -> {Pañales} (conf: 0.500, supp: 0.200, lift: 0.714, conv: 0.600)\n",
            "{Pañales} -> {Mantequilla} (conf: 0.429, supp: 0.300, lift: 0.857, conv: 0.875)\n",
            "{Mantequilla} -> {Pañales} (conf: 0.600, supp: 0.300, lift: 0.857, conv: 0.750)\n",
            "{Pañales} -> {Pan} (conf: 0.429, supp: 0.300, lift: 0.857, conv: 0.875)\n",
            "{Pan} -> {Pañales} (conf: 0.600, supp: 0.300, lift: 0.857, conv: 0.750)\n",
            "{Pañales} -> {Cerveza} (conf: 0.429, supp: 0.300, lift: 1.071, conv: 1.050)\n",
            "{Cerveza} -> {Pañales} (conf: 0.750, supp: 0.300, lift: 1.071, conv: 1.200)\n",
            "{Pañales} -> {Leche} (conf: 0.571, supp: 0.400, lift: 1.143, conv: 1.167)\n",
            "{Leche} -> {Pañales} (conf: 0.800, supp: 0.400, lift: 1.143, conv: 1.500)\n",
            "{Mantequilla} -> {Leche} (conf: 0.600, supp: 0.300, lift: 1.200, conv: 1.250)\n",
            "{Leche} -> {Mantequilla} (conf: 0.600, supp: 0.300, lift: 1.200, conv: 1.250)\n",
            "{Pan} -> {Leche} (conf: 0.600, supp: 0.300, lift: 1.200, conv: 1.250)\n",
            "{Leche} -> {Pan} (conf: 0.600, supp: 0.300, lift: 1.200, conv: 1.250)\n",
            "{Galletas} -> {Cerveza} (conf: 0.500, supp: 0.200, lift: 1.250, conv: 1.200)\n",
            "{Cerveza} -> {Galletas} (conf: 0.500, supp: 0.200, lift: 1.250, conv: 1.200)\n",
            "{Pan} -> {Mantequilla} (conf: 1.000, supp: 0.500, lift: 2.000, conv: 500000000.000)\n",
            "{Mantequilla} -> {Pan} (conf: 1.000, supp: 0.500, lift: 2.000, conv: 500000000.000)\n",
            "------------------------------------------- \n",
            "Reglas k=2\n",
            "{Mantequilla, Pan} -> {Pañales} (conf: 0.600, supp: 0.300, lift: 0.857, conv: 0.750)\n",
            "{Leche, Mantequilla} -> {Pañales} (conf: 0.667, supp: 0.200, lift: 0.952, conv: 0.900)\n",
            "{Leche, Pan} -> {Pañales} (conf: 0.667, supp: 0.200, lift: 0.952, conv: 0.900)\n",
            "{Leche, Pañales} -> {Mantequilla} (conf: 0.500, supp: 0.200, lift: 1.000, conv: 1.000)\n",
            "{Leche, Pañales} -> {Pan} (conf: 0.500, supp: 0.200, lift: 1.000, conv: 1.000)\n",
            "{Mantequilla, Pan} -> {Leche} (conf: 0.600, supp: 0.300, lift: 1.200, conv: 1.250)\n",
            "{Mantequilla, Pañales} -> {Leche} (conf: 0.667, supp: 0.200, lift: 1.333, conv: 1.500)\n",
            "{Pan, Pañales} -> {Leche} (conf: 0.667, supp: 0.200, lift: 1.333, conv: 1.500)\n",
            "{Leche, Pan} -> {Mantequilla} (conf: 1.000, supp: 0.300, lift: 2.000, conv: 500000000.000)\n",
            "{Leche, Mantequilla} -> {Pan} (conf: 1.000, supp: 0.300, lift: 2.000, conv: 500000000.000)\n",
            "{Pan, Pañales} -> {Mantequilla} (conf: 1.000, supp: 0.300, lift: 2.000, conv: 500000000.000)\n",
            "{Mantequilla, Pañales} -> {Pan} (conf: 1.000, supp: 0.300, lift: 2.000, conv: 500000000.000)\n",
            "------------------------------------------- \n",
            "Reglas k=3\n",
            "{Leche, Mantequilla, Pan} -> {Pañales} (conf: 0.667, supp: 0.200, lift: 0.952, conv: 0.900)\n",
            "{Mantequilla, Pan, Pañales} -> {Leche} (conf: 0.667, supp: 0.200, lift: 1.333, conv: 1.500)\n",
            "{Leche, Pan, Pañales} -> {Mantequilla} (conf: 1.000, supp: 0.200, lift: 2.000, conv: 500000000.000)\n",
            "{Leche, Mantequilla, Pañales} -> {Pan} (conf: 1.000, supp: 0.200, lift: 2.000, conv: 500000000.000)\n"
          ],
          "name": "stdout"
        }
      ]
    },
    {
      "cell_type": "code",
      "metadata": {
        "id": "k_AFTS8QhQCG"
      },
      "source": [
        ""
      ],
      "execution_count": null,
      "outputs": []
    },
    {
      "cell_type": "code",
      "metadata": {
        "colab": {
          "base_uri": "https://localhost:8080/"
        },
        "id": "1Ur3Au_AhQYU",
        "outputId": "a2be9be5-54e4-41f8-b73d-dd4bf66d2410"
      },
      "source": [
        "# (d) Una regla que tiene bajo soporte y alta confianza\n",
        "#Soporte = 15% confianza = 70% \n",
        "itemsets, rules = apriori(transactions, min_support=0.15,  min_confidence=0.70)\n",
        "countAssociationRules =  len(rules)\n",
        "results = list(itemsets)\n",
        "print(\"Soporte 15% Confianza 70% \")\n",
        "print(\"Cantidad de reglas de asociación \" + str(countAssociationRules))\n",
        "print(\"------------------------------------------- \")\n",
        "print(\"Reglas k=1\")\n",
        "rules_rhs = filter(lambda rule: len(rule.lhs) == 1 and len(rule.rhs) == 1, rules)\n",
        "for rule in sorted(rules_rhs, key=lambda rule: rule.lift):\n",
        "  print(rule)  # Prints the rule and its confidence, support, lift, ...\n",
        "print(\"------------------------------------------- \")\n",
        "print(\"Reglas k=2\")\n",
        "rules_rhs2 = filter(lambda rule: len(rule.lhs) == 2 and len(rule.rhs) == 1, rules)\n",
        "for rule in sorted(rules_rhs2, key=lambda rule: rule.lift):\n",
        "  print(rule)  # Prints the rule and its confidence, support, lift, ...\n",
        "print(\"------------------------------------------- \")\n",
        "print(\"Reglas k=3\")\n",
        "rules_rhs3 = filter(lambda rule: len(rule.lhs) == 3 and len(rule.rhs) == 1, rules)\n",
        "for rule in sorted(rules_rhs3, key=lambda rule: rule.lift):\n",
        "  print(rule)  # Prints the rule and its confidence, support, lift, ..."
      ],
      "execution_count": null,
      "outputs": [
        {
          "output_type": "stream",
          "text": [
            "Soporte 15% Confianza 70% \n",
            "Cantidad de reglas de asociación 10\n",
            "------------------------------------------- \n",
            "Reglas k=1\n",
            "{Cerveza} -> {Pañales} (conf: 0.750, supp: 0.300, lift: 1.071, conv: 1.200)\n",
            "{Leche} -> {Pañales} (conf: 0.800, supp: 0.400, lift: 1.143, conv: 1.500)\n",
            "{Pan} -> {Mantequilla} (conf: 1.000, supp: 0.500, lift: 2.000, conv: 500000000.000)\n",
            "{Mantequilla} -> {Pan} (conf: 1.000, supp: 0.500, lift: 2.000, conv: 500000000.000)\n",
            "------------------------------------------- \n",
            "Reglas k=2\n",
            "{Leche, Pan} -> {Mantequilla} (conf: 1.000, supp: 0.300, lift: 2.000, conv: 500000000.000)\n",
            "{Leche, Mantequilla} -> {Pan} (conf: 1.000, supp: 0.300, lift: 2.000, conv: 500000000.000)\n",
            "{Pan, Pañales} -> {Mantequilla} (conf: 1.000, supp: 0.300, lift: 2.000, conv: 500000000.000)\n",
            "{Mantequilla, Pañales} -> {Pan} (conf: 1.000, supp: 0.300, lift: 2.000, conv: 500000000.000)\n",
            "------------------------------------------- \n",
            "Reglas k=3\n",
            "{Leche, Pan, Pañales} -> {Mantequilla} (conf: 1.000, supp: 0.200, lift: 2.000, conv: 500000000.000)\n",
            "{Leche, Mantequilla, Pañales} -> {Pan} (conf: 1.000, supp: 0.200, lift: 2.000, conv: 500000000.000)\n"
          ],
          "name": "stdout"
        }
      ]
    },
    {
      "cell_type": "markdown",
      "metadata": {
        "id": "olOJlKf0itEX"
      },
      "source": [
        "## Punto 3 “Conjunto de datos milk, beer, diapers, bread, butter, cookies”"
      ]
    },
    {
      "cell_type": "code",
      "metadata": {
        "colab": {
          "base_uri": "https://localhost:8080/",
          "height": 335
        },
        "id": "O0XsybymkStY",
        "outputId": "d53aef46-6443-40cd-a1af-623d473b4054"
      },
      "source": [
        "#Creación de records con las listas \n",
        "a = [ ['milk', 'beer', 'diapers'], \n",
        "    [ 'bread', 'butter', 'milk'], \n",
        "    [ 'milk', 'diapers', 'cookies' ], \n",
        "    ['bread', 'butter', 'cookies' ], \n",
        "    ['beer', 'cookies', 'diapers' ], \n",
        "    [ 'milk', 'diapers', 'bread', 'butter' ], \n",
        "    ['bread', 'butter', 'diapers'], \n",
        "    [ 'beer', 'diapers' ], \n",
        "    ['milk', 'diapers', 'bread', 'butter' ], \n",
        "    ['beer', 'cookies' ]]\n",
        "dict_data = {'items': a}\n",
        "df = pd.DataFrame.from_dict(dict_data)\n",
        "df"
      ],
      "execution_count": null,
      "outputs": [
        {
          "output_type": "execute_result",
          "data": {
            "text/html": [
              "<div>\n",
              "<style scoped>\n",
              "    .dataframe tbody tr th:only-of-type {\n",
              "        vertical-align: middle;\n",
              "    }\n",
              "\n",
              "    .dataframe tbody tr th {\n",
              "        vertical-align: top;\n",
              "    }\n",
              "\n",
              "    .dataframe thead th {\n",
              "        text-align: right;\n",
              "    }\n",
              "</style>\n",
              "<table border=\"1\" class=\"dataframe\">\n",
              "  <thead>\n",
              "    <tr style=\"text-align: right;\">\n",
              "      <th></th>\n",
              "      <th>items</th>\n",
              "    </tr>\n",
              "  </thead>\n",
              "  <tbody>\n",
              "    <tr>\n",
              "      <th>0</th>\n",
              "      <td>[milk, beer, diapers]</td>\n",
              "    </tr>\n",
              "    <tr>\n",
              "      <th>1</th>\n",
              "      <td>[bread, butter, milk]</td>\n",
              "    </tr>\n",
              "    <tr>\n",
              "      <th>2</th>\n",
              "      <td>[milk, diapers, cookies]</td>\n",
              "    </tr>\n",
              "    <tr>\n",
              "      <th>3</th>\n",
              "      <td>[bread, butter, cookies]</td>\n",
              "    </tr>\n",
              "    <tr>\n",
              "      <th>4</th>\n",
              "      <td>[beer, cookies, diapers]</td>\n",
              "    </tr>\n",
              "    <tr>\n",
              "      <th>5</th>\n",
              "      <td>[milk, diapers, bread, butter]</td>\n",
              "    </tr>\n",
              "    <tr>\n",
              "      <th>6</th>\n",
              "      <td>[bread, butter, diapers]</td>\n",
              "    </tr>\n",
              "    <tr>\n",
              "      <th>7</th>\n",
              "      <td>[beer, diapers]</td>\n",
              "    </tr>\n",
              "    <tr>\n",
              "      <th>8</th>\n",
              "      <td>[milk, diapers, bread, butter]</td>\n",
              "    </tr>\n",
              "    <tr>\n",
              "      <th>9</th>\n",
              "      <td>[beer, cookies]</td>\n",
              "    </tr>\n",
              "  </tbody>\n",
              "</table>\n",
              "</div>"
            ],
            "text/plain": [
              "                            items\n",
              "0           [milk, beer, diapers]\n",
              "1           [bread, butter, milk]\n",
              "2        [milk, diapers, cookies]\n",
              "3        [bread, butter, cookies]\n",
              "4        [beer, cookies, diapers]\n",
              "5  [milk, diapers, bread, butter]\n",
              "6        [bread, butter, diapers]\n",
              "7                 [beer, diapers]\n",
              "8  [milk, diapers, bread, butter]\n",
              "9                 [beer, cookies]"
            ]
          },
          "metadata": {
            "tags": []
          },
          "execution_count": 106
        }
      ]
    },
    {
      "cell_type": "code",
      "metadata": {
        "colab": {
          "base_uri": "https://localhost:8080/"
        },
        "id": "wxfdvCJ5lHRQ",
        "outputId": "b5d35703-7f23-491f-d055-ad459b1169cc"
      },
      "source": [
        "# Se valida los distintos productos que tenemos\n",
        "items = []\n",
        "for i in range(len(df)):\n",
        "    for j in range(len(df['items'][i])):\n",
        "        items.append(df['items'][i][j])\n",
        "unique_item = set(items)\n",
        "list_unique_item = list(unique_item)\n",
        "list_unique_item"
      ],
      "execution_count": null,
      "outputs": [
        {
          "output_type": "execute_result",
          "data": {
            "text/plain": [
              "['cookies', 'bread', 'beer', 'milk', 'butter', 'diapers']"
            ]
          },
          "metadata": {
            "tags": []
          },
          "execution_count": 108
        }
      ]
    },
    {
      "cell_type": "markdown",
      "metadata": {
        "id": "zDEPzjusmCCr"
      },
      "source": [
        "Selección de productos **k=1**"
      ]
    },
    {
      "cell_type": "code",
      "metadata": {
        "colab": {
          "base_uri": "https://localhost:8080/"
        },
        "id": "R_doVtMZleJu",
        "outputId": "23717b83-62d6-4c67-ffad-de4f03848694"
      },
      "source": [
        "##Creando el primer candidate K= 1\n",
        "count_unique = []\n",
        "for value in (list_unique_item):\n",
        "    count_unique.append((value, items.count(value)))\n",
        "count_unique"
      ],
      "execution_count": null,
      "outputs": [
        {
          "output_type": "execute_result",
          "data": {
            "text/plain": [
              "[('cookies', 4),\n",
              " ('bread', 5),\n",
              " ('beer', 4),\n",
              " ('milk', 5),\n",
              " ('butter', 5),\n",
              " ('diapers', 7)]"
            ]
          },
          "metadata": {
            "tags": []
          },
          "execution_count": 109
        }
      ]
    },
    {
      "cell_type": "code",
      "metadata": {
        "colab": {
          "base_uri": "https://localhost:8080/",
          "height": 220
        },
        "id": "Ay4RdYFpllEc",
        "outputId": "21c566e0-1ac6-4139-daac-bd865048df9e"
      },
      "source": [
        "# Se crea un Dataframe con los cantidatos k=1 \n",
        "candidate1_df = pd.DataFrame(count_unique, columns=[\"itemset\", \"sup\"])\n",
        "candidate1_df"
      ],
      "execution_count": null,
      "outputs": [
        {
          "output_type": "execute_result",
          "data": {
            "text/html": [
              "<div>\n",
              "<style scoped>\n",
              "    .dataframe tbody tr th:only-of-type {\n",
              "        vertical-align: middle;\n",
              "    }\n",
              "\n",
              "    .dataframe tbody tr th {\n",
              "        vertical-align: top;\n",
              "    }\n",
              "\n",
              "    .dataframe thead th {\n",
              "        text-align: right;\n",
              "    }\n",
              "</style>\n",
              "<table border=\"1\" class=\"dataframe\">\n",
              "  <thead>\n",
              "    <tr style=\"text-align: right;\">\n",
              "      <th></th>\n",
              "      <th>itemset</th>\n",
              "      <th>sup</th>\n",
              "    </tr>\n",
              "  </thead>\n",
              "  <tbody>\n",
              "    <tr>\n",
              "      <th>0</th>\n",
              "      <td>cookies</td>\n",
              "      <td>4</td>\n",
              "    </tr>\n",
              "    <tr>\n",
              "      <th>1</th>\n",
              "      <td>bread</td>\n",
              "      <td>5</td>\n",
              "    </tr>\n",
              "    <tr>\n",
              "      <th>2</th>\n",
              "      <td>beer</td>\n",
              "      <td>4</td>\n",
              "    </tr>\n",
              "    <tr>\n",
              "      <th>3</th>\n",
              "      <td>milk</td>\n",
              "      <td>5</td>\n",
              "    </tr>\n",
              "    <tr>\n",
              "      <th>4</th>\n",
              "      <td>butter</td>\n",
              "      <td>5</td>\n",
              "    </tr>\n",
              "    <tr>\n",
              "      <th>5</th>\n",
              "      <td>diapers</td>\n",
              "      <td>7</td>\n",
              "    </tr>\n",
              "  </tbody>\n",
              "</table>\n",
              "</div>"
            ],
            "text/plain": [
              "   itemset  sup\n",
              "0  cookies    4\n",
              "1    bread    5\n",
              "2     beer    4\n",
              "3     milk    5\n",
              "4   butter    5\n",
              "5  diapers    7"
            ]
          },
          "metadata": {
            "tags": []
          },
          "execution_count": 110
        }
      ]
    },
    {
      "cell_type": "code",
      "metadata": {
        "id": "qXA6cRPGlytZ"
      },
      "source": [
        "#Creación de function que se lecciona la Frecuencia del itemSet (L1)\n",
        "def filter_sup(candidate):\n",
        "    minimum_sup = 2\n",
        "    filtering = candidate['sup'] > minimum_sup\n",
        "    freq = candidate[filtering]\n",
        "    return freq"
      ],
      "execution_count": null,
      "outputs": []
    },
    {
      "cell_type": "code",
      "metadata": {
        "colab": {
          "base_uri": "https://localhost:8080/",
          "height": 220
        },
        "id": "DPEqj6A1l58k",
        "outputId": "a56521a8-f8e4-44a3-d992-75e2529bcc61"
      },
      "source": [
        "freq_itemset1 = filter_sup(candidate1_df)\n",
        "freq_itemset1"
      ],
      "execution_count": null,
      "outputs": [
        {
          "output_type": "execute_result",
          "data": {
            "text/html": [
              "<div>\n",
              "<style scoped>\n",
              "    .dataframe tbody tr th:only-of-type {\n",
              "        vertical-align: middle;\n",
              "    }\n",
              "\n",
              "    .dataframe tbody tr th {\n",
              "        vertical-align: top;\n",
              "    }\n",
              "\n",
              "    .dataframe thead th {\n",
              "        text-align: right;\n",
              "    }\n",
              "</style>\n",
              "<table border=\"1\" class=\"dataframe\">\n",
              "  <thead>\n",
              "    <tr style=\"text-align: right;\">\n",
              "      <th></th>\n",
              "      <th>itemset</th>\n",
              "      <th>sup</th>\n",
              "    </tr>\n",
              "  </thead>\n",
              "  <tbody>\n",
              "    <tr>\n",
              "      <th>0</th>\n",
              "      <td>cookies</td>\n",
              "      <td>4</td>\n",
              "    </tr>\n",
              "    <tr>\n",
              "      <th>1</th>\n",
              "      <td>bread</td>\n",
              "      <td>5</td>\n",
              "    </tr>\n",
              "    <tr>\n",
              "      <th>2</th>\n",
              "      <td>beer</td>\n",
              "      <td>4</td>\n",
              "    </tr>\n",
              "    <tr>\n",
              "      <th>3</th>\n",
              "      <td>milk</td>\n",
              "      <td>5</td>\n",
              "    </tr>\n",
              "    <tr>\n",
              "      <th>4</th>\n",
              "      <td>butter</td>\n",
              "      <td>5</td>\n",
              "    </tr>\n",
              "    <tr>\n",
              "      <th>5</th>\n",
              "      <td>diapers</td>\n",
              "      <td>7</td>\n",
              "    </tr>\n",
              "  </tbody>\n",
              "</table>\n",
              "</div>"
            ],
            "text/plain": [
              "   itemset  sup\n",
              "0  cookies    4\n",
              "1    bread    5\n",
              "2     beer    4\n",
              "3     milk    5\n",
              "4   butter    5\n",
              "5  diapers    7"
            ]
          },
          "metadata": {
            "tags": []
          },
          "execution_count": 112
        }
      ]
    },
    {
      "cell_type": "markdown",
      "metadata": {
        "id": "cQHQrcxgmGCy"
      },
      "source": [
        "Selección de productos **k=2**"
      ]
    },
    {
      "cell_type": "code",
      "metadata": {
        "id": "AZB-AMSbmACX"
      },
      "source": [
        "#Se define la función Creación de K=2 , grupos de 2 ingredientes\n",
        "def self_join(prev_freq_itemset):\n",
        "    self_join_candidate = []\n",
        "    for i in range(len(prev_freq_itemset['itemset'])):\n",
        "        for j in range((i+1), len(prev_freq_itemset['itemset'])):\n",
        "            itemset_i = prev_freq_itemset['itemset'][i]\n",
        "            itemset_j = prev_freq_itemset['itemset'][j]\n",
        "            if (type(itemset_i) == np.str and type(itemset_j) == np.str): #Nota: En este punto se debe validar con el tipo de dato en este caso son string\n",
        "                itemset_i = {itemset_i}\n",
        "                itemset_j = {itemset_j}\n",
        "            union_candidate = itemset_i.union(itemset_j)\n",
        "            if union_candidate not in self_join_candidate:\n",
        "                self_join_candidate.append(union_candidate)\n",
        "    return self_join_candidate"
      ],
      "execution_count": null,
      "outputs": []
    },
    {
      "cell_type": "code",
      "metadata": {
        "colab": {
          "base_uri": "https://localhost:8080/",
          "height": 478
        },
        "id": "r2TbNWk7mzaA",
        "outputId": "97d46515-63b8-4b99-b8e2-d998b23333f7"
      },
      "source": [
        "#Lista de posibles combinaciones de 2 productos \n",
        "candidate2_list = self_join(freq_itemset1)\n",
        "candidate2_list\n",
        "count_candidate2 = []\n",
        "#Set the Initial value of Second Count Candidate (C2)\n",
        "for i in range(len(candidate2_list)):\n",
        "    count_candidate2.append((candidate2_list[i], 0))\n",
        "initial_df_candidate = pd.DataFrame(count_candidate2, columns=['itemset', 'sup'])\n",
        "initial_df_candidate"
      ],
      "execution_count": null,
      "outputs": [
        {
          "output_type": "execute_result",
          "data": {
            "text/html": [
              "<div>\n",
              "<style scoped>\n",
              "    .dataframe tbody tr th:only-of-type {\n",
              "        vertical-align: middle;\n",
              "    }\n",
              "\n",
              "    .dataframe tbody tr th {\n",
              "        vertical-align: top;\n",
              "    }\n",
              "\n",
              "    .dataframe thead th {\n",
              "        text-align: right;\n",
              "    }\n",
              "</style>\n",
              "<table border=\"1\" class=\"dataframe\">\n",
              "  <thead>\n",
              "    <tr style=\"text-align: right;\">\n",
              "      <th></th>\n",
              "      <th>itemset</th>\n",
              "      <th>sup</th>\n",
              "    </tr>\n",
              "  </thead>\n",
              "  <tbody>\n",
              "    <tr>\n",
              "      <th>0</th>\n",
              "      <td>{bread, cookies}</td>\n",
              "      <td>0</td>\n",
              "    </tr>\n",
              "    <tr>\n",
              "      <th>1</th>\n",
              "      <td>{beer, cookies}</td>\n",
              "      <td>0</td>\n",
              "    </tr>\n",
              "    <tr>\n",
              "      <th>2</th>\n",
              "      <td>{milk, cookies}</td>\n",
              "      <td>0</td>\n",
              "    </tr>\n",
              "    <tr>\n",
              "      <th>3</th>\n",
              "      <td>{butter, cookies}</td>\n",
              "      <td>0</td>\n",
              "    </tr>\n",
              "    <tr>\n",
              "      <th>4</th>\n",
              "      <td>{cookies, diapers}</td>\n",
              "      <td>0</td>\n",
              "    </tr>\n",
              "    <tr>\n",
              "      <th>5</th>\n",
              "      <td>{bread, beer}</td>\n",
              "      <td>0</td>\n",
              "    </tr>\n",
              "    <tr>\n",
              "      <th>6</th>\n",
              "      <td>{bread, milk}</td>\n",
              "      <td>0</td>\n",
              "    </tr>\n",
              "    <tr>\n",
              "      <th>7</th>\n",
              "      <td>{bread, butter}</td>\n",
              "      <td>0</td>\n",
              "    </tr>\n",
              "    <tr>\n",
              "      <th>8</th>\n",
              "      <td>{bread, diapers}</td>\n",
              "      <td>0</td>\n",
              "    </tr>\n",
              "    <tr>\n",
              "      <th>9</th>\n",
              "      <td>{beer, milk}</td>\n",
              "      <td>0</td>\n",
              "    </tr>\n",
              "    <tr>\n",
              "      <th>10</th>\n",
              "      <td>{beer, butter}</td>\n",
              "      <td>0</td>\n",
              "    </tr>\n",
              "    <tr>\n",
              "      <th>11</th>\n",
              "      <td>{beer, diapers}</td>\n",
              "      <td>0</td>\n",
              "    </tr>\n",
              "    <tr>\n",
              "      <th>12</th>\n",
              "      <td>{milk, butter}</td>\n",
              "      <td>0</td>\n",
              "    </tr>\n",
              "    <tr>\n",
              "      <th>13</th>\n",
              "      <td>{milk, diapers}</td>\n",
              "      <td>0</td>\n",
              "    </tr>\n",
              "    <tr>\n",
              "      <th>14</th>\n",
              "      <td>{butter, diapers}</td>\n",
              "      <td>0</td>\n",
              "    </tr>\n",
              "  </tbody>\n",
              "</table>\n",
              "</div>"
            ],
            "text/plain": [
              "               itemset  sup\n",
              "0     {bread, cookies}    0\n",
              "1      {beer, cookies}    0\n",
              "2      {milk, cookies}    0\n",
              "3    {butter, cookies}    0\n",
              "4   {cookies, diapers}    0\n",
              "5        {bread, beer}    0\n",
              "6        {bread, milk}    0\n",
              "7      {bread, butter}    0\n",
              "8     {bread, diapers}    0\n",
              "9         {beer, milk}    0\n",
              "10      {beer, butter}    0\n",
              "11     {beer, diapers}    0\n",
              "12      {milk, butter}    0\n",
              "13     {milk, diapers}    0\n",
              "14   {butter, diapers}    0"
            ]
          },
          "metadata": {
            "tags": []
          },
          "execution_count": 115
        }
      ]
    },
    {
      "cell_type": "code",
      "metadata": {
        "id": "3OOax1iznVL-"
      },
      "source": [
        "#Función para el conteo de posibles parejas\n",
        "def count_support(database_dataframe, prev_candidate_list):\n",
        "    initial_df_candidate['sup'] = 0 #Se establece todo con 0 solo para el valor inicial\n",
        "    count_prev_candidate = []\n",
        "\n",
        "    #Set the Initial value of Previous Candidate\n",
        "    for i in range(len(prev_candidate_list)):\n",
        "        count_prev_candidate.append((prev_candidate_list[i], 0))\n",
        "    \n",
        "    df_candidate = pd.DataFrame(count_prev_candidate, columns=['itemset', 'sup'])\n",
        "    print('Database D dataframe\\n', database_dataframe)\n",
        "    print('(Initial) Dataframe from Candidate with All zeros sup\\n', df_candidate)\n",
        "    \n",
        "    for i in range(len(database_dataframe)):\n",
        "        for j in range(len(count_prev_candidate)):\n",
        "            #using issubset() function to check whether every itemset is a subset of Database or not\n",
        "            if (df_candidate['itemset'][j]).issubset(set(database_dataframe['items'][i])): \n",
        "                df_candidate.loc[j, 'sup'] += 1\n",
        "            \n",
        "    return df_candidate"
      ],
      "execution_count": null,
      "outputs": []
    },
    {
      "cell_type": "code",
      "metadata": {
        "colab": {
          "base_uri": "https://localhost:8080/"
        },
        "id": "5e_1mFUSnmlO",
        "outputId": "357d7788-ccd9-4ef1-cb9c-9399bcddc9c6"
      },
      "source": [
        "count_candidate2_df = count_support(df, candidate2_list)"
      ],
      "execution_count": null,
      "outputs": [
        {
          "output_type": "stream",
          "text": [
            "Database D dataframe\n",
            "                             items\n",
            "0           [milk, beer, diapers]\n",
            "1           [bread, butter, milk]\n",
            "2        [milk, diapers, cookies]\n",
            "3        [bread, butter, cookies]\n",
            "4        [beer, cookies, diapers]\n",
            "5  [milk, diapers, bread, butter]\n",
            "6        [bread, butter, diapers]\n",
            "7                 [beer, diapers]\n",
            "8  [milk, diapers, bread, butter]\n",
            "9                 [beer, cookies]\n",
            "(Initial) Dataframe from Candidate with All zeros sup\n",
            "                itemset  sup\n",
            "0     {bread, cookies}    0\n",
            "1      {beer, cookies}    0\n",
            "2      {milk, cookies}    0\n",
            "3    {butter, cookies}    0\n",
            "4   {cookies, diapers}    0\n",
            "5        {bread, beer}    0\n",
            "6        {bread, milk}    0\n",
            "7      {bread, butter}    0\n",
            "8     {bread, diapers}    0\n",
            "9         {beer, milk}    0\n",
            "10      {beer, butter}    0\n",
            "11     {beer, diapers}    0\n",
            "12      {milk, butter}    0\n",
            "13     {milk, diapers}    0\n",
            "14   {butter, diapers}    0\n"
          ],
          "name": "stdout"
        }
      ]
    },
    {
      "cell_type": "code",
      "metadata": {
        "colab": {
          "base_uri": "https://localhost:8080/",
          "height": 478
        },
        "id": "uMyPFHxcnr2x",
        "outputId": "b3797b63-e40e-4e99-d24f-dfa67d79d201"
      },
      "source": [
        "count_candidate2_df"
      ],
      "execution_count": null,
      "outputs": [
        {
          "output_type": "execute_result",
          "data": {
            "text/html": [
              "<div>\n",
              "<style scoped>\n",
              "    .dataframe tbody tr th:only-of-type {\n",
              "        vertical-align: middle;\n",
              "    }\n",
              "\n",
              "    .dataframe tbody tr th {\n",
              "        vertical-align: top;\n",
              "    }\n",
              "\n",
              "    .dataframe thead th {\n",
              "        text-align: right;\n",
              "    }\n",
              "</style>\n",
              "<table border=\"1\" class=\"dataframe\">\n",
              "  <thead>\n",
              "    <tr style=\"text-align: right;\">\n",
              "      <th></th>\n",
              "      <th>itemset</th>\n",
              "      <th>sup</th>\n",
              "    </tr>\n",
              "  </thead>\n",
              "  <tbody>\n",
              "    <tr>\n",
              "      <th>0</th>\n",
              "      <td>{bread, cookies}</td>\n",
              "      <td>1</td>\n",
              "    </tr>\n",
              "    <tr>\n",
              "      <th>1</th>\n",
              "      <td>{beer, cookies}</td>\n",
              "      <td>2</td>\n",
              "    </tr>\n",
              "    <tr>\n",
              "      <th>2</th>\n",
              "      <td>{milk, cookies}</td>\n",
              "      <td>1</td>\n",
              "    </tr>\n",
              "    <tr>\n",
              "      <th>3</th>\n",
              "      <td>{butter, cookies}</td>\n",
              "      <td>1</td>\n",
              "    </tr>\n",
              "    <tr>\n",
              "      <th>4</th>\n",
              "      <td>{cookies, diapers}</td>\n",
              "      <td>2</td>\n",
              "    </tr>\n",
              "    <tr>\n",
              "      <th>5</th>\n",
              "      <td>{bread, beer}</td>\n",
              "      <td>0</td>\n",
              "    </tr>\n",
              "    <tr>\n",
              "      <th>6</th>\n",
              "      <td>{bread, milk}</td>\n",
              "      <td>3</td>\n",
              "    </tr>\n",
              "    <tr>\n",
              "      <th>7</th>\n",
              "      <td>{bread, butter}</td>\n",
              "      <td>5</td>\n",
              "    </tr>\n",
              "    <tr>\n",
              "      <th>8</th>\n",
              "      <td>{bread, diapers}</td>\n",
              "      <td>3</td>\n",
              "    </tr>\n",
              "    <tr>\n",
              "      <th>9</th>\n",
              "      <td>{beer, milk}</td>\n",
              "      <td>1</td>\n",
              "    </tr>\n",
              "    <tr>\n",
              "      <th>10</th>\n",
              "      <td>{beer, butter}</td>\n",
              "      <td>0</td>\n",
              "    </tr>\n",
              "    <tr>\n",
              "      <th>11</th>\n",
              "      <td>{beer, diapers}</td>\n",
              "      <td>3</td>\n",
              "    </tr>\n",
              "    <tr>\n",
              "      <th>12</th>\n",
              "      <td>{milk, butter}</td>\n",
              "      <td>3</td>\n",
              "    </tr>\n",
              "    <tr>\n",
              "      <th>13</th>\n",
              "      <td>{milk, diapers}</td>\n",
              "      <td>4</td>\n",
              "    </tr>\n",
              "    <tr>\n",
              "      <th>14</th>\n",
              "      <td>{butter, diapers}</td>\n",
              "      <td>3</td>\n",
              "    </tr>\n",
              "  </tbody>\n",
              "</table>\n",
              "</div>"
            ],
            "text/plain": [
              "               itemset  sup\n",
              "0     {bread, cookies}    1\n",
              "1      {beer, cookies}    2\n",
              "2      {milk, cookies}    1\n",
              "3    {butter, cookies}    1\n",
              "4   {cookies, diapers}    2\n",
              "5        {bread, beer}    0\n",
              "6        {bread, milk}    3\n",
              "7      {bread, butter}    5\n",
              "8     {bread, diapers}    3\n",
              "9         {beer, milk}    1\n",
              "10      {beer, butter}    0\n",
              "11     {beer, diapers}    3\n",
              "12      {milk, butter}    3\n",
              "13     {milk, diapers}    4\n",
              "14   {butter, diapers}    3"
            ]
          },
          "metadata": {
            "tags": []
          },
          "execution_count": 118
        }
      ]
    },
    {
      "cell_type": "code",
      "metadata": {
        "colab": {
          "base_uri": "https://localhost:8080/",
          "height": 248
        },
        "id": "spmRESDmnvrk",
        "outputId": "9fe4fcf5-e2c4-4b43-bbcf-72dfd2ddc343"
      },
      "source": [
        "#Calculo de frecuencia de dos items\n",
        "# Se filtra basado en el mínimo soporte que en este caso es 3\n",
        "freq_itemset2 = filter_sup(count_candidate2_df)\n",
        "freq_itemset2_reset = freq_itemset2.reset_index(drop=True)\n",
        "freq_itemset2_reset"
      ],
      "execution_count": null,
      "outputs": [
        {
          "output_type": "execute_result",
          "data": {
            "text/html": [
              "<div>\n",
              "<style scoped>\n",
              "    .dataframe tbody tr th:only-of-type {\n",
              "        vertical-align: middle;\n",
              "    }\n",
              "\n",
              "    .dataframe tbody tr th {\n",
              "        vertical-align: top;\n",
              "    }\n",
              "\n",
              "    .dataframe thead th {\n",
              "        text-align: right;\n",
              "    }\n",
              "</style>\n",
              "<table border=\"1\" class=\"dataframe\">\n",
              "  <thead>\n",
              "    <tr style=\"text-align: right;\">\n",
              "      <th></th>\n",
              "      <th>itemset</th>\n",
              "      <th>sup</th>\n",
              "    </tr>\n",
              "  </thead>\n",
              "  <tbody>\n",
              "    <tr>\n",
              "      <th>0</th>\n",
              "      <td>{bread, milk}</td>\n",
              "      <td>3</td>\n",
              "    </tr>\n",
              "    <tr>\n",
              "      <th>1</th>\n",
              "      <td>{bread, butter}</td>\n",
              "      <td>5</td>\n",
              "    </tr>\n",
              "    <tr>\n",
              "      <th>2</th>\n",
              "      <td>{bread, diapers}</td>\n",
              "      <td>3</td>\n",
              "    </tr>\n",
              "    <tr>\n",
              "      <th>3</th>\n",
              "      <td>{beer, diapers}</td>\n",
              "      <td>3</td>\n",
              "    </tr>\n",
              "    <tr>\n",
              "      <th>4</th>\n",
              "      <td>{milk, butter}</td>\n",
              "      <td>3</td>\n",
              "    </tr>\n",
              "    <tr>\n",
              "      <th>5</th>\n",
              "      <td>{milk, diapers}</td>\n",
              "      <td>4</td>\n",
              "    </tr>\n",
              "    <tr>\n",
              "      <th>6</th>\n",
              "      <td>{butter, diapers}</td>\n",
              "      <td>3</td>\n",
              "    </tr>\n",
              "  </tbody>\n",
              "</table>\n",
              "</div>"
            ],
            "text/plain": [
              "             itemset  sup\n",
              "0      {bread, milk}    3\n",
              "1    {bread, butter}    5\n",
              "2   {bread, diapers}    3\n",
              "3    {beer, diapers}    3\n",
              "4     {milk, butter}    3\n",
              "5    {milk, diapers}    4\n",
              "6  {butter, diapers}    3"
            ]
          },
          "metadata": {
            "tags": []
          },
          "execution_count": 119
        }
      ]
    },
    {
      "cell_type": "markdown",
      "metadata": {
        "id": "vmnHrLf9rc_w"
      },
      "source": [
        "Selección de productos **k=3**"
      ]
    },
    {
      "cell_type": "code",
      "metadata": {
        "colab": {
          "base_uri": "https://localhost:8080/"
        },
        "id": "KI1zk4EArhxR",
        "outputId": "195d4b2b-9425-49ba-c143-99ad6f477615"
      },
      "source": [
        "#Creación de K=3 , grupos de 3 ingredientes\n",
        "print(freq_itemset2_reset)\n",
        "self_join_result = self_join(freq_itemset2_reset)\n",
        "print('self join result')\n",
        "print(self_join_result)"
      ],
      "execution_count": null,
      "outputs": [
        {
          "output_type": "stream",
          "text": [
            "             itemset  sup\n",
            "0      {bread, milk}    3\n",
            "1    {bread, butter}    5\n",
            "2   {bread, diapers}    3\n",
            "3    {beer, diapers}    3\n",
            "4     {milk, butter}    3\n",
            "5    {milk, diapers}    4\n",
            "6  {butter, diapers}    3\n",
            "self join result\n",
            "[{'bread', 'milk', 'butter'}, {'bread', 'milk', 'diapers'}, {'bread', 'milk', 'beer', 'diapers'}, {'bread', 'milk', 'butter', 'diapers'}, {'bread', 'butter', 'diapers'}, {'bread', 'butter', 'beer', 'diapers'}, {'bread', 'beer', 'diapers'}, {'beer', 'milk', 'butter', 'diapers'}, {'beer', 'milk', 'diapers'}, {'beer', 'butter', 'diapers'}, {'milk', 'butter', 'diapers'}]\n"
          ],
          "name": "stdout"
        }
      ]
    },
    {
      "cell_type": "code",
      "metadata": {
        "id": "53dcALVHroHU"
      },
      "source": [
        "def get_subset(candidate):\n",
        "    temp = []\n",
        "    final = []\n",
        "    for i in range(len(candidate)):\n",
        "        for j in range(len(candidate)):\n",
        "            if i != j:\n",
        "                temp.append(candidate[j])\n",
        "        temp_set = set(temp)\n",
        "        final.append(temp_set)\n",
        "        temp.clear()\n",
        "    print('Subset from {} : {}'.format(candidate, final))\n",
        "    return final\n",
        "\n",
        "def pruning(candidate_set, prev_freq_itemset):\n",
        "    print('Candidate set', candidate_set)\n",
        "    temp = []\n",
        "    \n",
        "    for idx, value in enumerate(candidate_set):\n",
        "        list_candidate = list(value)\n",
        "        temp_candidate = (get_subset(list_candidate))\n",
        "        \n",
        "        for temp_item in temp_candidate:\n",
        "            print('Temp item', temp_item)\n",
        "            check = temp_item == prev_freq_itemset['itemset']\n",
        "            print('\\nCheck candidate from Previous Frequent Itemset\\n', check)\n",
        "            \n",
        "            if any(check) == False:\n",
        "                print(any(check))\n",
        "                print('Val', value)\n",
        "            else:\n",
        "                print('\\nAll of {} subset contained in \\n{}'.format(candidate_set, prev_freq_itemset))\n",
        "                if value not in temp:\n",
        "                    temp.append(value)\n",
        "                \n",
        "    return temp"
      ],
      "execution_count": null,
      "outputs": []
    },
    {
      "cell_type": "code",
      "metadata": {
        "colab": {
          "base_uri": "https://localhost:8080/",
          "height": 427
        },
        "id": "J4m8_fhxrw6p",
        "outputId": "ea6049ea-265e-4812-daca-0eae716df470"
      },
      "source": [
        "for i in range(len(self_join_result)):\n",
        "    get_subset(list(self_join_result[i]))\n",
        "freq_itemset2_reset"
      ],
      "execution_count": null,
      "outputs": [
        {
          "output_type": "stream",
          "text": [
            "Subset from ['bread', 'milk', 'butter'] : [{'milk', 'butter'}, {'bread', 'butter'}, {'bread', 'milk'}]\n",
            "Subset from ['bread', 'milk', 'diapers'] : [{'milk', 'diapers'}, {'bread', 'diapers'}, {'bread', 'milk'}]\n",
            "Subset from ['bread', 'milk', 'beer', 'diapers'] : [{'milk', 'beer', 'diapers'}, {'bread', 'beer', 'diapers'}, {'bread', 'milk', 'diapers'}, {'bread', 'milk', 'beer'}]\n",
            "Subset from ['bread', 'milk', 'butter', 'diapers'] : [{'milk', 'butter', 'diapers'}, {'bread', 'butter', 'diapers'}, {'bread', 'milk', 'diapers'}, {'bread', 'milk', 'butter'}]\n",
            "Subset from ['bread', 'butter', 'diapers'] : [{'butter', 'diapers'}, {'bread', 'diapers'}, {'bread', 'butter'}]\n",
            "Subset from ['bread', 'butter', 'beer', 'diapers'] : [{'beer', 'butter', 'diapers'}, {'bread', 'beer', 'diapers'}, {'bread', 'butter', 'diapers'}, {'bread', 'butter', 'beer'}]\n",
            "Subset from ['bread', 'beer', 'diapers'] : [{'beer', 'diapers'}, {'bread', 'diapers'}, {'bread', 'beer'}]\n",
            "Subset from ['beer', 'milk', 'butter', 'diapers'] : [{'milk', 'butter', 'diapers'}, {'beer', 'butter', 'diapers'}, {'beer', 'milk', 'diapers'}, {'beer', 'milk', 'butter'}]\n",
            "Subset from ['beer', 'milk', 'diapers'] : [{'milk', 'diapers'}, {'beer', 'diapers'}, {'beer', 'milk'}]\n",
            "Subset from ['beer', 'butter', 'diapers'] : [{'butter', 'diapers'}, {'beer', 'diapers'}, {'beer', 'butter'}]\n",
            "Subset from ['milk', 'butter', 'diapers'] : [{'butter', 'diapers'}, {'milk', 'diapers'}, {'milk', 'butter'}]\n"
          ],
          "name": "stdout"
        },
        {
          "output_type": "execute_result",
          "data": {
            "text/html": [
              "<div>\n",
              "<style scoped>\n",
              "    .dataframe tbody tr th:only-of-type {\n",
              "        vertical-align: middle;\n",
              "    }\n",
              "\n",
              "    .dataframe tbody tr th {\n",
              "        vertical-align: top;\n",
              "    }\n",
              "\n",
              "    .dataframe thead th {\n",
              "        text-align: right;\n",
              "    }\n",
              "</style>\n",
              "<table border=\"1\" class=\"dataframe\">\n",
              "  <thead>\n",
              "    <tr style=\"text-align: right;\">\n",
              "      <th></th>\n",
              "      <th>itemset</th>\n",
              "      <th>sup</th>\n",
              "    </tr>\n",
              "  </thead>\n",
              "  <tbody>\n",
              "    <tr>\n",
              "      <th>0</th>\n",
              "      <td>{bread, milk}</td>\n",
              "      <td>3</td>\n",
              "    </tr>\n",
              "    <tr>\n",
              "      <th>1</th>\n",
              "      <td>{bread, butter}</td>\n",
              "      <td>5</td>\n",
              "    </tr>\n",
              "    <tr>\n",
              "      <th>2</th>\n",
              "      <td>{bread, diapers}</td>\n",
              "      <td>3</td>\n",
              "    </tr>\n",
              "    <tr>\n",
              "      <th>3</th>\n",
              "      <td>{beer, diapers}</td>\n",
              "      <td>3</td>\n",
              "    </tr>\n",
              "    <tr>\n",
              "      <th>4</th>\n",
              "      <td>{milk, butter}</td>\n",
              "      <td>3</td>\n",
              "    </tr>\n",
              "    <tr>\n",
              "      <th>5</th>\n",
              "      <td>{milk, diapers}</td>\n",
              "      <td>4</td>\n",
              "    </tr>\n",
              "    <tr>\n",
              "      <th>6</th>\n",
              "      <td>{butter, diapers}</td>\n",
              "      <td>3</td>\n",
              "    </tr>\n",
              "  </tbody>\n",
              "</table>\n",
              "</div>"
            ],
            "text/plain": [
              "             itemset  sup\n",
              "0      {bread, milk}    3\n",
              "1    {bread, butter}    5\n",
              "2   {bread, diapers}    3\n",
              "3    {beer, diapers}    3\n",
              "4     {milk, butter}    3\n",
              "5    {milk, diapers}    4\n",
              "6  {butter, diapers}    3"
            ]
          },
          "metadata": {
            "tags": []
          },
          "execution_count": 123
        }
      ]
    },
    {
      "cell_type": "code",
      "metadata": {
        "id": "d42p3Lmmr6UW"
      },
      "source": [
        "candidate3_list = pruning(self_join_result, freq_itemset2_reset)"
      ],
      "execution_count": null,
      "outputs": []
    },
    {
      "cell_type": "code",
      "metadata": {
        "colab": {
          "base_uri": "https://localhost:8080/"
        },
        "id": "_Qp7qM8Sr9Bl",
        "outputId": "570e694f-88f4-445f-d0f9-9d1638bf11de"
      },
      "source": [
        "candidate3_list"
      ],
      "execution_count": null,
      "outputs": [
        {
          "output_type": "execute_result",
          "data": {
            "text/plain": [
              "[{'bread', 'butter', 'milk'},\n",
              " {'bread', 'diapers', 'milk'},\n",
              " {'bread', 'butter', 'diapers'},\n",
              " {'beer', 'bread', 'diapers'},\n",
              " {'beer', 'diapers', 'milk'},\n",
              " {'beer', 'butter', 'diapers'},\n",
              " {'butter', 'diapers', 'milk'}]"
            ]
          },
          "metadata": {
            "tags": []
          },
          "execution_count": 125
        }
      ]
    },
    {
      "cell_type": "code",
      "metadata": {
        "colab": {
          "base_uri": "https://localhost:8080/",
          "height": 590
        },
        "id": "lYyk3sDqsCva",
        "outputId": "030a54e4-eab5-43b0-f870-19f8b4d37a4d"
      },
      "source": [
        "#Calculo de frecuencia de tres productos \n",
        "count_candidate3_df = count_support(df, candidate3_list)\n",
        "count_candidate3_df"
      ],
      "execution_count": null,
      "outputs": [
        {
          "output_type": "stream",
          "text": [
            "Database D dataframe\n",
            "                             items\n",
            "0           [milk, beer, diapers]\n",
            "1           [bread, butter, milk]\n",
            "2        [milk, diapers, cookies]\n",
            "3        [bread, butter, cookies]\n",
            "4        [beer, cookies, diapers]\n",
            "5  [milk, diapers, bread, butter]\n",
            "6        [bread, butter, diapers]\n",
            "7                 [beer, diapers]\n",
            "8  [milk, diapers, bread, butter]\n",
            "9                 [beer, cookies]\n",
            "(Initial) Dataframe from Candidate with All zeros sup\n",
            "                     itemset  sup\n",
            "0     {bread, milk, butter}    0\n",
            "1    {bread, milk, diapers}    0\n",
            "2  {bread, butter, diapers}    0\n",
            "3    {bread, beer, diapers}    0\n",
            "4     {beer, milk, diapers}    0\n",
            "5   {beer, butter, diapers}    0\n",
            "6   {milk, butter, diapers}    0\n"
          ],
          "name": "stdout"
        },
        {
          "output_type": "execute_result",
          "data": {
            "text/html": [
              "<div>\n",
              "<style scoped>\n",
              "    .dataframe tbody tr th:only-of-type {\n",
              "        vertical-align: middle;\n",
              "    }\n",
              "\n",
              "    .dataframe tbody tr th {\n",
              "        vertical-align: top;\n",
              "    }\n",
              "\n",
              "    .dataframe thead th {\n",
              "        text-align: right;\n",
              "    }\n",
              "</style>\n",
              "<table border=\"1\" class=\"dataframe\">\n",
              "  <thead>\n",
              "    <tr style=\"text-align: right;\">\n",
              "      <th></th>\n",
              "      <th>itemset</th>\n",
              "      <th>sup</th>\n",
              "    </tr>\n",
              "  </thead>\n",
              "  <tbody>\n",
              "    <tr>\n",
              "      <th>0</th>\n",
              "      <td>{bread, milk, butter}</td>\n",
              "      <td>3</td>\n",
              "    </tr>\n",
              "    <tr>\n",
              "      <th>1</th>\n",
              "      <td>{bread, milk, diapers}</td>\n",
              "      <td>2</td>\n",
              "    </tr>\n",
              "    <tr>\n",
              "      <th>2</th>\n",
              "      <td>{bread, butter, diapers}</td>\n",
              "      <td>3</td>\n",
              "    </tr>\n",
              "    <tr>\n",
              "      <th>3</th>\n",
              "      <td>{bread, beer, diapers}</td>\n",
              "      <td>0</td>\n",
              "    </tr>\n",
              "    <tr>\n",
              "      <th>4</th>\n",
              "      <td>{beer, milk, diapers}</td>\n",
              "      <td>1</td>\n",
              "    </tr>\n",
              "    <tr>\n",
              "      <th>5</th>\n",
              "      <td>{beer, butter, diapers}</td>\n",
              "      <td>0</td>\n",
              "    </tr>\n",
              "    <tr>\n",
              "      <th>6</th>\n",
              "      <td>{milk, butter, diapers}</td>\n",
              "      <td>2</td>\n",
              "    </tr>\n",
              "  </tbody>\n",
              "</table>\n",
              "</div>"
            ],
            "text/plain": [
              "                    itemset  sup\n",
              "0     {bread, milk, butter}    3\n",
              "1    {bread, milk, diapers}    2\n",
              "2  {bread, butter, diapers}    3\n",
              "3    {bread, beer, diapers}    0\n",
              "4     {beer, milk, diapers}    1\n",
              "5   {beer, butter, diapers}    0\n",
              "6   {milk, butter, diapers}    2"
            ]
          },
          "metadata": {
            "tags": []
          },
          "execution_count": 126
        }
      ]
    },
    {
      "cell_type": "code",
      "metadata": {
        "colab": {
          "base_uri": "https://localhost:8080/",
          "height": 105
        },
        "id": "QW0-IRZ_sHqk",
        "outputId": "f093470e-10bf-4975-d362-c277ffdd9243"
      },
      "source": [
        "freq_itemset3 = filter_sup(count_candidate3_df)\n",
        "freq_itemset3"
      ],
      "execution_count": null,
      "outputs": [
        {
          "output_type": "execute_result",
          "data": {
            "text/html": [
              "<div>\n",
              "<style scoped>\n",
              "    .dataframe tbody tr th:only-of-type {\n",
              "        vertical-align: middle;\n",
              "    }\n",
              "\n",
              "    .dataframe tbody tr th {\n",
              "        vertical-align: top;\n",
              "    }\n",
              "\n",
              "    .dataframe thead th {\n",
              "        text-align: right;\n",
              "    }\n",
              "</style>\n",
              "<table border=\"1\" class=\"dataframe\">\n",
              "  <thead>\n",
              "    <tr style=\"text-align: right;\">\n",
              "      <th></th>\n",
              "      <th>itemset</th>\n",
              "      <th>sup</th>\n",
              "    </tr>\n",
              "  </thead>\n",
              "  <tbody>\n",
              "    <tr>\n",
              "      <th>0</th>\n",
              "      <td>{bread, milk, butter}</td>\n",
              "      <td>3</td>\n",
              "    </tr>\n",
              "    <tr>\n",
              "      <th>2</th>\n",
              "      <td>{bread, butter, diapers}</td>\n",
              "      <td>3</td>\n",
              "    </tr>\n",
              "  </tbody>\n",
              "</table>\n",
              "</div>"
            ],
            "text/plain": [
              "                    itemset  sup\n",
              "0     {bread, milk, butter}    3\n",
              "2  {bread, butter, diapers}    3"
            ]
          },
          "metadata": {
            "tags": []
          },
          "execution_count": 127
        }
      ]
    },
    {
      "cell_type": "code",
      "metadata": {
        "colab": {
          "base_uri": "https://localhost:8080/"
        },
        "id": "q0mxWlyhtALm",
        "outputId": "ea12dec4-7707-4ae7-9e33-b77a7ae09c9d"
      },
      "source": [
        "#Soporte = 15% confianza = 70% \n",
        "itemsets, rules = apriori(a, min_support=0.15,  min_confidence=0.70)\n",
        "countAssociationRules =  len(rules)\n",
        "results = list(itemsets)\n",
        "print(\"Soporte 15% Confianza 70% \")\n",
        "print(\"Cantidad de reglas de asociación \" + str(countAssociationRules))\n",
        "print(\"------------------------------------------- \")\n",
        "print(\"Reglas k=1\")\n",
        "rules_rhs = filter(lambda rule: len(rule.lhs) == 1 and len(rule.rhs) == 1, rules)\n",
        "for rule in sorted(rules_rhs, key=lambda rule: rule.lift):\n",
        "  print(rule)  # Prints the rule and its confidence, support, lift, ...\n",
        "print(\"------------------------------------------- \")\n",
        "print(\"Reglas k=2\")\n",
        "rules_rhs2 = filter(lambda rule: len(rule.lhs) == 2 and len(rule.rhs) == 1, rules)\n",
        "for rule in sorted(rules_rhs2, key=lambda rule: rule.lift):\n",
        "  print(rule)  # Prints the rule and its confidence, support, lift, ...\n",
        "print(\"------------------------------------------- \")\n",
        "print(\"Reglas k=3\")\n",
        "rules_rhs3 = filter(lambda rule: len(rule.lhs) == 3 and len(rule.rhs) == 1, rules)\n",
        "for rule in sorted(rules_rhs3, key=lambda rule: rule.lift):\n",
        "  print(rule)  # Prints the rule and its confidence, support, lift, ..."
      ],
      "execution_count": null,
      "outputs": [
        {
          "output_type": "stream",
          "text": [
            "Soporte 15% Confianza 70% \n",
            "Cantidad de reglas de asociación 10\n",
            "------------------------------------------- \n",
            "Reglas k=1\n",
            "{beer} -> {diapers} (conf: 0.750, supp: 0.300, lift: 1.071, conv: 1.200)\n",
            "{milk} -> {diapers} (conf: 0.800, supp: 0.400, lift: 1.143, conv: 1.500)\n",
            "{butter} -> {bread} (conf: 1.000, supp: 0.500, lift: 2.000, conv: 500000000.000)\n",
            "{bread} -> {butter} (conf: 1.000, supp: 0.500, lift: 2.000, conv: 500000000.000)\n",
            "------------------------------------------- \n",
            "Reglas k=2\n",
            "{butter, milk} -> {bread} (conf: 1.000, supp: 0.300, lift: 2.000, conv: 500000000.000)\n",
            "{bread, milk} -> {butter} (conf: 1.000, supp: 0.300, lift: 2.000, conv: 500000000.000)\n",
            "{butter, diapers} -> {bread} (conf: 1.000, supp: 0.300, lift: 2.000, conv: 500000000.000)\n",
            "{bread, diapers} -> {butter} (conf: 1.000, supp: 0.300, lift: 2.000, conv: 500000000.000)\n",
            "------------------------------------------- \n",
            "Reglas k=3\n",
            "{butter, diapers, milk} -> {bread} (conf: 1.000, supp: 0.200, lift: 2.000, conv: 500000000.000)\n",
            "{bread, diapers, milk} -> {butter} (conf: 1.000, supp: 0.200, lift: 2.000, conv: 500000000.000)\n"
          ],
          "name": "stdout"
        }
      ]
    },
    {
      "cell_type": "markdown",
      "metadata": {
        "id": "y6PK_mY2wwnP"
      },
      "source": [
        "##Punto 4 “Conjunto de datos: C, D, E, G, A”"
      ]
    },
    {
      "cell_type": "code",
      "metadata": {
        "id": "zLYhxw0Bw8xY"
      },
      "source": [
        "b = [ ['A', 'B', 'C', 'D'], \n",
        "    [ 'A', 'C', 'D', 'F'], \n",
        "    ['C', 'D', 'E', 'G', 'A' ], \n",
        "    ['A', 'D', 'F', 'B' ], \n",
        "    ['B', 'C', 'G'], \n",
        "    ['D', 'F', 'G'], \n",
        "    ['A', 'B', 'G'], \n",
        "    ['C', 'D', 'F', 'G'] ] "
      ],
      "execution_count": null,
      "outputs": []
    },
    {
      "cell_type": "code",
      "metadata": {
        "id": "wCaC5MZJLtZP"
      },
      "source": [
        "# todos los conjusntos posibles de la  base de datos "
      ],
      "execution_count": null,
      "outputs": []
    },
    {
      "cell_type": "code",
      "metadata": {
        "colab": {
          "base_uri": "https://localhost:8080/"
        },
        "id": "q3EEduetG-sS",
        "outputId": "d8719124-2682-4f8d-e5e8-4a48f6d6db7e"
      },
      "source": [
        "itemsets, rules = apriori(b, min_support=0.15,  min_confidence=0.20)\n",
        "countAssociationRules =  len(rules)\n",
        "results = list(itemsets)\n",
        "print(\"Soporte 45% Confianza 70% \")\n",
        "print(\"Cantidad de reglas de asociación \" + str(countAssociationRules))\n",
        "print(\"------------------------------------------- \")\n",
        "print(\"Reglas k=1\")\n",
        "rules_rhs = filter(lambda rule: len(rule.lhs) == 1 and len(rule.rhs) == 1, rules)\n",
        "for rule in sorted(rules_rhs, key=lambda rule: rule.lift):\n",
        "  print(rule)  # Prints the rule and its confidence, support, lift, ...\n",
        "print(\"------------------------------------------- \")\n",
        "print(\"Reglas k=2\")\n",
        "rules_rhs2 = filter(lambda rule: len(rule.lhs) == 2 and len(rule.rhs) == 1, rules)\n",
        "for rule in sorted(rules_rhs2, key=lambda rule: rule.lift):\n",
        "  print(rule)  # Prints the rule and its confidence, support, lift, ...\n",
        "print(\"------------------------------------------- \")\n",
        "print(\"Reglas k=3\")\n",
        "rules_rhs3 = filter(lambda rule: len(rule.lhs) == 3 and len(rule.rhs) == 1, rules)\n",
        "for rule in sorted(rules_rhs3, key=lambda rule: rule.lift):\n",
        "  print(rule)  # Prints the rule and its confidence, support, lift, ..."
      ],
      "execution_count": null,
      "outputs": [
        {
          "output_type": "stream",
          "text": [
            "Soporte 45% Confianza 70% \n",
            "Cantidad de reglas de asociación 64\n",
            "------------------------------------------- \n",
            "Reglas k=1\n",
            "{G} -> {A} (conf: 0.400, supp: 0.250, lift: 0.640, conv: 0.625)\n",
            "{A} -> {G} (conf: 0.400, supp: 0.250, lift: 0.640, conv: 0.625)\n",
            "{D} -> {B} (conf: 0.333, supp: 0.250, lift: 0.667, conv: 0.750)\n",
            "{B} -> {D} (conf: 0.500, supp: 0.250, lift: 0.667, conv: 0.500)\n",
            "{C} -> {B} (conf: 0.400, supp: 0.250, lift: 0.800, conv: 0.833)\n",
            "{B} -> {C} (conf: 0.500, supp: 0.250, lift: 0.800, conv: 0.750)\n",
            "{F} -> {A} (conf: 0.500, supp: 0.250, lift: 0.800, conv: 0.750)\n",
            "{A} -> {F} (conf: 0.400, supp: 0.250, lift: 0.800, conv: 0.833)\n",
            "{F} -> {C} (conf: 0.500, supp: 0.250, lift: 0.800, conv: 0.750)\n",
            "{C} -> {F} (conf: 0.400, supp: 0.250, lift: 0.800, conv: 0.833)\n",
            "{G} -> {D} (conf: 0.600, supp: 0.375, lift: 0.800, conv: 0.625)\n",
            "{D} -> {G} (conf: 0.500, supp: 0.375, lift: 0.800, conv: 0.750)\n",
            "{G} -> {B} (conf: 0.400, supp: 0.250, lift: 0.800, conv: 0.833)\n",
            "{B} -> {G} (conf: 0.500, supp: 0.250, lift: 0.800, conv: 0.750)\n",
            "{G} -> {F} (conf: 0.400, supp: 0.250, lift: 0.800, conv: 0.833)\n",
            "{F} -> {G} (conf: 0.500, supp: 0.250, lift: 0.800, conv: 0.750)\n",
            "{C} -> {A} (conf: 0.600, supp: 0.375, lift: 0.960, conv: 0.937)\n",
            "{A} -> {C} (conf: 0.600, supp: 0.375, lift: 0.960, conv: 0.937)\n",
            "{G} -> {C} (conf: 0.600, supp: 0.375, lift: 0.960, conv: 0.937)\n",
            "{C} -> {G} (conf: 0.600, supp: 0.375, lift: 0.960, conv: 0.937)\n",
            "{D} -> {A} (conf: 0.667, supp: 0.500, lift: 1.067, conv: 1.125)\n",
            "{A} -> {D} (conf: 0.800, supp: 0.500, lift: 1.067, conv: 1.250)\n",
            "{D} -> {C} (conf: 0.667, supp: 0.500, lift: 1.067, conv: 1.125)\n",
            "{C} -> {D} (conf: 0.800, supp: 0.500, lift: 1.067, conv: 1.250)\n",
            "{B} -> {A} (conf: 0.750, supp: 0.375, lift: 1.200, conv: 1.500)\n",
            "{A} -> {B} (conf: 0.600, supp: 0.375, lift: 1.200, conv: 1.250)\n",
            "{F} -> {D} (conf: 1.000, supp: 0.500, lift: 1.333, conv: 250000000.000)\n",
            "{D} -> {F} (conf: 0.667, supp: 0.500, lift: 1.333, conv: 1.500)\n",
            "------------------------------------------- \n",
            "Reglas k=2\n",
            "{D, F} -> {A} (conf: 0.500, supp: 0.250, lift: 0.800, conv: 0.750)\n",
            "{D, F} -> {C} (conf: 0.500, supp: 0.250, lift: 0.800, conv: 0.750)\n",
            "{C, D} -> {G} (conf: 0.500, supp: 0.250, lift: 0.800, conv: 0.750)\n",
            "{D, F} -> {G} (conf: 0.500, supp: 0.250, lift: 0.800, conv: 0.750)\n",
            "{A, B} -> {D} (conf: 0.667, supp: 0.250, lift: 0.889, conv: 0.750)\n",
            "{C, G} -> {D} (conf: 0.667, supp: 0.250, lift: 0.889, conv: 0.750)\n",
            "{A, D} -> {B} (conf: 0.500, supp: 0.250, lift: 1.000, conv: 1.000)\n",
            "{A, D} -> {F} (conf: 0.500, supp: 0.250, lift: 1.000, conv: 1.000)\n",
            "{C, D} -> {F} (conf: 0.500, supp: 0.250, lift: 1.000, conv: 1.000)\n",
            "{D, G} -> {C} (conf: 0.667, supp: 0.250, lift: 1.067, conv: 1.125)\n",
            "{C, D} -> {A} (conf: 0.750, supp: 0.375, lift: 1.200, conv: 1.500)\n",
            "{A, D} -> {C} (conf: 0.750, supp: 0.375, lift: 1.200, conv: 1.500)\n",
            "{A, C} -> {D} (conf: 1.000, supp: 0.375, lift: 1.333, conv: 250000000.000)\n",
            "{A, F} -> {D} (conf: 1.000, supp: 0.250, lift: 1.333, conv: 250000000.000)\n",
            "{C, F} -> {D} (conf: 1.000, supp: 0.250, lift: 1.333, conv: 250000000.000)\n",
            "{F, G} -> {D} (conf: 1.000, supp: 0.250, lift: 1.333, conv: 250000000.000)\n",
            "{D, G} -> {F} (conf: 0.667, supp: 0.250, lift: 1.333, conv: 1.500)\n",
            "{B, D} -> {A} (conf: 1.000, supp: 0.250, lift: 1.600, conv: 375000000.000)\n",
            "------------------------------------------- \n",
            "Reglas k=3\n"
          ],
          "name": "stdout"
        }
      ]
    },
    {
      "cell_type": "code",
      "metadata": {
        "colab": {
          "base_uri": "https://localhost:8080/",
          "height": 277
        },
        "id": "WQgel51GedBT",
        "outputId": "74629175-3112-485a-81c7-78d60a17534a"
      },
      "source": [
        "#Creación de records con las listas \n",
        "b = [ ['A', 'B', 'C', 'D'], \n",
        "    [ 'A', 'C', 'D', 'F'], \n",
        "    ['C', 'D', 'E', 'G', 'A' ], \n",
        "    ['A', 'D', 'F', 'B' ], \n",
        "    ['B', 'C', 'G'], \n",
        "    ['D', 'F', 'G'], \n",
        "    ['A', 'B', 'G'], \n",
        "    ['C', 'D', 'F', 'G'] ] \n",
        "dict_data = {'items': b}\n",
        "df = pd.DataFrame.from_dict(dict_data)\n",
        "df"
      ],
      "execution_count": null,
      "outputs": [
        {
          "output_type": "execute_result",
          "data": {
            "text/html": [
              "<div>\n",
              "<style scoped>\n",
              "    .dataframe tbody tr th:only-of-type {\n",
              "        vertical-align: middle;\n",
              "    }\n",
              "\n",
              "    .dataframe tbody tr th {\n",
              "        vertical-align: top;\n",
              "    }\n",
              "\n",
              "    .dataframe thead th {\n",
              "        text-align: right;\n",
              "    }\n",
              "</style>\n",
              "<table border=\"1\" class=\"dataframe\">\n",
              "  <thead>\n",
              "    <tr style=\"text-align: right;\">\n",
              "      <th></th>\n",
              "      <th>items</th>\n",
              "    </tr>\n",
              "  </thead>\n",
              "  <tbody>\n",
              "    <tr>\n",
              "      <th>0</th>\n",
              "      <td>[A, B, C, D]</td>\n",
              "    </tr>\n",
              "    <tr>\n",
              "      <th>1</th>\n",
              "      <td>[A, C, D, F]</td>\n",
              "    </tr>\n",
              "    <tr>\n",
              "      <th>2</th>\n",
              "      <td>[C, D, E, G, A]</td>\n",
              "    </tr>\n",
              "    <tr>\n",
              "      <th>3</th>\n",
              "      <td>[A, D, F, B]</td>\n",
              "    </tr>\n",
              "    <tr>\n",
              "      <th>4</th>\n",
              "      <td>[B, C, G]</td>\n",
              "    </tr>\n",
              "    <tr>\n",
              "      <th>5</th>\n",
              "      <td>[D, F, G]</td>\n",
              "    </tr>\n",
              "    <tr>\n",
              "      <th>6</th>\n",
              "      <td>[A, B, G]</td>\n",
              "    </tr>\n",
              "    <tr>\n",
              "      <th>7</th>\n",
              "      <td>[C, D, F, G]</td>\n",
              "    </tr>\n",
              "  </tbody>\n",
              "</table>\n",
              "</div>"
            ],
            "text/plain": [
              "             items\n",
              "0     [A, B, C, D]\n",
              "1     [A, C, D, F]\n",
              "2  [C, D, E, G, A]\n",
              "3     [A, D, F, B]\n",
              "4        [B, C, G]\n",
              "5        [D, F, G]\n",
              "6        [A, B, G]\n",
              "7     [C, D, F, G]"
            ]
          },
          "metadata": {
            "tags": []
          },
          "execution_count": 15
        }
      ]
    },
    {
      "cell_type": "code",
      "metadata": {
        "colab": {
          "base_uri": "https://localhost:8080/"
        },
        "id": "cf50ihsaewAL",
        "outputId": "579f4ce6-4a08-4780-ff84-69d37cbf7825"
      },
      "source": [
        "# Se valida los distintos productos que tenemos\n",
        "items = []\n",
        "for i in range(len(df)):\n",
        "    for j in range(len(df['items'][i])):\n",
        "        items.append(df['items'][i][j])\n",
        "unique_item = set(items)\n",
        "list_unique_item = list(unique_item)\n",
        "list_unique_item"
      ],
      "execution_count": null,
      "outputs": [
        {
          "output_type": "execute_result",
          "data": {
            "text/plain": [
              "['G', 'B', 'F', 'A', 'D', 'C', 'E']"
            ]
          },
          "metadata": {
            "tags": []
          },
          "execution_count": 16
        }
      ]
    },
    {
      "cell_type": "code",
      "metadata": {
        "colab": {
          "base_uri": "https://localhost:8080/"
        },
        "id": "GYYyeohEe6d5",
        "outputId": "f36452df-706c-4164-a0e6-45c05def8eb1"
      },
      "source": [
        "##Creando el primer candidate K= 1\n",
        "count_unique = []\n",
        "for value in (list_unique_item):\n",
        "    count_unique.append((value, items.count(value)))\n",
        "count_unique"
      ],
      "execution_count": null,
      "outputs": [
        {
          "output_type": "execute_result",
          "data": {
            "text/plain": [
              "[('G', 5), ('B', 4), ('F', 4), ('A', 5), ('D', 6), ('C', 5), ('E', 1)]"
            ]
          },
          "metadata": {
            "tags": []
          },
          "execution_count": 17
        }
      ]
    },
    {
      "cell_type": "code",
      "metadata": {
        "colab": {
          "base_uri": "https://localhost:8080/",
          "height": 220
        },
        "id": "vvscI64Qe_mk",
        "outputId": "40c2a74a-8370-4f00-b1bd-0b8281215e2a"
      },
      "source": [
        "# Se crea un Dataframe con los cantidatos k=1 \n",
        "candidate1_df = pd.DataFrame(count_unique, columns=[\"itemset\", \"sup\"])\n",
        "freq_itemset1 = filter_sup(candidate1_df)\n",
        "freq_itemset11 = freq_itemset1.reset_index(drop=True)\n",
        "freq_itemset11"
      ],
      "execution_count": null,
      "outputs": [
        {
          "output_type": "execute_result",
          "data": {
            "text/html": [
              "<div>\n",
              "<style scoped>\n",
              "    .dataframe tbody tr th:only-of-type {\n",
              "        vertical-align: middle;\n",
              "    }\n",
              "\n",
              "    .dataframe tbody tr th {\n",
              "        vertical-align: top;\n",
              "    }\n",
              "\n",
              "    .dataframe thead th {\n",
              "        text-align: right;\n",
              "    }\n",
              "</style>\n",
              "<table border=\"1\" class=\"dataframe\">\n",
              "  <thead>\n",
              "    <tr style=\"text-align: right;\">\n",
              "      <th></th>\n",
              "      <th>itemset</th>\n",
              "      <th>sup</th>\n",
              "    </tr>\n",
              "  </thead>\n",
              "  <tbody>\n",
              "    <tr>\n",
              "      <th>0</th>\n",
              "      <td>G</td>\n",
              "      <td>5</td>\n",
              "    </tr>\n",
              "    <tr>\n",
              "      <th>1</th>\n",
              "      <td>B</td>\n",
              "      <td>4</td>\n",
              "    </tr>\n",
              "    <tr>\n",
              "      <th>2</th>\n",
              "      <td>F</td>\n",
              "      <td>4</td>\n",
              "    </tr>\n",
              "    <tr>\n",
              "      <th>3</th>\n",
              "      <td>A</td>\n",
              "      <td>5</td>\n",
              "    </tr>\n",
              "    <tr>\n",
              "      <th>4</th>\n",
              "      <td>D</td>\n",
              "      <td>6</td>\n",
              "    </tr>\n",
              "    <tr>\n",
              "      <th>5</th>\n",
              "      <td>C</td>\n",
              "      <td>5</td>\n",
              "    </tr>\n",
              "  </tbody>\n",
              "</table>\n",
              "</div>"
            ],
            "text/plain": [
              "  itemset  sup\n",
              "0       G    5\n",
              "1       B    4\n",
              "2       F    4\n",
              "3       A    5\n",
              "4       D    6\n",
              "5       C    5"
            ]
          },
          "metadata": {
            "tags": []
          },
          "execution_count": 18
        }
      ]
    },
    {
      "cell_type": "code",
      "metadata": {
        "colab": {
          "base_uri": "https://localhost:8080/",
          "height": 478
        },
        "id": "2utOuAnUfOPc",
        "outputId": "830bde15-882b-4eb3-a890-222284e47498"
      },
      "source": [
        "#Lista de posibles combinaciones de 2 productos \n",
        "candidate2_list = self_join(freq_itemset11)\n",
        "candidate2_list\n",
        "count_candidate2 = []\n",
        "#Set the Initial value of Second Count Candidate (C2)\n",
        "for i in range(len(candidate2_list)):\n",
        "    count_candidate2.append((candidate2_list[i], 0))\n",
        "initial_df_candidate = pd.DataFrame(count_candidate2, columns=['itemset', 'sup'])\n",
        "initial_df_candidate"
      ],
      "execution_count": null,
      "outputs": [
        {
          "output_type": "execute_result",
          "data": {
            "text/html": [
              "<div>\n",
              "<style scoped>\n",
              "    .dataframe tbody tr th:only-of-type {\n",
              "        vertical-align: middle;\n",
              "    }\n",
              "\n",
              "    .dataframe tbody tr th {\n",
              "        vertical-align: top;\n",
              "    }\n",
              "\n",
              "    .dataframe thead th {\n",
              "        text-align: right;\n",
              "    }\n",
              "</style>\n",
              "<table border=\"1\" class=\"dataframe\">\n",
              "  <thead>\n",
              "    <tr style=\"text-align: right;\">\n",
              "      <th></th>\n",
              "      <th>itemset</th>\n",
              "      <th>sup</th>\n",
              "    </tr>\n",
              "  </thead>\n",
              "  <tbody>\n",
              "    <tr>\n",
              "      <th>0</th>\n",
              "      <td>{G, B}</td>\n",
              "      <td>0</td>\n",
              "    </tr>\n",
              "    <tr>\n",
              "      <th>1</th>\n",
              "      <td>{G, F}</td>\n",
              "      <td>0</td>\n",
              "    </tr>\n",
              "    <tr>\n",
              "      <th>2</th>\n",
              "      <td>{G, A}</td>\n",
              "      <td>0</td>\n",
              "    </tr>\n",
              "    <tr>\n",
              "      <th>3</th>\n",
              "      <td>{G, D}</td>\n",
              "      <td>0</td>\n",
              "    </tr>\n",
              "    <tr>\n",
              "      <th>4</th>\n",
              "      <td>{C, G}</td>\n",
              "      <td>0</td>\n",
              "    </tr>\n",
              "    <tr>\n",
              "      <th>5</th>\n",
              "      <td>{F, B}</td>\n",
              "      <td>0</td>\n",
              "    </tr>\n",
              "    <tr>\n",
              "      <th>6</th>\n",
              "      <td>{A, B}</td>\n",
              "      <td>0</td>\n",
              "    </tr>\n",
              "    <tr>\n",
              "      <th>7</th>\n",
              "      <td>{D, B}</td>\n",
              "      <td>0</td>\n",
              "    </tr>\n",
              "    <tr>\n",
              "      <th>8</th>\n",
              "      <td>{C, B}</td>\n",
              "      <td>0</td>\n",
              "    </tr>\n",
              "    <tr>\n",
              "      <th>9</th>\n",
              "      <td>{F, A}</td>\n",
              "      <td>0</td>\n",
              "    </tr>\n",
              "    <tr>\n",
              "      <th>10</th>\n",
              "      <td>{F, D}</td>\n",
              "      <td>0</td>\n",
              "    </tr>\n",
              "    <tr>\n",
              "      <th>11</th>\n",
              "      <td>{C, F}</td>\n",
              "      <td>0</td>\n",
              "    </tr>\n",
              "    <tr>\n",
              "      <th>12</th>\n",
              "      <td>{A, D}</td>\n",
              "      <td>0</td>\n",
              "    </tr>\n",
              "    <tr>\n",
              "      <th>13</th>\n",
              "      <td>{C, A}</td>\n",
              "      <td>0</td>\n",
              "    </tr>\n",
              "    <tr>\n",
              "      <th>14</th>\n",
              "      <td>{C, D}</td>\n",
              "      <td>0</td>\n",
              "    </tr>\n",
              "  </tbody>\n",
              "</table>\n",
              "</div>"
            ],
            "text/plain": [
              "   itemset  sup\n",
              "0   {G, B}    0\n",
              "1   {G, F}    0\n",
              "2   {G, A}    0\n",
              "3   {G, D}    0\n",
              "4   {C, G}    0\n",
              "5   {F, B}    0\n",
              "6   {A, B}    0\n",
              "7   {D, B}    0\n",
              "8   {C, B}    0\n",
              "9   {F, A}    0\n",
              "10  {F, D}    0\n",
              "11  {C, F}    0\n",
              "12  {A, D}    0\n",
              "13  {C, A}    0\n",
              "14  {C, D}    0"
            ]
          },
          "metadata": {
            "tags": []
          },
          "execution_count": 19
        }
      ]
    },
    {
      "cell_type": "code",
      "metadata": {
        "colab": {
          "base_uri": "https://localhost:8080/"
        },
        "id": "CJWrvXl0fzhp",
        "outputId": "e315bf8f-49d8-4d28-a08a-b8863aebebc8"
      },
      "source": [
        "count_candidate2_df = count_support(df, candidate2_list)"
      ],
      "execution_count": null,
      "outputs": [
        {
          "output_type": "stream",
          "text": [
            "Database D dataframe\n",
            "              items\n",
            "0     [A, B, C, D]\n",
            "1     [A, C, D, F]\n",
            "2  [C, D, E, G, A]\n",
            "3     [A, D, F, B]\n",
            "4        [B, C, G]\n",
            "5        [D, F, G]\n",
            "6        [A, B, G]\n",
            "7     [C, D, F, G]\n",
            "(Initial) Dataframe from Candidate with All zeros sup\n",
            "    itemset  sup\n",
            "0   {G, B}    0\n",
            "1   {G, F}    0\n",
            "2   {G, A}    0\n",
            "3   {G, D}    0\n",
            "4   {C, G}    0\n",
            "5   {F, B}    0\n",
            "6   {A, B}    0\n",
            "7   {D, B}    0\n",
            "8   {C, B}    0\n",
            "9   {F, A}    0\n",
            "10  {F, D}    0\n",
            "11  {C, F}    0\n",
            "12  {A, D}    0\n",
            "13  {C, A}    0\n",
            "14  {C, D}    0\n"
          ],
          "name": "stdout"
        }
      ]
    },
    {
      "cell_type": "code",
      "metadata": {
        "colab": {
          "base_uri": "https://localhost:8080/",
          "height": 478
        },
        "id": "VeQo91sxf_Zu",
        "outputId": "4ec189d8-0c57-4bf9-8c49-819adbafc2ab"
      },
      "source": [
        "count_candidate2_df"
      ],
      "execution_count": null,
      "outputs": [
        {
          "output_type": "execute_result",
          "data": {
            "text/html": [
              "<div>\n",
              "<style scoped>\n",
              "    .dataframe tbody tr th:only-of-type {\n",
              "        vertical-align: middle;\n",
              "    }\n",
              "\n",
              "    .dataframe tbody tr th {\n",
              "        vertical-align: top;\n",
              "    }\n",
              "\n",
              "    .dataframe thead th {\n",
              "        text-align: right;\n",
              "    }\n",
              "</style>\n",
              "<table border=\"1\" class=\"dataframe\">\n",
              "  <thead>\n",
              "    <tr style=\"text-align: right;\">\n",
              "      <th></th>\n",
              "      <th>itemset</th>\n",
              "      <th>sup</th>\n",
              "    </tr>\n",
              "  </thead>\n",
              "  <tbody>\n",
              "    <tr>\n",
              "      <th>0</th>\n",
              "      <td>{G, B}</td>\n",
              "      <td>2</td>\n",
              "    </tr>\n",
              "    <tr>\n",
              "      <th>1</th>\n",
              "      <td>{G, F}</td>\n",
              "      <td>2</td>\n",
              "    </tr>\n",
              "    <tr>\n",
              "      <th>2</th>\n",
              "      <td>{G, A}</td>\n",
              "      <td>2</td>\n",
              "    </tr>\n",
              "    <tr>\n",
              "      <th>3</th>\n",
              "      <td>{G, D}</td>\n",
              "      <td>3</td>\n",
              "    </tr>\n",
              "    <tr>\n",
              "      <th>4</th>\n",
              "      <td>{C, G}</td>\n",
              "      <td>3</td>\n",
              "    </tr>\n",
              "    <tr>\n",
              "      <th>5</th>\n",
              "      <td>{F, B}</td>\n",
              "      <td>1</td>\n",
              "    </tr>\n",
              "    <tr>\n",
              "      <th>6</th>\n",
              "      <td>{A, B}</td>\n",
              "      <td>3</td>\n",
              "    </tr>\n",
              "    <tr>\n",
              "      <th>7</th>\n",
              "      <td>{D, B}</td>\n",
              "      <td>2</td>\n",
              "    </tr>\n",
              "    <tr>\n",
              "      <th>8</th>\n",
              "      <td>{C, B}</td>\n",
              "      <td>2</td>\n",
              "    </tr>\n",
              "    <tr>\n",
              "      <th>9</th>\n",
              "      <td>{F, A}</td>\n",
              "      <td>2</td>\n",
              "    </tr>\n",
              "    <tr>\n",
              "      <th>10</th>\n",
              "      <td>{F, D}</td>\n",
              "      <td>4</td>\n",
              "    </tr>\n",
              "    <tr>\n",
              "      <th>11</th>\n",
              "      <td>{C, F}</td>\n",
              "      <td>2</td>\n",
              "    </tr>\n",
              "    <tr>\n",
              "      <th>12</th>\n",
              "      <td>{A, D}</td>\n",
              "      <td>4</td>\n",
              "    </tr>\n",
              "    <tr>\n",
              "      <th>13</th>\n",
              "      <td>{C, A}</td>\n",
              "      <td>3</td>\n",
              "    </tr>\n",
              "    <tr>\n",
              "      <th>14</th>\n",
              "      <td>{C, D}</td>\n",
              "      <td>4</td>\n",
              "    </tr>\n",
              "  </tbody>\n",
              "</table>\n",
              "</div>"
            ],
            "text/plain": [
              "   itemset  sup\n",
              "0   {G, B}    2\n",
              "1   {G, F}    2\n",
              "2   {G, A}    2\n",
              "3   {G, D}    3\n",
              "4   {C, G}    3\n",
              "5   {F, B}    1\n",
              "6   {A, B}    3\n",
              "7   {D, B}    2\n",
              "8   {C, B}    2\n",
              "9   {F, A}    2\n",
              "10  {F, D}    4\n",
              "11  {C, F}    2\n",
              "12  {A, D}    4\n",
              "13  {C, A}    3\n",
              "14  {C, D}    4"
            ]
          },
          "metadata": {
            "tags": []
          },
          "execution_count": 21
        }
      ]
    },
    {
      "cell_type": "code",
      "metadata": {
        "colab": {
          "base_uri": "https://localhost:8080/",
          "height": 248
        },
        "id": "ESC8e55ggShC",
        "outputId": "019d9522-5c2f-4dc3-c23d-25ea9b29839c"
      },
      "source": [
        "#Calculo de frecuencia de dos items\n",
        "# Se filtra basado en el mínimo soporte que en este caso es 3\n",
        "freq_itemset2 = filter_sup(count_candidate2_df)\n",
        "freq_itemset2_reset = freq_itemset2.reset_index(drop=True)\n",
        "freq_itemset2_reset"
      ],
      "execution_count": null,
      "outputs": [
        {
          "output_type": "execute_result",
          "data": {
            "text/html": [
              "<div>\n",
              "<style scoped>\n",
              "    .dataframe tbody tr th:only-of-type {\n",
              "        vertical-align: middle;\n",
              "    }\n",
              "\n",
              "    .dataframe tbody tr th {\n",
              "        vertical-align: top;\n",
              "    }\n",
              "\n",
              "    .dataframe thead th {\n",
              "        text-align: right;\n",
              "    }\n",
              "</style>\n",
              "<table border=\"1\" class=\"dataframe\">\n",
              "  <thead>\n",
              "    <tr style=\"text-align: right;\">\n",
              "      <th></th>\n",
              "      <th>itemset</th>\n",
              "      <th>sup</th>\n",
              "    </tr>\n",
              "  </thead>\n",
              "  <tbody>\n",
              "    <tr>\n",
              "      <th>0</th>\n",
              "      <td>{G, D}</td>\n",
              "      <td>3</td>\n",
              "    </tr>\n",
              "    <tr>\n",
              "      <th>1</th>\n",
              "      <td>{C, G}</td>\n",
              "      <td>3</td>\n",
              "    </tr>\n",
              "    <tr>\n",
              "      <th>2</th>\n",
              "      <td>{A, B}</td>\n",
              "      <td>3</td>\n",
              "    </tr>\n",
              "    <tr>\n",
              "      <th>3</th>\n",
              "      <td>{F, D}</td>\n",
              "      <td>4</td>\n",
              "    </tr>\n",
              "    <tr>\n",
              "      <th>4</th>\n",
              "      <td>{A, D}</td>\n",
              "      <td>4</td>\n",
              "    </tr>\n",
              "    <tr>\n",
              "      <th>5</th>\n",
              "      <td>{C, A}</td>\n",
              "      <td>3</td>\n",
              "    </tr>\n",
              "    <tr>\n",
              "      <th>6</th>\n",
              "      <td>{C, D}</td>\n",
              "      <td>4</td>\n",
              "    </tr>\n",
              "  </tbody>\n",
              "</table>\n",
              "</div>"
            ],
            "text/plain": [
              "  itemset  sup\n",
              "0  {G, D}    3\n",
              "1  {C, G}    3\n",
              "2  {A, B}    3\n",
              "3  {F, D}    4\n",
              "4  {A, D}    4\n",
              "5  {C, A}    3\n",
              "6  {C, D}    4"
            ]
          },
          "metadata": {
            "tags": []
          },
          "execution_count": 22
        }
      ]
    },
    {
      "cell_type": "code",
      "metadata": {
        "colab": {
          "base_uri": "https://localhost:8080/"
        },
        "id": "36TYNPFQhXtC",
        "outputId": "18d42c84-12c0-4432-d2d0-157cf791e580"
      },
      "source": [
        "#Creación de K=3 , grupos de 3 ingredientes\n",
        "print(freq_itemset2_reset)\n",
        "self_join_result = self_join(freq_itemset2_reset)\n",
        "print('self join result')\n",
        "print(self_join_result)"
      ],
      "execution_count": null,
      "outputs": [
        {
          "output_type": "stream",
          "text": [
            "  itemset  sup\n",
            "0  {G, D}    3\n",
            "1  {C, G}    3\n",
            "2  {A, B}    3\n",
            "3  {F, D}    4\n",
            "4  {A, D}    4\n",
            "5  {C, A}    3\n",
            "6  {C, D}    4\n",
            "self join result\n",
            "[{'C', 'G', 'D'}, {'G', 'A', 'D', 'B'}, {'G', 'F', 'D'}, {'G', 'A', 'D'}, {'C', 'G', 'A', 'D'}, {'C', 'G', 'A', 'B'}, {'C', 'G', 'F', 'D'}, {'C', 'G', 'A'}, {'F', 'A', 'D', 'B'}, {'A', 'D', 'B'}, {'C', 'A', 'B'}, {'C', 'A', 'D', 'B'}, {'F', 'A', 'D'}, {'C', 'F', 'A', 'D'}, {'C', 'F', 'D'}, {'C', 'A', 'D'}]\n"
          ],
          "name": "stdout"
        }
      ]
    },
    {
      "cell_type": "code",
      "metadata": {
        "colab": {
          "base_uri": "https://localhost:8080/",
          "height": 508
        },
        "id": "zEu7h-KxlIt8",
        "outputId": "81299b6f-5bb6-44b0-fa09-e02bb67e7d19"
      },
      "source": [
        "for i in range(len(self_join_result)):\n",
        "    get_subset(list(self_join_result[i]))\n",
        "freq_itemset2_reset"
      ],
      "execution_count": null,
      "outputs": [
        {
          "output_type": "stream",
          "text": [
            "Subset from ['C', 'G', 'D'] : [{'G', 'D'}, {'C', 'D'}, {'C', 'G'}]\n",
            "Subset from ['G', 'A', 'D', 'B'] : [{'A', 'D', 'B'}, {'G', 'D', 'B'}, {'G', 'A', 'B'}, {'G', 'A', 'D'}]\n",
            "Subset from ['G', 'F', 'D'] : [{'F', 'D'}, {'G', 'D'}, {'G', 'F'}]\n",
            "Subset from ['G', 'A', 'D'] : [{'A', 'D'}, {'G', 'D'}, {'G', 'A'}]\n",
            "Subset from ['C', 'G', 'A', 'D'] : [{'G', 'A', 'D'}, {'C', 'A', 'D'}, {'C', 'G', 'D'}, {'C', 'G', 'A'}]\n",
            "Subset from ['C', 'G', 'A', 'B'] : [{'G', 'A', 'B'}, {'C', 'A', 'B'}, {'C', 'G', 'B'}, {'C', 'G', 'A'}]\n",
            "Subset from ['C', 'G', 'F', 'D'] : [{'G', 'F', 'D'}, {'C', 'F', 'D'}, {'C', 'G', 'D'}, {'C', 'G', 'F'}]\n",
            "Subset from ['C', 'G', 'A'] : [{'G', 'A'}, {'C', 'A'}, {'C', 'G'}]\n",
            "Subset from ['F', 'A', 'D', 'B'] : [{'A', 'D', 'B'}, {'F', 'D', 'B'}, {'F', 'A', 'B'}, {'F', 'A', 'D'}]\n",
            "Subset from ['A', 'D', 'B'] : [{'D', 'B'}, {'A', 'B'}, {'A', 'D'}]\n",
            "Subset from ['C', 'A', 'B'] : [{'A', 'B'}, {'C', 'B'}, {'C', 'A'}]\n",
            "Subset from ['C', 'A', 'D', 'B'] : [{'A', 'D', 'B'}, {'C', 'D', 'B'}, {'C', 'A', 'B'}, {'C', 'A', 'D'}]\n",
            "Subset from ['F', 'A', 'D'] : [{'A', 'D'}, {'F', 'D'}, {'F', 'A'}]\n",
            "Subset from ['C', 'F', 'A', 'D'] : [{'F', 'A', 'D'}, {'C', 'A', 'D'}, {'C', 'F', 'D'}, {'C', 'F', 'A'}]\n",
            "Subset from ['C', 'F', 'D'] : [{'F', 'D'}, {'C', 'D'}, {'C', 'F'}]\n",
            "Subset from ['C', 'A', 'D'] : [{'A', 'D'}, {'C', 'D'}, {'C', 'A'}]\n"
          ],
          "name": "stdout"
        },
        {
          "output_type": "execute_result",
          "data": {
            "text/html": [
              "<div>\n",
              "<style scoped>\n",
              "    .dataframe tbody tr th:only-of-type {\n",
              "        vertical-align: middle;\n",
              "    }\n",
              "\n",
              "    .dataframe tbody tr th {\n",
              "        vertical-align: top;\n",
              "    }\n",
              "\n",
              "    .dataframe thead th {\n",
              "        text-align: right;\n",
              "    }\n",
              "</style>\n",
              "<table border=\"1\" class=\"dataframe\">\n",
              "  <thead>\n",
              "    <tr style=\"text-align: right;\">\n",
              "      <th></th>\n",
              "      <th>itemset</th>\n",
              "      <th>sup</th>\n",
              "    </tr>\n",
              "  </thead>\n",
              "  <tbody>\n",
              "    <tr>\n",
              "      <th>0</th>\n",
              "      <td>{G, D}</td>\n",
              "      <td>3</td>\n",
              "    </tr>\n",
              "    <tr>\n",
              "      <th>1</th>\n",
              "      <td>{C, G}</td>\n",
              "      <td>3</td>\n",
              "    </tr>\n",
              "    <tr>\n",
              "      <th>2</th>\n",
              "      <td>{A, B}</td>\n",
              "      <td>3</td>\n",
              "    </tr>\n",
              "    <tr>\n",
              "      <th>3</th>\n",
              "      <td>{F, D}</td>\n",
              "      <td>4</td>\n",
              "    </tr>\n",
              "    <tr>\n",
              "      <th>4</th>\n",
              "      <td>{A, D}</td>\n",
              "      <td>4</td>\n",
              "    </tr>\n",
              "    <tr>\n",
              "      <th>5</th>\n",
              "      <td>{C, A}</td>\n",
              "      <td>3</td>\n",
              "    </tr>\n",
              "    <tr>\n",
              "      <th>6</th>\n",
              "      <td>{C, D}</td>\n",
              "      <td>4</td>\n",
              "    </tr>\n",
              "  </tbody>\n",
              "</table>\n",
              "</div>"
            ],
            "text/plain": [
              "  itemset  sup\n",
              "0  {G, D}    3\n",
              "1  {C, G}    3\n",
              "2  {A, B}    3\n",
              "3  {F, D}    4\n",
              "4  {A, D}    4\n",
              "5  {C, A}    3\n",
              "6  {C, D}    4"
            ]
          },
          "metadata": {
            "tags": []
          },
          "execution_count": 24
        }
      ]
    },
    {
      "cell_type": "code",
      "metadata": {
        "id": "4bp3Vm22lZwA"
      },
      "source": [
        "candidate3_list = pruning(self_join_result, freq_itemset2_reset)\n",
        "candidate3_list"
      ],
      "execution_count": null,
      "outputs": []
    },
    {
      "cell_type": "code",
      "metadata": {
        "colab": {
          "base_uri": "https://localhost:8080/",
          "height": 647
        },
        "id": "83J0dtxbliHf",
        "outputId": "9911200f-5c5e-43fd-8f8a-10c2a10a2808"
      },
      "source": [
        "#Calculo de frecuencia de tres productos \n",
        "count_candidate3_df = count_support(df, candidate3_list)\n",
        "count_candidate3_df"
      ],
      "execution_count": null,
      "outputs": [
        {
          "output_type": "stream",
          "text": [
            "Database D dataframe\n",
            "              items\n",
            "0     [A, B, C, D]\n",
            "1     [A, C, D, F]\n",
            "2  [C, D, E, G, A]\n",
            "3     [A, D, F, B]\n",
            "4        [B, C, G]\n",
            "5        [D, F, G]\n",
            "6        [A, B, G]\n",
            "7     [C, D, F, G]\n",
            "(Initial) Dataframe from Candidate with All zeros sup\n",
            "      itemset  sup\n",
            "0  {C, G, D}    0\n",
            "1  {G, F, D}    0\n",
            "2  {G, A, D}    0\n",
            "3  {C, G, A}    0\n",
            "4  {A, D, B}    0\n",
            "5  {C, A, B}    0\n",
            "6  {F, A, D}    0\n",
            "7  {C, F, D}    0\n",
            "8  {C, A, D}    0\n"
          ],
          "name": "stdout"
        },
        {
          "output_type": "execute_result",
          "data": {
            "text/html": [
              "<div>\n",
              "<style scoped>\n",
              "    .dataframe tbody tr th:only-of-type {\n",
              "        vertical-align: middle;\n",
              "    }\n",
              "\n",
              "    .dataframe tbody tr th {\n",
              "        vertical-align: top;\n",
              "    }\n",
              "\n",
              "    .dataframe thead th {\n",
              "        text-align: right;\n",
              "    }\n",
              "</style>\n",
              "<table border=\"1\" class=\"dataframe\">\n",
              "  <thead>\n",
              "    <tr style=\"text-align: right;\">\n",
              "      <th></th>\n",
              "      <th>itemset</th>\n",
              "      <th>sup</th>\n",
              "    </tr>\n",
              "  </thead>\n",
              "  <tbody>\n",
              "    <tr>\n",
              "      <th>0</th>\n",
              "      <td>{C, G, D}</td>\n",
              "      <td>2</td>\n",
              "    </tr>\n",
              "    <tr>\n",
              "      <th>1</th>\n",
              "      <td>{G, F, D}</td>\n",
              "      <td>2</td>\n",
              "    </tr>\n",
              "    <tr>\n",
              "      <th>2</th>\n",
              "      <td>{G, A, D}</td>\n",
              "      <td>1</td>\n",
              "    </tr>\n",
              "    <tr>\n",
              "      <th>3</th>\n",
              "      <td>{C, G, A}</td>\n",
              "      <td>1</td>\n",
              "    </tr>\n",
              "    <tr>\n",
              "      <th>4</th>\n",
              "      <td>{A, D, B}</td>\n",
              "      <td>2</td>\n",
              "    </tr>\n",
              "    <tr>\n",
              "      <th>5</th>\n",
              "      <td>{C, A, B}</td>\n",
              "      <td>1</td>\n",
              "    </tr>\n",
              "    <tr>\n",
              "      <th>6</th>\n",
              "      <td>{F, A, D}</td>\n",
              "      <td>2</td>\n",
              "    </tr>\n",
              "    <tr>\n",
              "      <th>7</th>\n",
              "      <td>{C, F, D}</td>\n",
              "      <td>2</td>\n",
              "    </tr>\n",
              "    <tr>\n",
              "      <th>8</th>\n",
              "      <td>{C, A, D}</td>\n",
              "      <td>3</td>\n",
              "    </tr>\n",
              "  </tbody>\n",
              "</table>\n",
              "</div>"
            ],
            "text/plain": [
              "     itemset  sup\n",
              "0  {C, G, D}    2\n",
              "1  {G, F, D}    2\n",
              "2  {G, A, D}    1\n",
              "3  {C, G, A}    1\n",
              "4  {A, D, B}    2\n",
              "5  {C, A, B}    1\n",
              "6  {F, A, D}    2\n",
              "7  {C, F, D}    2\n",
              "8  {C, A, D}    3"
            ]
          },
          "metadata": {
            "tags": []
          },
          "execution_count": 26
        }
      ]
    },
    {
      "cell_type": "code",
      "metadata": {
        "colab": {
          "base_uri": "https://localhost:8080/",
          "height": 76
        },
        "id": "0iuCgdiWlvM5",
        "outputId": "761e64d9-93da-4054-9006-62e06225f903"
      },
      "source": [
        "freq_itemset3 = filter_sup(count_candidate3_df)\n",
        "freq_itemset3"
      ],
      "execution_count": null,
      "outputs": [
        {
          "output_type": "execute_result",
          "data": {
            "text/html": [
              "<div>\n",
              "<style scoped>\n",
              "    .dataframe tbody tr th:only-of-type {\n",
              "        vertical-align: middle;\n",
              "    }\n",
              "\n",
              "    .dataframe tbody tr th {\n",
              "        vertical-align: top;\n",
              "    }\n",
              "\n",
              "    .dataframe thead th {\n",
              "        text-align: right;\n",
              "    }\n",
              "</style>\n",
              "<table border=\"1\" class=\"dataframe\">\n",
              "  <thead>\n",
              "    <tr style=\"text-align: right;\">\n",
              "      <th></th>\n",
              "      <th>itemset</th>\n",
              "      <th>sup</th>\n",
              "    </tr>\n",
              "  </thead>\n",
              "  <tbody>\n",
              "    <tr>\n",
              "      <th>8</th>\n",
              "      <td>{C, A, D}</td>\n",
              "      <td>3</td>\n",
              "    </tr>\n",
              "  </tbody>\n",
              "</table>\n",
              "</div>"
            ],
            "text/plain": [
              "     itemset  sup\n",
              "8  {C, A, D}    3"
            ]
          },
          "metadata": {
            "tags": []
          },
          "execution_count": 27
        }
      ]
    },
    {
      "cell_type": "markdown",
      "metadata": {
        "id": "3KCZFDJqsLeG"
      },
      "source": [
        "## Punto 6. Apriori y FP-Growth "
      ]
    },
    {
      "cell_type": "code",
      "metadata": {
        "id": "mQzhSN2osWQX"
      },
      "source": [
        "# Conjunto de datos a trabajar \n",
        "c = [ ['A','B','C'], \n",
        "    [ 'A','C','D','E'], \n",
        "    ['A','B','D'], \n",
        "    ['A','C','F'], \n",
        "    ['A','B'], \n",
        "    ['A','E','F'], \n",
        "    ['A','B','D','E','F'], \n",
        "    ['A','F'],\n",
        "    ['B','D','E'],\n",
        "    ['B','D','E','F'],\n",
        "    ['B','C','D','E'],\n",
        "    ['C','D','E'] ] "
      ],
      "execution_count": 6,
      "outputs": []
    },
    {
      "cell_type": "code",
      "metadata": {
        "colab": {
          "base_uri": "https://localhost:8080/"
        },
        "id": "vpORS36gsZpy",
        "outputId": "d45d2937-6e92-4e2e-e5b2-406db6c298f8"
      },
      "source": [
        "# Apriori\n",
        "#Soporte = 15% confianza = 70% \n",
        "itemsets, rules = apriori(c, min_support=0.10,  min_confidence=0.80) # En este punto se cambia los diferentes valores de Soporte y confianza\n",
        "countAssociationRules =  len(rules)\n",
        "results = list(itemsets)\n",
        "print(\"*************************APRIORI*****************************\")\n",
        "print(\"Soporte 10% Confianza 80% \")\n",
        "print(\"Cantidad de reglas de asociación \" + str(countAssociationRules))\n",
        "print(\"------------------------------------------- \")\n",
        "print(\"Reglas k=1\")\n",
        "rules_rhs = filter(lambda rule: len(rule.lhs) == 1 and len(rule.rhs) == 1, rules)\n",
        "for rule in sorted(rules_rhs, key=lambda rule: rule.lift):\n",
        "  print(rule)  # Prints the rule and its confidence, support, lift, ...\n",
        "print(\"------------------------------------------- \")\n",
        "print(\"Reglas k=2\")\n",
        "rules_rhs2 = filter(lambda rule: len(rule.lhs) == 2 and len(rule.rhs) == 1, rules)\n",
        "for rule in sorted(rules_rhs2, key=lambda rule: rule.lift):\n",
        "  print(rule)  # Prints the rule and its confidence, support, lift, ...\n",
        "print(\"------------------------------------------- \")\n",
        "print(\"Reglas k=3\")\n",
        "rules_rhs3 = filter(lambda rule: len(rule.lhs) == 3 and len(rule.rhs) == 1, rules)\n",
        "for rule in sorted(rules_rhs3, key=lambda rule: rule.lift):\n",
        "  print(rule)  # Prints the rule and its confidence, support, lift, ..."
      ],
      "execution_count": 8,
      "outputs": [
        {
          "output_type": "stream",
          "text": [
            "*************************APRIORI*****************************\n",
            "Soporte 10% Confianza 80% \n",
            "Cantidad de reglas de asociación 16\n",
            "------------------------------------------- \n",
            "Reglas k=1\n",
            "{F} -> {A} (conf: 0.800, supp: 0.333, lift: 1.200, conv: 1.667)\n",
            "{E} -> {D} (conf: 0.857, supp: 0.500, lift: 1.469, conv: 2.917)\n",
            "{D} -> {E} (conf: 0.857, supp: 0.500, lift: 1.469, conv: 2.917)\n",
            "------------------------------------------- \n",
            "Reglas k=2\n",
            "{B, D} -> {E} (conf: 0.800, supp: 0.333, lift: 1.371, conv: 2.083)\n",
            "{C, E} -> {D} (conf: 1.000, supp: 0.250, lift: 1.714, conv: 416666666.667)\n",
            "{C, D} -> {E} (conf: 1.000, supp: 0.250, lift: 1.714, conv: 416666666.667)\n",
            "{B, E} -> {D} (conf: 1.000, supp: 0.333, lift: 1.714, conv: 416666666.667)\n",
            "{D, F} -> {B} (conf: 1.000, supp: 0.167, lift: 1.714, conv: 416666666.667)\n",
            "{B, F} -> {D} (conf: 1.000, supp: 0.167, lift: 1.714, conv: 416666666.667)\n",
            "{B, F} -> {E} (conf: 1.000, supp: 0.167, lift: 1.714, conv: 416666666.667)\n",
            "{D, F} -> {E} (conf: 1.000, supp: 0.167, lift: 1.714, conv: 416666666.667)\n",
            "------------------------------------------- \n",
            "Reglas k=3\n",
            "{D, E, F} -> {B} (conf: 1.000, supp: 0.167, lift: 1.714, conv: 416666666.667)\n",
            "{B, E, F} -> {D} (conf: 1.000, supp: 0.167, lift: 1.714, conv: 416666666.667)\n",
            "{B, D, F} -> {E} (conf: 1.000, supp: 0.167, lift: 1.714, conv: 416666666.667)\n"
          ],
          "name": "stdout"
        }
      ]
    },
    {
      "cell_type": "code",
      "metadata": {
        "id": "aThr18ieGoRv"
      },
      "source": [
        "#Implementación algoritmo fpgrowth (FP Growth Algorithm)\n",
        "# Se cargan las librerías\n",
        "import pyfpgrowth"
      ],
      "execution_count": 3,
      "outputs": []
    },
    {
      "cell_type": "code",
      "metadata": {
        "colab": {
          "base_uri": "https://localhost:8080/"
        },
        "id": "vzw94JtCLSW1",
        "outputId": "03f44ace-d720-4cd0-e30d-4fdbad1b5fba"
      },
      "source": [
        "patterns = pyfpgrowth.find_frequent_patterns(c, 3)\n",
        "patterns"
      ],
      "execution_count": 11,
      "outputs": [
        {
          "output_type": "execute_result",
          "data": {
            "text/plain": [
              "{('A',): 8,\n",
              " ('A', 'B'): 4,\n",
              " ('A', 'C'): 3,\n",
              " ('A', 'D'): 3,\n",
              " ('A', 'E'): 3,\n",
              " ('A', 'F'): 4,\n",
              " ('B',): 7,\n",
              " ('B', 'D'): 5,\n",
              " ('B', 'D', 'E'): 4,\n",
              " ('B', 'E'): 4,\n",
              " ('C', 'D'): 3,\n",
              " ('C', 'D', 'E'): 3,\n",
              " ('C', 'E'): 3,\n",
              " ('D', 'E'): 6,\n",
              " ('E', 'F'): 3}"
            ]
          },
          "metadata": {
            "tags": []
          },
          "execution_count": 11
        }
      ]
    },
    {
      "cell_type": "code",
      "metadata": {
        "colab": {
          "base_uri": "https://localhost:8080/"
        },
        "id": "K-3Cd9B6QSMn",
        "outputId": "47aec632-ae4c-4847-ebc3-f84796ef4bb6"
      },
      "source": [
        "min_confidence= 0.2\n",
        "rules = pyfpgrowth. generate_association_rules(patterns,min_confidence)\n",
        "print(\"*************************FP-Growth(Frequent Pattern Growth) *****************************\")\n",
        "print(\"Mínimo de Confianza 20% \")\n",
        "rules"
      ],
      "execution_count": 16,
      "outputs": [
        {
          "output_type": "stream",
          "text": [
            "*************************FP-Growth(Frequent Pattern Growth) *****************************\n",
            "Mínimo de Confianza 20% \n"
          ],
          "name": "stdout"
        },
        {
          "output_type": "execute_result",
          "data": {
            "text/plain": [
              "{('A',): (('E',), 0.375),\n",
              " ('B',): (('D', 'E'), 0.5714285714285714),\n",
              " ('B', 'D'): (('E',), 0.8),\n",
              " ('B', 'E'): (('D',), 1.0),\n",
              " ('C', 'D'): (('E',), 1.0),\n",
              " ('C', 'E'): (('D',), 1.0),\n",
              " ('D', 'E'): (('B',), 0.6666666666666666)}"
            ]
          },
          "metadata": {
            "tags": []
          },
          "execution_count": 16
        }
      ]
    },
    {
      "cell_type": "markdown",
      "metadata": {
        "id": "pnj0NhCmVL0s"
      },
      "source": [
        "## Punto 7. Tabla de Contingencia "
      ]
    },
    {
      "cell_type": "code",
      "metadata": {
        "id": "xQLf2FAASBva"
      },
      "source": [
        "# Se realiza la carga de información del punto 5 \n",
        "d = [ ['A','B','D','E'], \n",
        "    [ 'B','C','D'], \n",
        "    ['A','B','D','E'], \n",
        "    ['A','C','D','E'], \n",
        "    ['B','C','D','E'], \n",
        "    ['B','D','E'], \n",
        "    ['C','D'],\n",
        "    ['A','B','C'],\n",
        "    ['A','D','E'],\n",
        "    ['B','D'] ] "
      ],
      "execution_count": 17,
      "outputs": []
    },
    {
      "cell_type": "code",
      "metadata": {
        "colab": {
          "base_uri": "https://localhost:8080/"
        },
        "id": "vYDftDMxr8tU",
        "outputId": "17ea70ba-5785-499d-bcca-f2b649a10760"
      },
      "source": [
        "association_rules = apy(d, min_support=0.045, min_confidence=0.8, min_lift=1, min_length=1)\n",
        "association_results = list(association_rules)\n",
        "countAssociationRules =  len(association_results)\n",
        "print(\"Cantidad de reglas de asociación \" + str(countAssociationRules))\n",
        "association_results"
      ],
      "execution_count": 20,
      "outputs": [
        {
          "output_type": "stream",
          "text": [
            "Cantidad de reglas de asociación 9\n"
          ],
          "name": "stdout"
        },
        {
          "output_type": "execute_result",
          "data": {
            "text/plain": [
              "[RelationRecord(items=frozenset({'D'}), support=0.9, ordered_statistics=[OrderedStatistic(items_base=frozenset(), items_add=frozenset({'D'}), confidence=0.9, lift=1.0)]),\n",
              " RelationRecord(items=frozenset({'A', 'E'}), support=0.4, ordered_statistics=[OrderedStatistic(items_base=frozenset({'A'}), items_add=frozenset({'E'}), confidence=0.8, lift=1.3333333333333335)]),\n",
              " RelationRecord(items=frozenset({'D', 'E'}), support=0.6, ordered_statistics=[OrderedStatistic(items_base=frozenset({'E'}), items_add=frozenset({'D'}), confidence=1.0, lift=1.1111111111111112)]),\n",
              " RelationRecord(items=frozenset({'D', 'A', 'E'}), support=0.4, ordered_statistics=[OrderedStatistic(items_base=frozenset({'A'}), items_add=frozenset({'D', 'E'}), confidence=0.8, lift=1.3333333333333335), OrderedStatistic(items_base=frozenset({'D', 'A'}), items_add=frozenset({'E'}), confidence=1.0, lift=1.6666666666666667), OrderedStatistic(items_base=frozenset({'A', 'E'}), items_add=frozenset({'D'}), confidence=1.0, lift=1.1111111111111112)]),\n",
              " RelationRecord(items=frozenset({'D', 'E', 'B'}), support=0.4, ordered_statistics=[OrderedStatistic(items_base=frozenset({'E', 'B'}), items_add=frozenset({'D'}), confidence=1.0, lift=1.1111111111111112)]),\n",
              " RelationRecord(items=frozenset({'D', 'C', 'E'}), support=0.2, ordered_statistics=[OrderedStatistic(items_base=frozenset({'C', 'E'}), items_add=frozenset({'D'}), confidence=1.0, lift=1.1111111111111112)]),\n",
              " RelationRecord(items=frozenset({'E', 'D', 'A', 'B'}), support=0.2, ordered_statistics=[OrderedStatistic(items_base=frozenset({'D', 'A', 'B'}), items_add=frozenset({'E'}), confidence=1.0, lift=1.6666666666666667), OrderedStatistic(items_base=frozenset({'E', 'A', 'B'}), items_add=frozenset({'D'}), confidence=1.0, lift=1.1111111111111112)]),\n",
              " RelationRecord(items=frozenset({'D', 'C', 'A', 'E'}), support=0.1, ordered_statistics=[OrderedStatistic(items_base=frozenset({'D', 'C', 'A'}), items_add=frozenset({'E'}), confidence=1.0, lift=1.6666666666666667), OrderedStatistic(items_base=frozenset({'C', 'A', 'E'}), items_add=frozenset({'D'}), confidence=1.0, lift=1.1111111111111112)]),\n",
              " RelationRecord(items=frozenset({'E', 'D', 'C', 'B'}), support=0.1, ordered_statistics=[OrderedStatistic(items_base=frozenset({'E', 'C', 'B'}), items_add=frozenset({'D'}), confidence=1.0, lift=1.1111111111111112)])]"
            ]
          },
          "metadata": {
            "tags": []
          },
          "execution_count": 20
        }
      ]
    },
    {
      "cell_type": "code",
      "metadata": {
        "colab": {
          "base_uri": "https://localhost:8080/"
        },
        "id": "dXGH0PlqsLe0",
        "outputId": "ddbb6143-d13d-4ea3-807a-6e288ea29ed4"
      },
      "source": [
        "listRules = [list(association_results[i][0]) for i in range(0,len(association_results))] \n",
        "listRules"
      ],
      "execution_count": 21,
      "outputs": [
        {
          "output_type": "execute_result",
          "data": {
            "text/plain": [
              "[['D'],\n",
              " ['A', 'E'],\n",
              " ['D', 'E'],\n",
              " ['D', 'A', 'E'],\n",
              " ['D', 'E', 'B'],\n",
              " ['D', 'C', 'E'],\n",
              " ['E', 'D', 'A', 'B'],\n",
              " ['D', 'C', 'A', 'E'],\n",
              " ['E', 'D', 'C', 'B']]"
            ]
          },
          "metadata": {
            "tags": []
          },
          "execution_count": 21
        }
      ]
    },
    {
      "cell_type": "code",
      "metadata": {
        "colab": {
          "base_uri": "https://localhost:8080/"
        },
        "id": "Ay8Z9lqKsOwv",
        "outputId": "3e854625-abfc-4f1e-f718-45fef6ebda47"
      },
      "source": [
        "support = [association_results[i][1] for i in range(0,len(association_results))] # Extraemos los Soportes\n",
        "support"
      ],
      "execution_count": 22,
      "outputs": [
        {
          "output_type": "execute_result",
          "data": {
            "text/plain": [
              "[0.9, 0.4, 0.6, 0.4, 0.4, 0.2, 0.2, 0.1, 0.1]"
            ]
          },
          "metadata": {
            "tags": []
          },
          "execution_count": 22
        }
      ]
    },
    {
      "cell_type": "code",
      "metadata": {
        "colab": {
          "base_uri": "https://localhost:8080/"
        },
        "id": "t7aJMuucsTND",
        "outputId": "5215d40d-79af-4908-b3c2-09ed7efb80a6"
      },
      "source": [
        "relationRecords = [list(association_results[i][2]) for i in range(0,len(association_results))] # Extraemos los Records\n",
        "records = [rec for rec in relationRecords]\n",
        "confidence = [] # Lista Confianza\n",
        "lift = [] # Lista Lift\n",
        "for record in records:\n",
        "  for aux in record:\n",
        "    confidence.append(aux[2]) \n",
        "    lift.append(aux[3])\n",
        "    break\n",
        "records"
      ],
      "execution_count": 23,
      "outputs": [
        {
          "output_type": "execute_result",
          "data": {
            "text/plain": [
              "[[OrderedStatistic(items_base=frozenset(), items_add=frozenset({'D'}), confidence=0.9, lift=1.0)],\n",
              " [OrderedStatistic(items_base=frozenset({'A'}), items_add=frozenset({'E'}), confidence=0.8, lift=1.3333333333333335)],\n",
              " [OrderedStatistic(items_base=frozenset({'E'}), items_add=frozenset({'D'}), confidence=1.0, lift=1.1111111111111112)],\n",
              " [OrderedStatistic(items_base=frozenset({'A'}), items_add=frozenset({'D', 'E'}), confidence=0.8, lift=1.3333333333333335),\n",
              "  OrderedStatistic(items_base=frozenset({'D', 'A'}), items_add=frozenset({'E'}), confidence=1.0, lift=1.6666666666666667),\n",
              "  OrderedStatistic(items_base=frozenset({'A', 'E'}), items_add=frozenset({'D'}), confidence=1.0, lift=1.1111111111111112)],\n",
              " [OrderedStatistic(items_base=frozenset({'E', 'B'}), items_add=frozenset({'D'}), confidence=1.0, lift=1.1111111111111112)],\n",
              " [OrderedStatistic(items_base=frozenset({'C', 'E'}), items_add=frozenset({'D'}), confidence=1.0, lift=1.1111111111111112)],\n",
              " [OrderedStatistic(items_base=frozenset({'D', 'A', 'B'}), items_add=frozenset({'E'}), confidence=1.0, lift=1.6666666666666667),\n",
              "  OrderedStatistic(items_base=frozenset({'E', 'A', 'B'}), items_add=frozenset({'D'}), confidence=1.0, lift=1.1111111111111112)],\n",
              " [OrderedStatistic(items_base=frozenset({'D', 'C', 'A'}), items_add=frozenset({'E'}), confidence=1.0, lift=1.6666666666666667),\n",
              "  OrderedStatistic(items_base=frozenset({'C', 'A', 'E'}), items_add=frozenset({'D'}), confidence=1.0, lift=1.1111111111111112)],\n",
              " [OrderedStatistic(items_base=frozenset({'E', 'C', 'B'}), items_add=frozenset({'D'}), confidence=1.0, lift=1.1111111111111112)]]"
            ]
          },
          "metadata": {
            "tags": []
          },
          "execution_count": 23
        }
      ]
    },
    {
      "cell_type": "code",
      "metadata": {
        "colab": {
          "base_uri": "https://localhost:8080/",
          "height": 306
        },
        "id": "M2eoFkhUsWL6",
        "outputId": "d977aa30-30a5-40f0-8faf-a64f08f829c7"
      },
      "source": [
        "association_data = pd.DataFrame({'labels': listRules, 'support': support,'confidence': confidence,'lift': lift})\n",
        "association_data"
      ],
      "execution_count": 24,
      "outputs": [
        {
          "output_type": "execute_result",
          "data": {
            "text/html": [
              "<div>\n",
              "<style scoped>\n",
              "    .dataframe tbody tr th:only-of-type {\n",
              "        vertical-align: middle;\n",
              "    }\n",
              "\n",
              "    .dataframe tbody tr th {\n",
              "        vertical-align: top;\n",
              "    }\n",
              "\n",
              "    .dataframe thead th {\n",
              "        text-align: right;\n",
              "    }\n",
              "</style>\n",
              "<table border=\"1\" class=\"dataframe\">\n",
              "  <thead>\n",
              "    <tr style=\"text-align: right;\">\n",
              "      <th></th>\n",
              "      <th>labels</th>\n",
              "      <th>support</th>\n",
              "      <th>confidence</th>\n",
              "      <th>lift</th>\n",
              "    </tr>\n",
              "  </thead>\n",
              "  <tbody>\n",
              "    <tr>\n",
              "      <th>0</th>\n",
              "      <td>[D]</td>\n",
              "      <td>0.9</td>\n",
              "      <td>0.9</td>\n",
              "      <td>1.000000</td>\n",
              "    </tr>\n",
              "    <tr>\n",
              "      <th>1</th>\n",
              "      <td>[A, E]</td>\n",
              "      <td>0.4</td>\n",
              "      <td>0.8</td>\n",
              "      <td>1.333333</td>\n",
              "    </tr>\n",
              "    <tr>\n",
              "      <th>2</th>\n",
              "      <td>[D, E]</td>\n",
              "      <td>0.6</td>\n",
              "      <td>1.0</td>\n",
              "      <td>1.111111</td>\n",
              "    </tr>\n",
              "    <tr>\n",
              "      <th>3</th>\n",
              "      <td>[D, A, E]</td>\n",
              "      <td>0.4</td>\n",
              "      <td>0.8</td>\n",
              "      <td>1.333333</td>\n",
              "    </tr>\n",
              "    <tr>\n",
              "      <th>4</th>\n",
              "      <td>[D, E, B]</td>\n",
              "      <td>0.4</td>\n",
              "      <td>1.0</td>\n",
              "      <td>1.111111</td>\n",
              "    </tr>\n",
              "    <tr>\n",
              "      <th>5</th>\n",
              "      <td>[D, C, E]</td>\n",
              "      <td>0.2</td>\n",
              "      <td>1.0</td>\n",
              "      <td>1.111111</td>\n",
              "    </tr>\n",
              "    <tr>\n",
              "      <th>6</th>\n",
              "      <td>[E, D, A, B]</td>\n",
              "      <td>0.2</td>\n",
              "      <td>1.0</td>\n",
              "      <td>1.666667</td>\n",
              "    </tr>\n",
              "    <tr>\n",
              "      <th>7</th>\n",
              "      <td>[D, C, A, E]</td>\n",
              "      <td>0.1</td>\n",
              "      <td>1.0</td>\n",
              "      <td>1.666667</td>\n",
              "    </tr>\n",
              "    <tr>\n",
              "      <th>8</th>\n",
              "      <td>[E, D, C, B]</td>\n",
              "      <td>0.1</td>\n",
              "      <td>1.0</td>\n",
              "      <td>1.111111</td>\n",
              "    </tr>\n",
              "  </tbody>\n",
              "</table>\n",
              "</div>"
            ],
            "text/plain": [
              "         labels  support  confidence      lift\n",
              "0           [D]      0.9         0.9  1.000000\n",
              "1        [A, E]      0.4         0.8  1.333333\n",
              "2        [D, E]      0.6         1.0  1.111111\n",
              "3     [D, A, E]      0.4         0.8  1.333333\n",
              "4     [D, E, B]      0.4         1.0  1.111111\n",
              "5     [D, C, E]      0.2         1.0  1.111111\n",
              "6  [E, D, A, B]      0.2         1.0  1.666667\n",
              "7  [D, C, A, E]      0.1         1.0  1.666667\n",
              "8  [E, D, C, B]      0.1         1.0  1.111111"
            ]
          },
          "metadata": {
            "tags": []
          },
          "execution_count": 24
        }
      ]
    },
    {
      "cell_type": "code",
      "metadata": {
        "colab": {
          "base_uri": "https://localhost:8080/"
        },
        "id": "3-rTEF54slob",
        "outputId": "8910d500-805e-4031-eeb9-455582a8b9c3"
      },
      "source": [
        "itemsets, rules = apriori(d, min_support=0.10,  min_confidence=0.80) # En este punto se cambia los diferentes valores de Soporte y confianza\n",
        "countAssociationRules =  len(rules)\n",
        "results = list(itemsets)\n",
        "print(\"*************************APRIORI*****************************\")\n",
        "print(\"Soporte 10% Confianza 80% \")\n",
        "print(\"Cantidad de reglas de asociación \" + str(countAssociationRules))\n",
        "print(\"------------------------------------------- \")\n",
        "print(\"Reglas k=1\")\n",
        "rules_rhs = filter(lambda rule: len(rule.lhs) == 1 and len(rule.rhs) == 1, rules)\n",
        "for rule in sorted(rules_rhs, key=lambda rule: rule.lift):\n",
        "  print(rule)  # Prints the rule and its confidence, support, lift, ...\n",
        "print(\"------------------------------------------- \")\n",
        "print(\"Reglas k=2\")\n",
        "rules_rhs2 = filter(lambda rule: len(rule.lhs) == 2 and len(rule.rhs) == 1, rules)\n",
        "for rule in sorted(rules_rhs2, key=lambda rule: rule.lift):\n",
        "  print(rule)  # Prints the rule and its confidence, support, lift, ...\n",
        "print(\"------------------------------------------- \")\n",
        "print(\"Reglas k=3\")\n",
        "rules_rhs3 = filter(lambda rule: len(rule.lhs) == 3 and len(rule.rhs) == 1, rules)\n",
        "for rule in sorted(rules_rhs3, key=lambda rule: rule.lift):\n",
        "  print(rule)  # Prints the rule and its confidence, support, lift, ..."
      ],
      "execution_count": 25,
      "outputs": [
        {
          "output_type": "stream",
          "text": [
            "*************************APRIORI*****************************\n",
            "Soporte 10% Confianza 80% \n",
            "Cantidad de reglas de asociación 15\n",
            "------------------------------------------- \n",
            "Reglas k=1\n",
            "{A} -> {D} (conf: 0.800, supp: 0.400, lift: 0.889, conv: 0.500)\n",
            "{C} -> {D} (conf: 0.800, supp: 0.400, lift: 0.889, conv: 0.500)\n",
            "{B} -> {D} (conf: 0.857, supp: 0.600, lift: 0.952, conv: 0.700)\n",
            "{E} -> {D} (conf: 1.000, supp: 0.600, lift: 1.111, conv: 100000000.000)\n",
            "{A} -> {E} (conf: 0.800, supp: 0.400, lift: 1.333, conv: 2.000)\n",
            "------------------------------------------- \n",
            "Reglas k=2\n",
            "{A, E} -> {D} (conf: 1.000, supp: 0.400, lift: 1.111, conv: 100000000.000)\n",
            "{B, E} -> {D} (conf: 1.000, supp: 0.400, lift: 1.111, conv: 100000000.000)\n",
            "{C, E} -> {D} (conf: 1.000, supp: 0.200, lift: 1.111, conv: 100000000.000)\n",
            "{A, D} -> {E} (conf: 1.000, supp: 0.400, lift: 1.667, conv: 400000000.000)\n",
            "------------------------------------------- \n",
            "Reglas k=3\n",
            "{A, B, E} -> {D} (conf: 1.000, supp: 0.200, lift: 1.111, conv: 100000000.000)\n",
            "{A, C, E} -> {D} (conf: 1.000, supp: 0.100, lift: 1.111, conv: 100000000.000)\n",
            "{B, C, E} -> {D} (conf: 1.000, supp: 0.100, lift: 1.111, conv: 100000000.000)\n",
            "{A, B, D} -> {E} (conf: 1.000, supp: 0.200, lift: 1.667, conv: 400000000.000)\n",
            "{A, C, D} -> {E} (conf: 1.000, supp: 0.100, lift: 1.667, conv: 400000000.000)\n"
          ],
          "name": "stdout"
        }
      ]
    }
  ]
}