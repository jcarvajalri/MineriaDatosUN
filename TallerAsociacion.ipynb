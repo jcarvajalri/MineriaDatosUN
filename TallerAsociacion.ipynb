{
  "nbformat": 4,
  "nbformat_minor": 0,
  "metadata": {
    "colab": {
      "name": "TallerAsociacion.ipynb",
      "provenance": [],
      "collapsed_sections": [],
      "authorship_tag": "ABX9TyOYll2pZ54o8OHh7VQmKIW2",
      "include_colab_link": true
    },
    "kernelspec": {
      "name": "python3",
      "display_name": "Python 3"
    },
    "language_info": {
      "name": "python"
    }
  },
  "cells": [
    {
      "cell_type": "markdown",
      "metadata": {
        "id": "view-in-github",
        "colab_type": "text"
      },
      "source": [
        "<a href=\"https://colab.research.google.com/github/jcarvajalri/MineriaDatosUN/blob/main/TallerAsociacion.ipynb\" target=\"_parent\"><img src=\"https://colab.research.google.com/assets/colab-badge.svg\" alt=\"Open In Colab\"/></a>"
      ]
    },
    {
      "cell_type": "markdown",
      "metadata": {
        "id": "wtyLmivrXPOW"
      },
      "source": [
        "# Universidad Nacional de Colombia\n",
        "###Minería de Datos\n",
        "\n",
        "### Prof. Elizabeth León\n",
        "### **Taller de Asociación**\n",
        "### Presentado por: John David Carvajal"
      ]
    },
    {
      "cell_type": "code",
      "metadata": {
        "colab": {
          "base_uri": "https://localhost:8080/"
        },
        "id": "rRa7LIUXXskc",
        "outputId": "15233a91-5c23-4de9-b7d3-413f5a69894a"
      },
      "source": [
        "#Instalación de librerias\n",
        "!pip install apyori\n",
        "!pip install apriori\n",
        "!pip install pyfpgrowth\n",
        "!pip install efficient-apriori"
      ],
      "execution_count": 1,
      "outputs": [
        {
          "output_type": "stream",
          "text": [
            "Collecting apyori\n",
            "  Downloading https://files.pythonhosted.org/packages/5e/62/5ffde5c473ea4b033490617ec5caa80d59804875ad3c3c57c0976533a21a/apyori-1.1.2.tar.gz\n",
            "Building wheels for collected packages: apyori\n",
            "  Building wheel for apyori (setup.py) ... \u001b[?25l\u001b[?25hdone\n",
            "  Created wheel for apyori: filename=apyori-1.1.2-cp37-none-any.whl size=5975 sha256=300a11f0512d3a1aed5354cd4527661664ff229cf0a49c9dc8e5ca0e4b78592d\n",
            "  Stored in directory: /root/.cache/pip/wheels/5d/92/bb/474bbadbc8c0062b9eb168f69982a0443263f8ab1711a8cad0\n",
            "Successfully built apyori\n",
            "Installing collected packages: apyori\n",
            "Successfully installed apyori-1.1.2\n",
            "Collecting apriori\n",
            "  Downloading https://files.pythonhosted.org/packages/b2/74/725e1e087c29887e51e12f3a1d39d877fff47a8832019d91c3829355766e/apriori-1.0.0.tar.gz\n",
            "Building wheels for collected packages: apriori\n",
            "  Building wheel for apriori (setup.py) ... \u001b[?25l\u001b[?25hdone\n",
            "  Created wheel for apriori: filename=apriori-1.0.0-cp37-none-any.whl size=2478 sha256=e3a54e0ef087f331be4282271a4d369e14cbbeadcc94a6c8c2cf8fb845e8ee54\n",
            "  Stored in directory: /root/.cache/pip/wheels/20/c3/82/6e5f443b9a41b1e9ad991017fb64814bc75b4654409a073ea3\n",
            "Successfully built apriori\n",
            "Installing collected packages: apriori\n",
            "Successfully installed apriori-1.0.0\n",
            "Collecting pyfpgrowth\n",
            "\u001b[?25l  Downloading https://files.pythonhosted.org/packages/d2/4c/8b7cd90b4118ff0286d6584909b99e1ca5642bdc9072fa5a8dd361c864a0/pyfpgrowth-1.0.tar.gz (1.6MB)\n",
            "\u001b[K     |████████████████████████████████| 1.6MB 12.3MB/s \n",
            "\u001b[?25hBuilding wheels for collected packages: pyfpgrowth\n",
            "  Building wheel for pyfpgrowth (setup.py) ... \u001b[?25l\u001b[?25hdone\n",
            "  Created wheel for pyfpgrowth: filename=pyfpgrowth-1.0-py2.py3-none-any.whl size=5477 sha256=563a978135f5e48b829ae3f759f553ddcbbe9aa0485b0d0b00bdd1221bdf6dc4\n",
            "  Stored in directory: /root/.cache/pip/wheels/3b/3f/0d/a04bb8b17887c1eca7d0f1a48d4aa0c09c96eb221ff7fa56c1\n",
            "Successfully built pyfpgrowth\n",
            "Installing collected packages: pyfpgrowth\n",
            "Successfully installed pyfpgrowth-1.0\n",
            "Collecting efficient-apriori\n",
            "  Downloading https://files.pythonhosted.org/packages/5a/c6/ecdf3a32d23cada466634c649cf4f50fefe76f56eae53ecceff688b306be/efficient_apriori-1.1.1-py3-none-any.whl\n",
            "Installing collected packages: efficient-apriori\n",
            "Successfully installed efficient-apriori-1.1.1\n"
          ],
          "name": "stdout"
        }
      ]
    },
    {
      "cell_type": "code",
      "metadata": {
        "id": "6WgjkdLkXGRz"
      },
      "source": [
        "\n",
        "#Import de Librerias\n",
        "import numpy as np\n",
        "import pandas as pd\n",
        "import pyfpgrowth\n",
        "import time\n",
        "#from efficient_apriori import apriori\n",
        "from apyori import apriori\n",
        "from sklearn import preprocessing\n",
        "from scipy import stats\n",
        "from google.colab import files\n",
        "import io"
      ],
      "execution_count": 2,
      "outputs": []
    },
    {
      "cell_type": "code",
      "metadata": {
        "id": "3tchX5WEaBsc"
      },
      "source": [
        "transactions = [[1, 2, 5],\n",
        "                [2, 4],\n",
        "                [2, 3],\n",
        "                [1, 2, 4],\n",
        "                [1, 3],\n",
        "                [2, 3],\n",
        "                [1, 3],\n",
        "                [1, 2, 3, 5],\n",
        "                [1, 2, 3]]"
      ],
      "execution_count": null,
      "outputs": []
    },
    {
      "cell_type": "code",
      "metadata": {
        "colab": {
          "base_uri": "https://localhost:8080/"
        },
        "id": "6ET1Bw1Id2eg",
        "outputId": "58ab143c-e937-4b87-8f18-60d8ca70ee62"
      },
      "source": [
        "#Utilice find_frequent_patterns para encontrar patrones en cestas que se produzcan por encima del umbral de soporte:\n",
        "patterns = pyfpgrowth.find_frequent_patterns(transactions, 2)\n",
        "print(patterns)"
      ],
      "execution_count": null,
      "outputs": [
        {
          "output_type": "stream",
          "text": [
            "{(5,): 2, (1, 5): 2, (2, 5): 2, (1, 2, 5): 2, (4,): 2, (2, 4): 2, (1,): 6, (1, 2): 4, (2, 3): 4, (1, 2, 3): 2, (1, 3): 4, (2,): 7}\n"
          ],
          "name": "stdout"
        }
      ]
    },
    {
      "cell_type": "code",
      "metadata": {
        "colab": {
          "base_uri": "https://localhost:8080/"
        },
        "id": "ARtUyh3NeWAk",
        "outputId": "3601ea1c-a5a6-401a-daed-fd3b6fd80c0d"
      },
      "source": [
        "#Utilice generate_association_rules para encontrar patrones que estén asociados con otro con una cierta probabilidad mínima:\n",
        "rules = pyfpgrowth.generate_association_rules(patterns, 0.7)\n",
        "print(rules)"
      ],
      "execution_count": null,
      "outputs": [
        {
          "output_type": "stream",
          "text": [
            "{(5,): ((1, 2), 1.0), (1, 5): ((2,), 1.0), (2, 5): ((1,), 1.0), (4,): ((2,), 1.0)}\n"
          ],
          "name": "stdout"
        }
      ]
    },
    {
      "cell_type": "markdown",
      "metadata": {
        "id": "Iiamch3o_NfF"
      },
      "source": [
        "## Punto 1 “market basket”"
      ]
    },
    {
      "cell_type": "code",
      "metadata": {
        "colab": {
          "resources": {
            "http://localhost:8080/nbextensions/google.colab/files.js": {
              "data": "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",
              "ok": true,
              "headers": [
                [
                  "content-type",
                  "application/javascript"
                ]
              ],
              "status": 200,
              "status_text": ""
            }
          },
          "base_uri": "https://localhost:8080/",
          "height": 73
        },
        "id": "bUb9QiIGSsB8",
        "outputId": "3b0b9bea-3f0c-47a5-ad92-2b67a3bd01a9"
      },
      "source": [
        "uploaded = files.upload()"
      ],
      "execution_count": 80,
      "outputs": [
        {
          "output_type": "display_data",
          "data": {
            "text/html": [
              "\n",
              "     <input type=\"file\" id=\"files-a7d6a82f-c4fc-4ae6-9bc8-30e3f40741a6\" name=\"files[]\" multiple disabled\n",
              "        style=\"border:none\" />\n",
              "     <output id=\"result-a7d6a82f-c4fc-4ae6-9bc8-30e3f40741a6\">\n",
              "      Upload widget is only available when the cell has been executed in the\n",
              "      current browser session. Please rerun this cell to enable.\n",
              "      </output>\n",
              "      <script src=\"/nbextensions/google.colab/files.js\"></script> "
            ],
            "text/plain": [
              "<IPython.core.display.HTML object>"
            ]
          },
          "metadata": {
            "tags": []
          }
        },
        {
          "output_type": "stream",
          "text": [
            "Saving marketBasketN.csv to marketBasketN.csv\n"
          ],
          "name": "stdout"
        }
      ]
    },
    {
      "cell_type": "code",
      "metadata": {
        "colab": {
          "base_uri": "https://localhost:8080/",
          "height": 347
        },
        "id": "XIuBRenl_afd",
        "outputId": "d6dbb0ff-78f3-4723-adfe-37f336507b84"
      },
      "source": [
        "#Se visualiza el archivo market Basket\n",
        "dataMB = pd.read_csv(io.BytesIO(uploaded['marketBasketN.csv']), sep=';',header=None)\n",
        "#dataMB.head()\n",
        "#dataMB.shape\n",
        "dataMB"
      ],
      "execution_count": 82,
      "outputs": [
        {
          "output_type": "execute_result",
          "data": {
            "text/html": [
              "<div>\n",
              "<style scoped>\n",
              "    .dataframe tbody tr th:only-of-type {\n",
              "        vertical-align: middle;\n",
              "    }\n",
              "\n",
              "    .dataframe tbody tr th {\n",
              "        vertical-align: top;\n",
              "    }\n",
              "\n",
              "    .dataframe thead th {\n",
              "        text-align: right;\n",
              "    }\n",
              "</style>\n",
              "<table border=\"1\" class=\"dataframe\">\n",
              "  <thead>\n",
              "    <tr style=\"text-align: right;\">\n",
              "      <th></th>\n",
              "      <th>0</th>\n",
              "      <th>1</th>\n",
              "      <th>2</th>\n",
              "      <th>3</th>\n",
              "      <th>4</th>\n",
              "      <th>5</th>\n",
              "    </tr>\n",
              "  </thead>\n",
              "  <tbody>\n",
              "    <tr>\n",
              "      <th>0</th>\n",
              "      <td>Leche</td>\n",
              "      <td>Cerveza</td>\n",
              "      <td>Pañales</td>\n",
              "      <td>NaN</td>\n",
              "      <td>NaN</td>\n",
              "      <td>NaN</td>\n",
              "    </tr>\n",
              "    <tr>\n",
              "      <th>1</th>\n",
              "      <td>Leche</td>\n",
              "      <td>NaN</td>\n",
              "      <td>NaN</td>\n",
              "      <td>Pan</td>\n",
              "      <td>Mantequilla</td>\n",
              "      <td>NaN</td>\n",
              "    </tr>\n",
              "    <tr>\n",
              "      <th>2</th>\n",
              "      <td>Leche</td>\n",
              "      <td>NaN</td>\n",
              "      <td>Pañales</td>\n",
              "      <td>NaN</td>\n",
              "      <td>NaN</td>\n",
              "      <td>Galletas</td>\n",
              "    </tr>\n",
              "    <tr>\n",
              "      <th>3</th>\n",
              "      <td>NaN</td>\n",
              "      <td>NaN</td>\n",
              "      <td>NaN</td>\n",
              "      <td>Pan</td>\n",
              "      <td>Mantequilla</td>\n",
              "      <td>Galletas</td>\n",
              "    </tr>\n",
              "    <tr>\n",
              "      <th>4</th>\n",
              "      <td>NaN</td>\n",
              "      <td>Cerveza</td>\n",
              "      <td>Pañales</td>\n",
              "      <td>NaN</td>\n",
              "      <td>NaN</td>\n",
              "      <td>Galletas</td>\n",
              "    </tr>\n",
              "    <tr>\n",
              "      <th>5</th>\n",
              "      <td>Leche</td>\n",
              "      <td>NaN</td>\n",
              "      <td>Pañales</td>\n",
              "      <td>Pan</td>\n",
              "      <td>Mantequilla</td>\n",
              "      <td>NaN</td>\n",
              "    </tr>\n",
              "    <tr>\n",
              "      <th>6</th>\n",
              "      <td>NaN</td>\n",
              "      <td>NaN</td>\n",
              "      <td>Pañales</td>\n",
              "      <td>Pan</td>\n",
              "      <td>Mantequilla</td>\n",
              "      <td>NaN</td>\n",
              "    </tr>\n",
              "    <tr>\n",
              "      <th>7</th>\n",
              "      <td>NaN</td>\n",
              "      <td>Cerveza</td>\n",
              "      <td>Pañales</td>\n",
              "      <td>NaN</td>\n",
              "      <td>NaN</td>\n",
              "      <td>NaN</td>\n",
              "    </tr>\n",
              "    <tr>\n",
              "      <th>8</th>\n",
              "      <td>Leche</td>\n",
              "      <td>NaN</td>\n",
              "      <td>Pañales</td>\n",
              "      <td>Pan</td>\n",
              "      <td>Mantequilla</td>\n",
              "      <td>NaN</td>\n",
              "    </tr>\n",
              "    <tr>\n",
              "      <th>9</th>\n",
              "      <td>NaN</td>\n",
              "      <td>Cerveza</td>\n",
              "      <td>NaN</td>\n",
              "      <td>NaN</td>\n",
              "      <td>NaN</td>\n",
              "      <td>Galletas</td>\n",
              "    </tr>\n",
              "  </tbody>\n",
              "</table>\n",
              "</div>"
            ],
            "text/plain": [
              "       0        1        2    3            4         5\n",
              "0  Leche  Cerveza  Pañales  NaN          NaN       NaN\n",
              "1  Leche      NaN      NaN  Pan  Mantequilla       NaN\n",
              "2  Leche      NaN  Pañales  NaN          NaN  Galletas\n",
              "3    NaN      NaN      NaN  Pan  Mantequilla  Galletas\n",
              "4    NaN  Cerveza  Pañales  NaN          NaN  Galletas\n",
              "5  Leche      NaN  Pañales  Pan  Mantequilla       NaN\n",
              "6    NaN      NaN  Pañales  Pan  Mantequilla       NaN\n",
              "7    NaN  Cerveza  Pañales  NaN          NaN       NaN\n",
              "8  Leche      NaN  Pañales  Pan  Mantequilla       NaN\n",
              "9    NaN  Cerveza      NaN  NaN          NaN  Galletas"
            ]
          },
          "metadata": {
            "tags": []
          },
          "execution_count": 82
        }
      ]
    },
    {
      "cell_type": "code",
      "metadata": {
        "colab": {
          "base_uri": "https://localhost:8080/"
        },
        "id": "aFE3iefzQFhl",
        "outputId": "1055a93e-25e1-498e-db7e-3c38ff36ae8e"
      },
      "source": [
        "recordsMB = []\n",
        "for i in range(0, 10):\n",
        "    recordsMB.append([str(dataMB.values[i,j]) for j in range(0, 5)])\n",
        "print(recordsMB)    "
      ],
      "execution_count": 83,
      "outputs": [
        {
          "output_type": "stream",
          "text": [
            "[['Leche', 'Cerveza', 'Pañales', 'nan', 'nan'], ['Leche', 'nan', 'nan', 'Pan', 'Mantequilla'], ['Leche', 'nan', 'Pañales', 'nan', 'nan'], ['nan', 'nan', 'nan', 'Pan', 'Mantequilla'], ['nan', 'Cerveza', 'Pañales', 'nan', 'nan'], ['Leche', 'nan', 'Pañales', 'Pan', 'Mantequilla'], ['nan', 'nan', 'Pañales', 'Pan', 'Mantequilla'], ['nan', 'Cerveza', 'Pañales', 'nan', 'nan'], ['Leche', 'nan', 'Pañales', 'Pan', 'Mantequilla'], ['nan', 'Cerveza', 'nan', 'nan', 'nan']]\n"
          ],
          "name": "stdout"
        }
      ]
    },
    {
      "cell_type": "code",
      "metadata": {
        "colab": {
          "base_uri": "https://localhost:8080/"
        },
        "id": "aTr4kMeaOEBH",
        "outputId": "8b07e268-05ca-44de-995d-9e967b86a109"
      },
      "source": [
        "# (a) Una regla que tiene alto soporte y alta confianza\n",
        "#Soporte = 60% confianza = 60% Minima selección de productos 2\n",
        "association_rules = apriori(recordsMB, min_support=0.6, min_confidence=0.6, min_lift=2, min_length=2)\n",
        "association_results = list(association_rules)\n",
        "countAssociationRules =  len(association_results)\n",
        "print(\"Cantidad de reglas de asociación \" + str(countAssociationRules))\n",
        "association_results"
      ],
      "execution_count": 84,
      "outputs": [
        {
          "output_type": "stream",
          "text": [
            "Cantidad de reglas de asociación 0\n"
          ],
          "name": "stdout"
        },
        {
          "output_type": "execute_result",
          "data": {
            "text/plain": [
              "[]"
            ]
          },
          "metadata": {
            "tags": []
          },
          "execution_count": 84
        }
      ]
    },
    {
      "cell_type": "code",
      "metadata": {
        "colab": {
          "base_uri": "https://localhost:8080/"
        },
        "id": "Z_jD6uICYcnb",
        "outputId": "ffb0c31e-2dd4-4da2-d68c-682f5fe0b040"
      },
      "source": [
        "# (b) Una regla que tiene razonablemente alto soporte, pero baja confianza\n",
        "#Soporte = 45% confianza = 20% Minima selección de productos 2\n",
        "association_rules = apriori(recordsMB, min_support=0.45, min_confidence=0.2, min_lift=2, min_length=2)\n",
        "association_results = list(association_rules)\n",
        "countAssociationRules =  len(association_results)\n",
        "print(\"Cantidad de reglas de asociación \" + str(countAssociationRules))\n",
        "association_results"
      ],
      "execution_count": 85,
      "outputs": [
        {
          "output_type": "stream",
          "text": [
            "Cantidad de reglas de asociación 2\n"
          ],
          "name": "stdout"
        },
        {
          "output_type": "execute_result",
          "data": {
            "text/plain": [
              "[RelationRecord(items=frozenset({'Mantequilla', 'Pan'}), support=0.5, ordered_statistics=[OrderedStatistic(items_base=frozenset({'Mantequilla'}), items_add=frozenset({'Pan'}), confidence=1.0, lift=2.0), OrderedStatistic(items_base=frozenset({'Pan'}), items_add=frozenset({'Mantequilla'}), confidence=1.0, lift=2.0)]),\n",
              " RelationRecord(items=frozenset({'nan', 'Mantequilla', 'Pan'}), support=0.5, ordered_statistics=[OrderedStatistic(items_base=frozenset({'Mantequilla'}), items_add=frozenset({'nan', 'Pan'}), confidence=1.0, lift=2.0), OrderedStatistic(items_base=frozenset({'Pan'}), items_add=frozenset({'nan', 'Mantequilla'}), confidence=1.0, lift=2.0), OrderedStatistic(items_base=frozenset({'nan', 'Mantequilla'}), items_add=frozenset({'Pan'}), confidence=1.0, lift=2.0), OrderedStatistic(items_base=frozenset({'nan', 'Pan'}), items_add=frozenset({'Mantequilla'}), confidence=1.0, lift=2.0)])]"
            ]
          },
          "metadata": {
            "tags": []
          },
          "execution_count": 85
        }
      ]
    },
    {
      "cell_type": "code",
      "metadata": {
        "colab": {
          "base_uri": "https://localhost:8080/"
        },
        "id": "BaD_OBt4aEtN",
        "outputId": "978358c0-b49b-412c-f918-59a8ea8369cb"
      },
      "source": [
        "# c) Una regla que tiene bajo soporte y baja confianza\n",
        "#Soporte = 4.5% confianza = 10% Minima selección de productos 2\n",
        "association_rules = apriori(recordsMB, min_support=0.045, min_confidence=0.1, min_lift=2, min_length=2)\n",
        "association_results = list(association_rules)\n",
        "countAssociationRules =  len(association_results)\n",
        "print(\"Cantidad de reglas de asociación \" + str(countAssociationRules))\n",
        "association_results"
      ],
      "execution_count": 87,
      "outputs": [
        {
          "output_type": "stream",
          "text": [
            "Cantidad de reglas de asociación 8\n"
          ],
          "name": "stdout"
        },
        {
          "output_type": "execute_result",
          "data": {
            "text/plain": [
              "[RelationRecord(items=frozenset({'Mantequilla', 'Pan'}), support=0.5, ordered_statistics=[OrderedStatistic(items_base=frozenset({'Mantequilla'}), items_add=frozenset({'Pan'}), confidence=1.0, lift=2.0), OrderedStatistic(items_base=frozenset({'Pan'}), items_add=frozenset({'Mantequilla'}), confidence=1.0, lift=2.0)]),\n",
              " RelationRecord(items=frozenset({'Mantequilla', 'Leche', 'Pan'}), support=0.3, ordered_statistics=[OrderedStatistic(items_base=frozenset({'Mantequilla'}), items_add=frozenset({'Leche', 'Pan'}), confidence=0.6, lift=2.0), OrderedStatistic(items_base=frozenset({'Pan'}), items_add=frozenset({'Mantequilla', 'Leche'}), confidence=0.6, lift=2.0), OrderedStatistic(items_base=frozenset({'Mantequilla', 'Leche'}), items_add=frozenset({'Pan'}), confidence=1.0, lift=2.0), OrderedStatistic(items_base=frozenset({'Leche', 'Pan'}), items_add=frozenset({'Mantequilla'}), confidence=1.0, lift=2.0)]),\n",
              " RelationRecord(items=frozenset({'Mantequilla', 'Pañales', 'Pan'}), support=0.3, ordered_statistics=[OrderedStatistic(items_base=frozenset({'Mantequilla'}), items_add=frozenset({'Pan', 'Pañales'}), confidence=0.6, lift=2.0), OrderedStatistic(items_base=frozenset({'Pan'}), items_add=frozenset({'Mantequilla', 'Pañales'}), confidence=0.6, lift=2.0), OrderedStatistic(items_base=frozenset({'Mantequilla', 'Pañales'}), items_add=frozenset({'Pan'}), confidence=1.0, lift=2.0), OrderedStatistic(items_base=frozenset({'Pañales', 'Pan'}), items_add=frozenset({'Mantequilla'}), confidence=1.0, lift=2.0)]),\n",
              " RelationRecord(items=frozenset({'nan', 'Mantequilla', 'Pan'}), support=0.5, ordered_statistics=[OrderedStatistic(items_base=frozenset({'Mantequilla'}), items_add=frozenset({'nan', 'Pan'}), confidence=1.0, lift=2.0), OrderedStatistic(items_base=frozenset({'Pan'}), items_add=frozenset({'nan', 'Mantequilla'}), confidence=1.0, lift=2.0), OrderedStatistic(items_base=frozenset({'nan', 'Mantequilla'}), items_add=frozenset({'Pan'}), confidence=1.0, lift=2.0), OrderedStatistic(items_base=frozenset({'nan', 'Pan'}), items_add=frozenset({'Mantequilla'}), confidence=1.0, lift=2.0)]),\n",
              " RelationRecord(items=frozenset({'Mantequilla', 'Leche', 'Pañales', 'Pan'}), support=0.2, ordered_statistics=[OrderedStatistic(items_base=frozenset({'Mantequilla'}), items_add=frozenset({'Pan', 'Leche', 'Pañales'}), confidence=0.4, lift=2.0), OrderedStatistic(items_base=frozenset({'Pan'}), items_add=frozenset({'Mantequilla', 'Pañales', 'Leche'}), confidence=0.4, lift=2.0), OrderedStatistic(items_base=frozenset({'Mantequilla', 'Leche'}), items_add=frozenset({'Pan', 'Pañales'}), confidence=0.6666666666666667, lift=2.2222222222222228), OrderedStatistic(items_base=frozenset({'Leche', 'Pan'}), items_add=frozenset({'Mantequilla', 'Pañales'}), confidence=0.6666666666666667, lift=2.2222222222222228), OrderedStatistic(items_base=frozenset({'Mantequilla', 'Pañales'}), items_add=frozenset({'Leche', 'Pan'}), confidence=0.6666666666666667, lift=2.2222222222222228), OrderedStatistic(items_base=frozenset({'Pañales', 'Pan'}), items_add=frozenset({'Mantequilla', 'Leche'}), confidence=0.6666666666666667, lift=2.2222222222222228), OrderedStatistic(items_base=frozenset({'Mantequilla', 'Leche', 'Pañales'}), items_add=frozenset({'Pan'}), confidence=1.0, lift=2.0), OrderedStatistic(items_base=frozenset({'Leche', 'Pañales', 'Pan'}), items_add=frozenset({'Mantequilla'}), confidence=1.0, lift=2.0)]),\n",
              " RelationRecord(items=frozenset({'Mantequilla', 'Leche', 'nan', 'Pan'}), support=0.3, ordered_statistics=[OrderedStatistic(items_base=frozenset({'Mantequilla'}), items_add=frozenset({'nan', 'Leche', 'Pan'}), confidence=0.6, lift=2.0), OrderedStatistic(items_base=frozenset({'Pan'}), items_add=frozenset({'nan', 'Mantequilla', 'Leche'}), confidence=0.6, lift=2.0), OrderedStatistic(items_base=frozenset({'Mantequilla', 'Leche'}), items_add=frozenset({'nan', 'Pan'}), confidence=1.0, lift=2.0), OrderedStatistic(items_base=frozenset({'Leche', 'Pan'}), items_add=frozenset({'nan', 'Mantequilla'}), confidence=1.0, lift=2.0), OrderedStatistic(items_base=frozenset({'nan', 'Mantequilla'}), items_add=frozenset({'Leche', 'Pan'}), confidence=0.6, lift=2.0), OrderedStatistic(items_base=frozenset({'nan', 'Pan'}), items_add=frozenset({'Mantequilla', 'Leche'}), confidence=0.6, lift=2.0), OrderedStatistic(items_base=frozenset({'Mantequilla', 'Leche', 'nan'}), items_add=frozenset({'Pan'}), confidence=1.0, lift=2.0), OrderedStatistic(items_base=frozenset({'nan', 'Leche', 'Pan'}), items_add=frozenset({'Mantequilla'}), confidence=1.0, lift=2.0)]),\n",
              " RelationRecord(items=frozenset({'nan', 'Mantequilla', 'Pañales', 'Pan'}), support=0.3, ordered_statistics=[OrderedStatistic(items_base=frozenset({'Mantequilla'}), items_add=frozenset({'nan', 'Pan', 'Pañales'}), confidence=0.6, lift=2.0), OrderedStatistic(items_base=frozenset({'Pan'}), items_add=frozenset({'nan', 'Mantequilla', 'Pañales'}), confidence=0.6, lift=2.0), OrderedStatistic(items_base=frozenset({'Mantequilla', 'Pañales'}), items_add=frozenset({'nan', 'Pan'}), confidence=1.0, lift=2.0), OrderedStatistic(items_base=frozenset({'nan', 'Mantequilla'}), items_add=frozenset({'Pan', 'Pañales'}), confidence=0.6, lift=2.0), OrderedStatistic(items_base=frozenset({'Pañales', 'Pan'}), items_add=frozenset({'nan', 'Mantequilla'}), confidence=1.0, lift=2.0), OrderedStatistic(items_base=frozenset({'nan', 'Pan'}), items_add=frozenset({'Mantequilla', 'Pañales'}), confidence=0.6, lift=2.0), OrderedStatistic(items_base=frozenset({'nan', 'Mantequilla', 'Pañales'}), items_add=frozenset({'Pan'}), confidence=1.0, lift=2.0), OrderedStatistic(items_base=frozenset({'nan', 'Pañales', 'Pan'}), items_add=frozenset({'Mantequilla'}), confidence=1.0, lift=2.0)]),\n",
              " RelationRecord(items=frozenset({'Leche', 'nan', 'Mantequilla', 'Pan', 'Pañales'}), support=0.2, ordered_statistics=[OrderedStatistic(items_base=frozenset({'Mantequilla'}), items_add=frozenset({'nan', 'Leche', 'Pañales', 'Pan'}), confidence=0.4, lift=2.0), OrderedStatistic(items_base=frozenset({'Pan'}), items_add=frozenset({'nan', 'Leche', 'Mantequilla', 'Pañales'}), confidence=0.4, lift=2.0), OrderedStatistic(items_base=frozenset({'Mantequilla', 'Leche'}), items_add=frozenset({'nan', 'Pañales', 'Pan'}), confidence=0.6666666666666667, lift=2.2222222222222228), OrderedStatistic(items_base=frozenset({'Leche', 'Pan'}), items_add=frozenset({'nan', 'Mantequilla', 'Pañales'}), confidence=0.6666666666666667, lift=2.2222222222222228), OrderedStatistic(items_base=frozenset({'Mantequilla', 'Pañales'}), items_add=frozenset({'nan', 'Leche', 'Pan'}), confidence=0.6666666666666667, lift=2.2222222222222228), OrderedStatistic(items_base=frozenset({'nan', 'Mantequilla'}), items_add=frozenset({'Leche', 'Pañales', 'Pan'}), confidence=0.4, lift=2.0), OrderedStatistic(items_base=frozenset({'Pañales', 'Pan'}), items_add=frozenset({'nan', 'Leche', 'Mantequilla'}), confidence=0.6666666666666667, lift=2.2222222222222228), OrderedStatistic(items_base=frozenset({'nan', 'Pan'}), items_add=frozenset({'Mantequilla', 'Leche', 'Pañales'}), confidence=0.4, lift=2.0), OrderedStatistic(items_base=frozenset({'Mantequilla', 'Leche', 'Pañales'}), items_add=frozenset({'nan', 'Pan'}), confidence=1.0, lift=2.0), OrderedStatistic(items_base=frozenset({'Mantequilla', 'Leche', 'nan'}), items_add=frozenset({'Pañales', 'Pan'}), confidence=0.6666666666666667, lift=2.2222222222222228), OrderedStatistic(items_base=frozenset({'Leche', 'Pañales', 'Pan'}), items_add=frozenset({'nan', 'Mantequilla'}), confidence=1.0, lift=2.0), OrderedStatistic(items_base=frozenset({'nan', 'Leche', 'Pan'}), items_add=frozenset({'Mantequilla', 'Pañales'}), confidence=0.6666666666666667, lift=2.2222222222222228), OrderedStatistic(items_base=frozenset({'nan', 'Mantequilla', 'Pañales'}), items_add=frozenset({'Leche', 'Pan'}), confidence=0.6666666666666667, lift=2.2222222222222228), OrderedStatistic(items_base=frozenset({'nan', 'Pañales', 'Pan'}), items_add=frozenset({'Mantequilla', 'Leche'}), confidence=0.6666666666666667, lift=2.2222222222222228), OrderedStatistic(items_base=frozenset({'Mantequilla', 'Leche', 'nan', 'Pañales'}), items_add=frozenset({'Pan'}), confidence=1.0, lift=2.0), OrderedStatistic(items_base=frozenset({'nan', 'Leche', 'Pañales', 'Pan'}), items_add=frozenset({'Mantequilla'}), confidence=1.0, lift=2.0)])]"
            ]
          },
          "metadata": {
            "tags": []
          },
          "execution_count": 87
        }
      ]
    },
    {
      "cell_type": "code",
      "metadata": {
        "colab": {
          "base_uri": "https://localhost:8080/"
        },
        "id": "vuVUdVqYbRNQ",
        "outputId": "72abfd50-e349-4e7f-9cd8-82d7998452ca"
      },
      "source": [
        "for item in association_results:\n",
        "\n",
        "    # first index of the inner list\n",
        "    # Contains base item and add item\n",
        "    pair = item[0] \n",
        "    items = [x for x in pair]\n",
        "    print(\"Rule: \" + items[0] + \" -> \" + items[1])\n",
        "\n",
        "    #second index of the inner list\n",
        "    print(\"Support: \" + str(item[1]))\n",
        "\n",
        "    #third index of the list located at 0th\n",
        "    #of the third index of the inner list\n",
        "\n",
        "    print(\"Confidence: \" + str(item[2][0][2]))\n",
        "    print(\"Lift: \" + str(item[2][0][3]))\n",
        "    print(\"=====================================\")"
      ],
      "execution_count": 88,
      "outputs": [
        {
          "output_type": "stream",
          "text": [
            "Rule: Mantequilla -> Pan\n",
            "Support: 0.5\n",
            "Confidence: 1.0\n",
            "Lift: 2.0\n",
            "=====================================\n",
            "Rule: Mantequilla -> Leche\n",
            "Support: 0.3\n",
            "Confidence: 0.6\n",
            "Lift: 2.0\n",
            "=====================================\n",
            "Rule: Mantequilla -> Pañales\n",
            "Support: 0.3\n",
            "Confidence: 0.6\n",
            "Lift: 2.0\n",
            "=====================================\n",
            "Rule: nan -> Mantequilla\n",
            "Support: 0.5\n",
            "Confidence: 1.0\n",
            "Lift: 2.0\n",
            "=====================================\n",
            "Rule: Mantequilla -> Leche\n",
            "Support: 0.2\n",
            "Confidence: 0.4\n",
            "Lift: 2.0\n",
            "=====================================\n",
            "Rule: Mantequilla -> Leche\n",
            "Support: 0.3\n",
            "Confidence: 0.6\n",
            "Lift: 2.0\n",
            "=====================================\n",
            "Rule: nan -> Mantequilla\n",
            "Support: 0.3\n",
            "Confidence: 0.6\n",
            "Lift: 2.0\n",
            "=====================================\n",
            "Rule: Leche -> nan\n",
            "Support: 0.2\n",
            "Confidence: 0.4\n",
            "Lift: 2.0\n",
            "=====================================\n"
          ],
          "name": "stdout"
        }
      ]
    },
    {
      "cell_type": "code",
      "metadata": {
        "colab": {
          "base_uri": "https://localhost:8080/"
        },
        "id": "hC6t8C38dN7e",
        "outputId": "78b7a696-396c-4b98-dcbb-184932bcb8af"
      },
      "source": [
        "# (d) Una regla que tiene bajo soporte y alta confianza\n",
        "#Soporte = 4.5% confianza = 70% Minima selección de productos 2\n",
        "association_rules = apriori(recordsMB, min_support=0.045, min_confidence=0.7, min_lift=2, min_length=2)\n",
        "association_results = list(association_rules)\n",
        "countAssociationRules =  len(association_results)\n",
        "print(\"Cantidad de reglas de asociación \" + str(countAssociationRules))\n",
        "association_results"
      ],
      "execution_count": 89,
      "outputs": [
        {
          "output_type": "stream",
          "text": [
            "Cantidad de reglas de asociación 8\n"
          ],
          "name": "stdout"
        },
        {
          "output_type": "execute_result",
          "data": {
            "text/plain": [
              "[RelationRecord(items=frozenset({'Mantequilla', 'Pan'}), support=0.5, ordered_statistics=[OrderedStatistic(items_base=frozenset({'Mantequilla'}), items_add=frozenset({'Pan'}), confidence=1.0, lift=2.0), OrderedStatistic(items_base=frozenset({'Pan'}), items_add=frozenset({'Mantequilla'}), confidence=1.0, lift=2.0)]),\n",
              " RelationRecord(items=frozenset({'Mantequilla', 'Leche', 'Pan'}), support=0.3, ordered_statistics=[OrderedStatistic(items_base=frozenset({'Mantequilla', 'Leche'}), items_add=frozenset({'Pan'}), confidence=1.0, lift=2.0), OrderedStatistic(items_base=frozenset({'Leche', 'Pan'}), items_add=frozenset({'Mantequilla'}), confidence=1.0, lift=2.0)]),\n",
              " RelationRecord(items=frozenset({'Mantequilla', 'Pañales', 'Pan'}), support=0.3, ordered_statistics=[OrderedStatistic(items_base=frozenset({'Mantequilla', 'Pañales'}), items_add=frozenset({'Pan'}), confidence=1.0, lift=2.0), OrderedStatistic(items_base=frozenset({'Pañales', 'Pan'}), items_add=frozenset({'Mantequilla'}), confidence=1.0, lift=2.0)]),\n",
              " RelationRecord(items=frozenset({'nan', 'Mantequilla', 'Pan'}), support=0.5, ordered_statistics=[OrderedStatistic(items_base=frozenset({'Mantequilla'}), items_add=frozenset({'nan', 'Pan'}), confidence=1.0, lift=2.0), OrderedStatistic(items_base=frozenset({'Pan'}), items_add=frozenset({'nan', 'Mantequilla'}), confidence=1.0, lift=2.0), OrderedStatistic(items_base=frozenset({'nan', 'Mantequilla'}), items_add=frozenset({'Pan'}), confidence=1.0, lift=2.0), OrderedStatistic(items_base=frozenset({'nan', 'Pan'}), items_add=frozenset({'Mantequilla'}), confidence=1.0, lift=2.0)]),\n",
              " RelationRecord(items=frozenset({'Mantequilla', 'Leche', 'Pañales', 'Pan'}), support=0.2, ordered_statistics=[OrderedStatistic(items_base=frozenset({'Mantequilla', 'Leche', 'Pañales'}), items_add=frozenset({'Pan'}), confidence=1.0, lift=2.0), OrderedStatistic(items_base=frozenset({'Leche', 'Pañales', 'Pan'}), items_add=frozenset({'Mantequilla'}), confidence=1.0, lift=2.0)]),\n",
              " RelationRecord(items=frozenset({'Mantequilla', 'Leche', 'nan', 'Pan'}), support=0.3, ordered_statistics=[OrderedStatistic(items_base=frozenset({'Mantequilla', 'Leche'}), items_add=frozenset({'nan', 'Pan'}), confidence=1.0, lift=2.0), OrderedStatistic(items_base=frozenset({'Leche', 'Pan'}), items_add=frozenset({'nan', 'Mantequilla'}), confidence=1.0, lift=2.0), OrderedStatistic(items_base=frozenset({'Mantequilla', 'Leche', 'nan'}), items_add=frozenset({'Pan'}), confidence=1.0, lift=2.0), OrderedStatistic(items_base=frozenset({'nan', 'Leche', 'Pan'}), items_add=frozenset({'Mantequilla'}), confidence=1.0, lift=2.0)]),\n",
              " RelationRecord(items=frozenset({'nan', 'Mantequilla', 'Pañales', 'Pan'}), support=0.3, ordered_statistics=[OrderedStatistic(items_base=frozenset({'Mantequilla', 'Pañales'}), items_add=frozenset({'nan', 'Pan'}), confidence=1.0, lift=2.0), OrderedStatistic(items_base=frozenset({'Pañales', 'Pan'}), items_add=frozenset({'nan', 'Mantequilla'}), confidence=1.0, lift=2.0), OrderedStatistic(items_base=frozenset({'nan', 'Mantequilla', 'Pañales'}), items_add=frozenset({'Pan'}), confidence=1.0, lift=2.0), OrderedStatistic(items_base=frozenset({'nan', 'Pañales', 'Pan'}), items_add=frozenset({'Mantequilla'}), confidence=1.0, lift=2.0)]),\n",
              " RelationRecord(items=frozenset({'Leche', 'nan', 'Mantequilla', 'Pan', 'Pañales'}), support=0.2, ordered_statistics=[OrderedStatistic(items_base=frozenset({'Mantequilla', 'Leche', 'Pañales'}), items_add=frozenset({'nan', 'Pan'}), confidence=1.0, lift=2.0), OrderedStatistic(items_base=frozenset({'Leche', 'Pañales', 'Pan'}), items_add=frozenset({'nan', 'Mantequilla'}), confidence=1.0, lift=2.0), OrderedStatistic(items_base=frozenset({'Mantequilla', 'Leche', 'nan', 'Pañales'}), items_add=frozenset({'Pan'}), confidence=1.0, lift=2.0), OrderedStatistic(items_base=frozenset({'nan', 'Leche', 'Pañales', 'Pan'}), items_add=frozenset({'Mantequilla'}), confidence=1.0, lift=2.0)])]"
            ]
          },
          "metadata": {
            "tags": []
          },
          "execution_count": 89
        }
      ]
    },
    {
      "cell_type": "code",
      "metadata": {
        "colab": {
          "base_uri": "https://localhost:8080/"
        },
        "id": "tWPg0GYWdfX-",
        "outputId": "e8017015-7500-42f6-e5a6-19758a64ea49"
      },
      "source": [
        "for item in association_results:\n",
        "\n",
        "    # first index of the inner list\n",
        "    # Contains base item and add item\n",
        "    pair = item[0] \n",
        "    items = [x for x in pair]\n",
        "    print(\"Rule: \" + items[0] + \" -> \" + items[1])\n",
        "\n",
        "    #second index of the inner list\n",
        "    print(\"Support: \" + str(item[1]))\n",
        "\n",
        "    #third index of the list located at 0th\n",
        "    #of the third index of the inner list\n",
        "\n",
        "    print(\"Confidence: \" + str(item[2][0][2]))\n",
        "    print(\"Lift: \" + str(item[2][0][3]))\n",
        "    print(\"=====================================\")"
      ],
      "execution_count": 90,
      "outputs": [
        {
          "output_type": "stream",
          "text": [
            "Rule: Mantequilla -> Pan\n",
            "Support: 0.5\n",
            "Confidence: 1.0\n",
            "Lift: 2.0\n",
            "=====================================\n",
            "Rule: Mantequilla -> Leche\n",
            "Support: 0.3\n",
            "Confidence: 1.0\n",
            "Lift: 2.0\n",
            "=====================================\n",
            "Rule: Mantequilla -> Pañales\n",
            "Support: 0.3\n",
            "Confidence: 1.0\n",
            "Lift: 2.0\n",
            "=====================================\n",
            "Rule: nan -> Mantequilla\n",
            "Support: 0.5\n",
            "Confidence: 1.0\n",
            "Lift: 2.0\n",
            "=====================================\n",
            "Rule: Mantequilla -> Leche\n",
            "Support: 0.2\n",
            "Confidence: 1.0\n",
            "Lift: 2.0\n",
            "=====================================\n",
            "Rule: Mantequilla -> Leche\n",
            "Support: 0.3\n",
            "Confidence: 1.0\n",
            "Lift: 2.0\n",
            "=====================================\n",
            "Rule: nan -> Mantequilla\n",
            "Support: 0.3\n",
            "Confidence: 1.0\n",
            "Lift: 2.0\n",
            "=====================================\n",
            "Rule: Leche -> nan\n",
            "Support: 0.2\n",
            "Confidence: 1.0\n",
            "Lift: 2.0\n",
            "=====================================\n"
          ],
          "name": "stdout"
        }
      ]
    },
    {
      "cell_type": "markdown",
      "metadata": {
        "id": "0TDHKz3iOZ8l"
      },
      "source": [
        "## Punto 3 “Conjunto de datos milk, beer, diapers, bread, butter, cookies”"
      ]
    },
    {
      "cell_type": "code",
      "metadata": {
        "id": "5rgNmcyPO0u9"
      },
      "source": [
        "#Creación de records con las listas \n"
      ],
      "execution_count": null,
      "outputs": []
    }
  ]
}