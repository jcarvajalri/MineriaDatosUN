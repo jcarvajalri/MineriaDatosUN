{
  "nbformat": 4,
  "nbformat_minor": 0,
  "metadata": {
    "colab": {
      "name": "Taller Procesamiento.ipynb",
      "provenance": [],
      "collapsed_sections": [],
      "authorship_tag": "ABX9TyOAK2Lfxy32+FElfkMYxhWw",
      "include_colab_link": true
    },
    "kernelspec": {
      "name": "python3",
      "display_name": "Python 3"
    },
    "language_info": {
      "name": "python"
    }
  },
  "cells": [
    {
      "cell_type": "markdown",
      "metadata": {
        "id": "view-in-github",
        "colab_type": "text"
      },
      "source": [
        "<a href=\"https://colab.research.google.com/github/jcarvajalri/MineriaDatosUN/blob/main/Taller_Procesamiento.ipynb\" target=\"_parent\"><img src=\"https://colab.research.google.com/assets/colab-badge.svg\" alt=\"Open In Colab\"/></a>"
      ]
    },
    {
      "cell_type": "markdown",
      "metadata": {
        "id": "MGr25p9wF7c7"
      },
      "source": [
        "##Universidad Nacional de Colombia \n",
        "###Mineria de Datos\n",
        "Taller de Procesamiento\n",
        "\n",
        "1. Punto"
      ]
    },
    {
      "cell_type": "code",
      "metadata": {
        "id": "2xHjAVS4F1LL"
      },
      "source": [
        "#Import de las librerías que se utilizaran\n",
        "import numpy as np\n",
        "import pandas as pd\n",
        "from sklearn import preprocessing as pr\n",
        "import matplotlib.pyplot as plt\n",
        "import math as mt"
      ],
      "execution_count": 10,
      "outputs": []
    },
    {
      "cell_type": "code",
      "metadata": {
        "colab": {
          "base_uri": "https://localhost:8080/"
        },
        "id": "u55vTXLFSI34",
        "outputId": "4e516704-2569-4214-f58a-2c5cf9e3595d"
      },
      "source": [
        "##Punto 1\n",
        "## Conjunto de datos como lista \n",
        "x= [-5.0,23.0,17.6,7.23,1.11]\n",
        "x_array= np.array(x)\n",
        "print(\"La list orginal ordenada es: \" + str(np.sort(x_array)))\n"
      ],
      "execution_count": null,
      "outputs": [
        {
          "output_type": "stream",
          "text": [
            "La list orginal ordenada es: [-5.    1.11  7.23 17.6  23.  ]\n"
          ],
          "name": "stdout"
        }
      ]
    },
    {
      "cell_type": "markdown",
      "metadata": {
        "id": "UXpn8JRxfJSw"
      },
      "source": [
        "Normalización Min Max\n",
        "\n",
        "![image.png](data:image/png;base64,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)"
      ]
    },
    {
      "cell_type": "code",
      "metadata": {
        "colab": {
          "base_uri": "https://localhost:8080/"
        },
        "id": "0oYn0RuofOfP",
        "outputId": "050e83c6-d070-4b82-e27f-c7e085e817a3"
      },
      "source": [
        "#1.A. Normalización min MAx en el intervalo [0,1]\n",
        "list_x = []\n",
        "new_max= 1\n",
        "new_min= 0\n",
        "for i in x_array:\n",
        "  x_norm = ((i -min(x_array))/(max(x_array)-min(x_array)))*((new_max-new_min)+new_min)\n",
        "  list_x.append(round(x_norm,2))\n",
        "print(\"Normalización intervalo [0,1]: \" + str(np.sort(list_x)))\n"
      ],
      "execution_count": null,
      "outputs": [
        {
          "output_type": "stream",
          "text": [
            "Normalización intervalo [0,1]: [0.   0.22 0.44 0.81 1.  ]\n"
          ],
          "name": "stdout"
        }
      ]
    },
    {
      "cell_type": "code",
      "metadata": {
        "colab": {
          "base_uri": "https://localhost:8080/"
        },
        "id": "fZSHYHKojy7f",
        "outputId": "d352a3fe-cd6c-4220-9e14-a1310007f4fe"
      },
      "source": [
        "#1.b. Normalización min MAx en el intervalo [-1,1]\n",
        "list_x = []\n",
        "new_max= 1\n",
        "new_min= -1\n",
        "for i in x_array:\n",
        "  x_norm = ((i -min(x_array))/(max(x_array)-min(x_array)))*((new_max-new_min)+new_min)\n",
        "  list_x.append(round(x_norm,2))\n",
        "print(\"Normalización intervalo [-1,1]: \" + str(np.sort(list_x)))\n"
      ],
      "execution_count": null,
      "outputs": [
        {
          "output_type": "stream",
          "text": [
            "Normalización intervalo [-1,1]: [0.   0.22 0.44 0.81 1.  ]\n"
          ],
          "name": "stdout"
        }
      ]
    },
    {
      "cell_type": "code",
      "metadata": {
        "colab": {
          "base_uri": "https://localhost:8080/"
        },
        "id": "gVKDzH9rIH6_",
        "outputId": "bf85eaca-7d06-44c5-821b-e0d00cd22918"
      },
      "source": [
        "#1.c desviación Estandar\n",
        "print(\"La list orginal ordenada es: \" + str(np.sort(x_array)))\n",
        "print(\"La desviación estandar es : \", np.std(x_array))"
      ],
      "execution_count": null,
      "outputs": [
        {
          "output_type": "stream",
          "text": [
            "La list orginal ordenada es: [-5.    1.11  7.23 17.6  23.  ]\n",
            "La desviación estandar es :  10.306505518360721\n"
          ],
          "name": "stdout"
        }
      ]
    },
    {
      "cell_type": "markdown",
      "metadata": {
        "id": "dsX35SGWKQ5Q"
      },
      "source": [
        "Normalización por escala decimal : \n",
        "\n",
        "v' = v /10^j \n",
        "\n",
        "Donde j es el entero más pequeño tan que Max(|v'|)<1"
      ]
    },
    {
      "cell_type": "code",
      "metadata": {
        "colab": {
          "base_uri": "https://localhost:8080/"
        },
        "id": "p6dlR6tfKMa7",
        "outputId": "1b786033-e22e-4099-8c9a-3b710397c665"
      },
      "source": [
        "#1.d Normalización por escala decimal en el intervalo [-1,1]\n",
        "x = x_array\n",
        "x_scale = pr.scale(x)\n",
        "print (\"Normalización escala decimal en el intervalo [-1,1]\",  str(np.sort(x_scale)) )\n",
        "print (\"Desviación estándar después de la normalización:\", x_scale.std (axis = 0))"
      ],
      "execution_count": null,
      "outputs": [
        {
          "output_type": "stream",
          "text": [
            "Normalización escala decimal en el intervalo [-1,1] [-1.33779582 -0.74496637 -0.15116666  0.85499396  1.37893488]\n",
            "Desviación estándar después de la normalización: 1.0\n"
          ],
          "name": "stdout"
        }
      ]
    },
    {
      "cell_type": "markdown",
      "metadata": {
        "id": "x-U599gkW-9m"
      },
      "source": [
        "Punto 3 Outliers\n"
      ]
    },
    {
      "cell_type": "code",
      "metadata": {
        "colab": {
          "base_uri": "https://localhost:8080/"
        },
        "id": "sNEXbTzBXCRd",
        "outputId": "da59c4c8-ea25-4547-e1be-9f1b39bd41b6"
      },
      "source": [
        "##Punto 3\n",
        "## Conjunto de datos como lista \n",
        "c= [3,1,0,2,7,3,6,4,-2,0,0,10,15,6]\n",
        "c_array= np.array(c)\n",
        "print(\"La list orginal ordenada es: \" + str(np.sort(c_array)))"
      ],
      "execution_count": null,
      "outputs": [
        {
          "output_type": "stream",
          "text": [
            "La list orginal ordenada es: [-2  0  0  0  1  2  3  3  4  6  6  7 10 15]\n"
          ],
          "name": "stdout"
        }
      ]
    },
    {
      "cell_type": "code",
      "metadata": {
        "colab": {
          "base_uri": "https://localhost:8080/",
          "height": 371
        },
        "id": "hCZaiOisYank",
        "outputId": "b4e16356-f4d5-4d78-cc84-8d9e9171ed89"
      },
      "source": [
        "# Umbral = media +- 2 variance\n",
        "media = c_array.mean()\n",
        "print(\"la media es : \" + str(media))\n",
        "varianza = c_array.var()\n",
        "print(\"La varianza es  : \" + str(varianza))\n",
        "desSt = c_array.std()\n",
        "print(\"La desviación estandar es  : \" + str(desSt))\n",
        "umbral_sup = media + (2*desSt)\n",
        "print(\"Umbral superior con 2 desviaciones estandar : \" + str(umbral_sup))\n",
        "umbral_inf = media - (2*desSt)\n",
        "print(\"Umbral inferior con 2 desviaciones estandar : \" + str(umbral_inf))\n",
        "#Calculo de Outliers\n",
        "list_outliers = []\n",
        "for i in c_array:\n",
        "   if i >= umbral_sup or i <= umbral_inf:\n",
        "      list_outliers.append(round(i,2))\n",
        "print(\"Los outliers son : \" + str(list_outliers))\n",
        "\n",
        "#Metodo grafico\n",
        "c_uniq, counts = np.unique(c_array, return_counts=True)\n",
        " \n",
        "sizes = counts*100\n",
        "colors = ['blue']*len(c_uniq)\n",
        "colors[-1] = 'red'\n",
        " \n",
        "plt.axhline(1, color='k', linestyle='--')\n",
        "plt.scatter(c_uniq, np.ones(len(c_uniq)), s=sizes, color=colors)\n",
        "plt.yticks([])\n",
        "plt.show()"
      ],
      "execution_count": null,
      "outputs": [
        {
          "output_type": "stream",
          "text": [
            "la media es : 3.9285714285714284\n",
            "La varianza es  : 19.49489795918367\n",
            "La desviación estandar es  : 4.4153027030073115\n",
            "Umbral superior con 2 desviaciones estandar : 12.759176834586052\n",
            "Umbral inferior con 2 desviaciones estandar : -4.902033977443194\n",
            "Los outliers son : [15]\n"
          ],
          "name": "stdout"
        },
        {
          "output_type": "display_data",
          "data": {
            "image/png": "[encoded data removed]",
            "text/plain": [
              "<Figure size 432x288 with 1 Axes>"
            ]
          },
          "metadata": {
            "tags": [],
            "needs_background": "light"
          }
        }
      ]
    },
    {
      "cell_type": "code",
      "metadata": {
        "colab": {
          "base_uri": "https://localhost:8080/",
          "height": 371
        },
        "id": "1oZmGHstoc3N",
        "outputId": "78301519-ca0d-4cd9-f6b4-7640ca0170cb"
      },
      "source": [
        "# Umbral = media +- 3 variance\n",
        "media = c_array.mean()\n",
        "print(\"la media es : \" + str(media))\n",
        "varianza = c_array.var()\n",
        "print(\"La varianza es  : \" + str(varianza))\n",
        "desSt = c_array.std()\n",
        "print(\"La desviación estandar es  : \" + str(desSt))\n",
        "umbral_sup = media + (3*desSt)\n",
        "print(\"Umbral superior con 3 desviaciones estandar : \" + str(umbral_sup))\n",
        "umbral_inf = media - (3*desSt)\n",
        "print(\"Umbral inferior con 3 desviaciones estandar : \" + str(umbral_inf))\n",
        "#Calculo de Outliers\n",
        "list_outliers = []\n",
        "for i in c_array:\n",
        "   if i >= umbral_sup or i <= umbral_inf:\n",
        "      list_outliers.append(round(i,2))\n",
        "print(\"Los outliers son : \" + str(list_outliers))\n",
        "\n",
        "#Metodo grafico\n",
        "c_uniq, counts = np.unique(c_array, return_counts=True)\n",
        " \n",
        "sizes = counts*100\n",
        "colors = ['blue']*len(c_uniq)\n",
        "#colors[-2] = 'red'\n",
        " \n",
        "plt.axhline(1, color='k', linestyle='--')\n",
        "plt.scatter(c_uniq, np.ones(len(c_uniq)), s=sizes, color=colors)\n",
        "plt.yticks([])\n",
        "plt.show()"
      ],
      "execution_count": null,
      "outputs": [
        {
          "output_type": "stream",
          "text": [
            "la media es : 3.9285714285714284\n",
            "La varianza es  : 19.49489795918367\n",
            "La desviación estandar es  : 4.4153027030073115\n",
            "Umbral superior con 3 desviaciones estandar : 17.174479537593363\n",
            "Umbral inferior con 3 desviaciones estandar : -9.317336680450506\n",
            "Los outliers son : []\n"
          ],
          "name": "stdout"
        },
        {
          "output_type": "display_data",
          "data": {
            "image/png": "[encoded data removed]",
            "text/plain": [
              "<Figure size 432x288 with 1 Axes>"
            ]
          },
          "metadata": {
            "tags": [],
            "needs_background": "light"
          }
        }
      ]
    },
    {
      "cell_type": "markdown",
      "metadata": {
        "id": "K-ms03Emhy8A"
      },
      "source": [
        "Punto 4 Outliers  "
      ]
    },
    {
      "cell_type": "code",
      "metadata": {
        "id": "4mQb2HFopG0g"
      },
      "source": [
        "def unique(list1):\n",
        "     \n",
        "    # insert the list to the set\n",
        "    list_set = set(list1)\n",
        "    # convert the set to the list\n",
        "    unique_list = (list(list_set))\n",
        "    for x in unique_list:\n",
        "        print (x)"
      ],
      "execution_count": null,
      "outputs": []
    },
    {
      "cell_type": "code",
      "metadata": {
        "colab": {
          "base_uri": "https://localhost:8080/"
        },
        "id": "92vR8lc7eBGl",
        "outputId": "e3d1f43f-d83f-4566-d9f9-0ff9f7cc4d98"
      },
      "source": [
        "x_orginal=[{1,2,0},{3,1,4},{2,1,5},{0,1,6},{2,4,3},{4,4,2},{5,2,1},{7,7,7},{0,0,0},{3,3,3}]\n",
        "# Formateamos la lista inicial \n",
        "x = [np.array([1, 2, 0]),\n",
        "         np.array([3, 1, 4]),\n",
        "         np.array([2, 1, 5]),\n",
        "         np.array([0, 1, 6]),\n",
        "         np.array([2, 4, 3]),\n",
        "         np.array([4, 4, 2]),\n",
        "         np.array([5, 2, 1]),\n",
        "         np.array([7, 7, 7]),\n",
        "         np.array([0, 0, 0]),\n",
        "         np.array([3, 3, 3])]\n",
        "print(\"La lista original es: \" + str(x_orginal))       \n",
        "# Lista de Medias\n",
        "media = 0\n",
        "desStd = 0\n",
        "umbral_sup =0\n",
        "umbral_inf  = 0\n",
        "list_medias = []\n",
        "list_desStd = []\n",
        "list_outliers = []\n",
        "# using np.mean()\n",
        "for i in range(len(x)):\n",
        "   media = np.mean(x[i])\n",
        "   desStd = np.std(x[i])\n",
        "   list_medias.append(media)\n",
        "   list_desStd.append(desStd)\n",
        "   umbral_sup = media + (2*desStd)\n",
        "   umbral_inf = media - (2*desStd)\n",
        "   for j in range(len(x[i])):\n",
        "      if j >= umbral_sup or j <= umbral_inf:\n",
        "        list_outliers.append(round(i,2))\n",
        "print(\"La lista de medias es: \" + str(list_medias))\n",
        "#desSt = c_array.std()\n",
        "print(\"La lista de desviaciónes estandar es  : \" + str(list_desStd))\n",
        "\n",
        "print(\"Los outliers son : \" + str(list_outliers))"
      ],
      "execution_count": null,
      "outputs": [
        {
          "output_type": "stream",
          "text": [
            "La lista original es: [{0, 1, 2}, {1, 3, 4}, {1, 2, 5}, {0, 1, 6}, {2, 3, 4}, {2, 4}, {1, 2, 5}, {7}, {0}, {3}]\n",
            "La lista de medias es: [1.0, 2.6666666666666665, 2.6666666666666665, 2.3333333333333335, 3.0, 3.3333333333333335, 2.6666666666666665, 7.0, 0.0, 3.0]\n",
            "La lista de desviaciónes estandar es  : [0.816496580927726, 1.247219128924647, 1.699673171197595, 2.6246692913372702, 0.816496580927726, 0.9428090415820634, 1.699673171197595, 0.0, 0.0, 0.0]\n",
            "Los outliers son : [1, 4, 4, 5, 5, 7, 7, 7, 8, 8, 8, 9, 9, 9]\n"
          ],
          "name": "stdout"
        }
      ]
    },
    {
      "cell_type": "code",
      "metadata": {
        "colab": {
          "base_uri": "https://localhost:8080/"
        },
        "id": "BfQJxsnfjymg",
        "outputId": "33c78514-d26a-4633-9bd0-0fd4cc7e8a18"
      },
      "source": [
        "#5 Punto : Metodos de discretización \n",
        "i1= [1,2,1,2,1,1,2]\n",
        "i2= [5.9,2.1,1.6,6.8,3.1,8.3,2.4]\n",
        "i3= [3.4,6.2,2.8,5.8,3.1,4.1,5]\n",
        "i1_array= np.array(i1)\n",
        "i2_array= np.array(i2)\n",
        "i3_array= np.array(i3)\n",
        "print(\"La lista orginal i1 ordenada es: \" + str(i1_array))\n",
        "print(\"La lista orginal i2 ordenada es: \" + str(np.sort(i2_array)))\n",
        "print(\"La lista orginal i3 ordenada es: \" + str(np.sort(i3_array)))\n",
        "#Contamos los valores de las listas i2 y i3\n",
        "print(\"La cantidad de registros de i2 es: \" + str(len(i2_array)))\n",
        "print(\"La cantidad de registros de i3 es: \" + str(len(i3_array)))\n",
        "# Realizamos un split de los arrays \n",
        "new_i2 = np.array_split(np.sort(i2_array),2)\n",
        "print(\"bin 1 y bin 2 de i2: \" + str(new_i2))\n",
        "for i in range(len(new_i2)):\n",
        "   media = np.mean(new_i2[i])\n",
        "   print(\"La media del bin \"+str(i+1)+\" es: \" + str(round(media,2)))"
      ],
      "execution_count": null,
      "outputs": [
        {
          "output_type": "stream",
          "text": [
            "La lista orginal i1 ordenada es: [1 2 1 2 1 1 2]\n",
            "La lista orginal i2 ordenada es: [1.6 2.1 2.4 3.1 5.9 6.8 8.3]\n",
            "La lista orginal i3 ordenada es: [2.8 3.1 3.4 4.1 5.  5.8 6.2]\n",
            "La cantidad de registros de i2 es: 7\n",
            "La cantidad de registros de i3 es: 7\n",
            "bin 1 y bin 2 de i2: [array([1.6, 2.1, 2.4, 3.1]), array([5.9, 6.8, 8.3])]\n",
            "La media del bin 1 es: 2.3\n",
            "La media del bin 2 es: 7.0\n"
          ],
          "name": "stdout"
        }
      ]
    },
    {
      "cell_type": "code",
      "metadata": {
        "colab": {
          "base_uri": "https://localhost:8080/"
        },
        "id": "Hq5SPjrwkJm3",
        "outputId": "58ba38d8-07ad-4c45-db42-1b0054b4bb3f"
      },
      "source": [
        "#5 Punto : Parte B, reemplazando por el limite mas cercano \n",
        "i3= [3.4,6.2,2.8,5.8,3.1,4.1,5]\n",
        "i3_array= np.array(i3)\n",
        "print(\"La lista orginal i3 ordenada es: \" + str(np.sort(i3_array)))\n",
        "#Contamos los valores de las listas i2 y i3\n",
        "print(\"La cantidad de registros de i3 es: \" + str(len(i3_array)))\n",
        "bins = [2, 3, 4, 5, 6]\n",
        "bin_indices = np.digitize(np.sort(i3_array), bins)\n",
        "print(\"Reemplazando por el limite mas cercano:\" + str(bin_indices))"
      ],
      "execution_count": null,
      "outputs": [
        {
          "output_type": "stream",
          "text": [
            "La lista orginal i3 ordenada es: [2.8 3.1 3.4 4.1 5.  5.8 6.2]\n",
            "La cantidad de registros de i3 es: 7\n",
            "Reemplazando por el limite mas cercano:[1 2 2 3 4 4 5]\n"
          ],
          "name": "stdout"
        }
      ]
    },
    {
      "cell_type": "markdown",
      "metadata": {
        "id": "TcnXI9uFKPbR"
      },
      "source": [
        "Punto 7\n"
      ]
    },
    {
      "cell_type": "code",
      "metadata": {
        "id": "HGQiZ3wOKRO7",
        "colab": {
          "base_uri": "https://localhost:8080/"
        },
        "outputId": "7b09e778-6c67-4026-a58e-63a55ae0ba2c"
      },
      "source": [
        "#Cargue de información \n",
        "diet= {'I1': ['2.5','7.2','3.4','5.6','4.8','8.1','6.3'],\n",
        "       'I2': ['1.6','4.3','5.8','3.6','7.2','4.9','4.8'],\n",
        "       'I3': ['5.9','2.1','1.6','6.8','3.1','8.3','2.4'],\n",
        "       'C': ['0','1','1','0','1','0','1']}\n",
        "\n",
        "data = pd.DataFrame (diet)\n",
        "print (data)"
      ],
      "execution_count": 4,
      "outputs": [
        {
          "output_type": "stream",
          "text": [
            "    I1   I2   I3  C\n",
            "0  2.5  1.6  5.9  0\n",
            "1  7.2  4.3  2.1  1\n",
            "2  3.4  5.8  1.6  1\n",
            "3  5.6  3.6  6.8  0\n",
            "4  4.8  7.2  3.1  1\n",
            "5  8.1  4.9  8.3  0\n",
            "6  6.3  4.8  2.4  1\n"
          ],
          "name": "stdout"
        }
      ]
    },
    {
      "cell_type": "code",
      "metadata": {
        "id": "HabgZs_fcL5Y"
      },
      "source": [
        "#Definición de Matriz de similitud\n",
        "def similarity(data):\n",
        "  c,r = len(data.columns),len(data)\n",
        "  sim = [[0 for x in range(r)] for y in range(r)]\n",
        "  for index,row in data.iterrows():\n",
        "    for index2,row2 in data.iterrows():\n",
        "      for f in data.columns:\n",
        "        if row[f]==row2[f]:\n",
        "          sim[index][index2] += 1;\n",
        "      sim[index][index2] = sim[index][index2]/c\n",
        "  return sim"
      ],
      "execution_count": 9,
      "outputs": []
    },
    {
      "cell_type": "code",
      "metadata": {
        "id": "OE_1X4YLen1X"
      },
      "source": [
        "#Definición de entropia \n",
        "def entropia (array):\n",
        "  entropia = 0\n",
        "  for i in range(len(array)):\n",
        "    for j in range(len(array)):\n",
        "      if array[i][j] > 0:\n",
        "        entropia += (-1*((array[i][j]*mt.log(array[i][j],10))+((1-array[i][j])*mt.log(array[i][j],10))))\n",
        "  entropia = entropia /2\n",
        "  return entropia"
      ],
      "execution_count": 11,
      "outputs": []
    },
    {
      "cell_type": "code",
      "metadata": {
        "id": "I9SceolVitJ7"
      },
      "source": [
        "#Función para imprimir la matriz de similitud\n",
        "def printSimilarity(s):\n",
        "  print('Matriz de Similitud:')\n",
        "  for i in s:\n",
        "    print(i)"
      ],
      "execution_count": 12,
      "outputs": []
    },
    {
      "cell_type": "code",
      "metadata": {
        "id": "PiXo86RZjCP5"
      },
      "source": [
        "# Definición Función Selección de Caracteristica que tiene la mínima Ganacia\n",
        "def minFeature(e,et):\n",
        "  min = et\n",
        "  print('Calculando la mínima ganacia de información...')\n",
        "  for key, value in e.items():\n",
        "    print(key,value)\n",
        "    minVal = et-value\n",
        "    print('Ganacia de Información: ', minVal)\n",
        "    if minVal < min:\n",
        "      min = minVal\n",
        "      feature = key\n",
        "  print('Ganacia mínima de información: ', min)\n",
        "  return key"
      ],
      "execution_count": 14,
      "outputs": []
    },
    {
      "cell_type": "code",
      "metadata": {
        "colab": {
          "base_uri": "https://localhost:8080/"
        },
        "id": "P8j6IomBk1Hq",
        "outputId": "78341504-fff7-4fdf-a688-b9576d8e8567"
      },
      "source": [
        "#Matriz de similitud\n",
        "s = similarity(data)\n",
        "s"
      ],
      "execution_count": 16,
      "outputs": [
        {
          "output_type": "execute_result",
          "data": {
            "text/plain": [
              "[[1.0, 0.0, 0.0, 0.25, 0.0, 0.25, 0.0],\n",
              " [0.0, 1.0, 0.25, 0.0, 0.25, 0.0, 0.25],\n",
              " [0.0, 0.25, 1.0, 0.0, 0.25, 0.0, 0.25],\n",
              " [0.25, 0.0, 0.0, 1.0, 0.0, 0.25, 0.0],\n",
              " [0.0, 0.25, 0.25, 0.0, 1.0, 0.0, 0.25],\n",
              " [0.25, 0.0, 0.0, 0.25, 0.0, 1.0, 0.0],\n",
              " [0.0, 0.25, 0.25, 0.0, 0.25, 0.0, 1.0]]"
            ]
          },
          "metadata": {
            "tags": []
          },
          "execution_count": 16
        }
      ]
    },
    {
      "cell_type": "code",
      "metadata": {
        "colab": {
          "base_uri": "https://localhost:8080/"
        },
        "id": "rM4LsMvVlAaR",
        "outputId": "75269700-b78b-4278-943a-05f4bc48e2d4"
      },
      "source": [
        "#Entropia Total del conjunto de datos\n",
        "ET = entropia(s)\n",
        "print('Entropia total: ',ET)"
      ],
      "execution_count": 17,
      "outputs": [
        {
          "output_type": "stream",
          "text": [
            "Entropia total:  5.418539921951662\n"
          ],
          "name": "stdout"
        }
      ]
    },
    {
      "cell_type": "markdown",
      "metadata": {
        "id": "HCBbmEHImv-H"
      },
      "source": [
        "Punto 7: Eliminación de Variables y Caracteristicas"
      ]
    },
    {
      "cell_type": "code",
      "metadata": {
        "colab": {
          "base_uri": "https://localhost:8080/"
        },
        "id": "QMbWrroNm0nQ",
        "outputId": "d1b6cd43-d376-46c9-de57-4b0ba6284a77"
      },
      "source": [
        "numColumns= len(data.columns)\n",
        "ranking = []\n",
        "dataT= data\n",
        "for i in range(numColumns-1):\n",
        "  print('Iteración No: ', i)\n",
        "  ent={}\n",
        "  for f in dataT.columns:\n",
        "    print('Sin variable ',f,'...')\n",
        "    X= dataT.drop([f], axis=1)\n",
        "    print('Datos; ')\n",
        "    print(X)\n",
        "    sim= similarity(X)\n",
        "    printSimilarity(sim)\n",
        "    ent[f] = entropia(sim)\n",
        "    print('Entropia: ',ent[f])\n",
        "    print(' ')\n",
        "  print(ent)\n",
        "  feat = minFeature(ent,ET)\n",
        "  print('Variable a colocar en la lista de Ranking ', feat )\n",
        "  ranking.append(feat)\n",
        "  dataT=dataT.drop([feat], axis= 1)\n",
        "print('Ranking de dimensiones: ', ranking)"
      ],
      "execution_count": 18,
      "outputs": [
        {
          "output_type": "stream",
          "text": [
            "Iteración No:  0\n",
            "Sin variable  I1 ...\n",
            "Datos; \n",
            "    I2   I3  C\n",
            "0  1.6  5.9  0\n",
            "1  4.3  2.1  1\n",
            "2  5.8  1.6  1\n",
            "3  3.6  6.8  0\n",
            "4  7.2  3.1  1\n",
            "5  4.9  8.3  0\n",
            "6  4.8  2.4  1\n",
            "Matriz de Similitud:\n",
            "[1.0, 0.0, 0.0, 0.3333333333333333, 0.0, 0.3333333333333333, 0.0]\n",
            "[0.0, 1.0, 0.3333333333333333, 0.0, 0.3333333333333333, 0.0, 0.3333333333333333]\n",
            "[0.0, 0.3333333333333333, 1.0, 0.0, 0.3333333333333333, 0.0, 0.3333333333333333]\n",
            "[0.3333333333333333, 0.0, 0.0, 1.0, 0.0, 0.3333333333333333, 0.0]\n",
            "[0.0, 0.3333333333333333, 0.3333333333333333, 0.0, 1.0, 0.0, 0.3333333333333333]\n",
            "[0.3333333333333333, 0.0, 0.0, 0.3333333333333333, 0.0, 1.0, 0.0]\n",
            "[0.0, 0.3333333333333333, 0.3333333333333333, 0.0, 0.3333333333333333, 0.0, 1.0]\n",
            "Entropia:  4.2940912924769625\n",
            " \n",
            "Sin variable  I2 ...\n",
            "Datos; \n",
            "    I1   I3  C\n",
            "0  2.5  5.9  0\n",
            "1  7.2  2.1  1\n",
            "2  3.4  1.6  1\n",
            "3  5.6  6.8  0\n",
            "4  4.8  3.1  1\n",
            "5  8.1  8.3  0\n",
            "6  6.3  2.4  1\n",
            "Matriz de Similitud:\n",
            "[1.0, 0.0, 0.0, 0.3333333333333333, 0.0, 0.3333333333333333, 0.0]\n",
            "[0.0, 1.0, 0.3333333333333333, 0.0, 0.3333333333333333, 0.0, 0.3333333333333333]\n",
            "[0.0, 0.3333333333333333, 1.0, 0.0, 0.3333333333333333, 0.0, 0.3333333333333333]\n",
            "[0.3333333333333333, 0.0, 0.0, 1.0, 0.0, 0.3333333333333333, 0.0]\n",
            "[0.0, 0.3333333333333333, 0.3333333333333333, 0.0, 1.0, 0.0, 0.3333333333333333]\n",
            "[0.3333333333333333, 0.0, 0.0, 0.3333333333333333, 0.0, 1.0, 0.0]\n",
            "[0.0, 0.3333333333333333, 0.3333333333333333, 0.0, 0.3333333333333333, 0.0, 1.0]\n",
            "Entropia:  4.2940912924769625\n",
            " \n",
            "Sin variable  I3 ...\n",
            "Datos; \n",
            "    I1   I2  C\n",
            "0  2.5  1.6  0\n",
            "1  7.2  4.3  1\n",
            "2  3.4  5.8  1\n",
            "3  5.6  3.6  0\n",
            "4  4.8  7.2  1\n",
            "5  8.1  4.9  0\n",
            "6  6.3  4.8  1\n",
            "Matriz de Similitud:\n",
            "[1.0, 0.0, 0.0, 0.3333333333333333, 0.0, 0.3333333333333333, 0.0]\n",
            "[0.0, 1.0, 0.3333333333333333, 0.0, 0.3333333333333333, 0.0, 0.3333333333333333]\n",
            "[0.0, 0.3333333333333333, 1.0, 0.0, 0.3333333333333333, 0.0, 0.3333333333333333]\n",
            "[0.3333333333333333, 0.0, 0.0, 1.0, 0.0, 0.3333333333333333, 0.0]\n",
            "[0.0, 0.3333333333333333, 0.3333333333333333, 0.0, 1.0, 0.0, 0.3333333333333333]\n",
            "[0.3333333333333333, 0.0, 0.0, 0.3333333333333333, 0.0, 1.0, 0.0]\n",
            "[0.0, 0.3333333333333333, 0.3333333333333333, 0.0, 0.3333333333333333, 0.0, 1.0]\n",
            "Entropia:  4.2940912924769625\n",
            " \n",
            "Sin variable  C ...\n",
            "Datos; \n",
            "    I1   I2   I3\n",
            "0  2.5  1.6  5.9\n",
            "1  7.2  4.3  2.1\n",
            "2  3.4  5.8  1.6\n",
            "3  5.6  3.6  6.8\n",
            "4  4.8  7.2  3.1\n",
            "5  8.1  4.9  8.3\n",
            "6  6.3  4.8  2.4\n",
            "Matriz de Similitud:\n",
            "[1.0, 0.0, 0.0, 0.0, 0.0, 0.0, 0.0]\n",
            "[0.0, 1.0, 0.0, 0.0, 0.0, 0.0, 0.0]\n",
            "[0.0, 0.0, 1.0, 0.0, 0.0, 0.0, 0.0]\n",
            "[0.0, 0.0, 0.0, 1.0, 0.0, 0.0, 0.0]\n",
            "[0.0, 0.0, 0.0, 0.0, 1.0, 0.0, 0.0]\n",
            "[0.0, 0.0, 0.0, 0.0, 0.0, 1.0, 0.0]\n",
            "[0.0, 0.0, 0.0, 0.0, 0.0, 0.0, 1.0]\n",
            "Entropia:  0.0\n",
            " \n",
            "{'I1': 4.2940912924769625, 'I2': 4.2940912924769625, 'I3': 4.2940912924769625, 'C': 0.0}\n",
            "Calculando la mínima ganacia de información...\n",
            "I1 4.2940912924769625\n",
            "Ganacia de Información:  1.1244486294746991\n",
            "I2 4.2940912924769625\n",
            "Ganacia de Información:  1.1244486294746991\n",
            "I3 4.2940912924769625\n",
            "Ganacia de Información:  1.1244486294746991\n",
            "C 0.0\n",
            "Ganacia de Información:  5.418539921951662\n",
            "Ganacia mínima de información:  1.1244486294746991\n",
            "Variable a colocar en la lista de Ranking  C\n",
            "Iteración No:  1\n",
            "Sin variable  I1 ...\n",
            "Datos; \n",
            "    I2   I3\n",
            "0  1.6  5.9\n",
            "1  4.3  2.1\n",
            "2  5.8  1.6\n",
            "3  3.6  6.8\n",
            "4  7.2  3.1\n",
            "5  4.9  8.3\n",
            "6  4.8  2.4\n",
            "Matriz de Similitud:\n",
            "[1.0, 0.0, 0.0, 0.0, 0.0, 0.0, 0.0]\n",
            "[0.0, 1.0, 0.0, 0.0, 0.0, 0.0, 0.0]\n",
            "[0.0, 0.0, 1.0, 0.0, 0.0, 0.0, 0.0]\n",
            "[0.0, 0.0, 0.0, 1.0, 0.0, 0.0, 0.0]\n",
            "[0.0, 0.0, 0.0, 0.0, 1.0, 0.0, 0.0]\n",
            "[0.0, 0.0, 0.0, 0.0, 0.0, 1.0, 0.0]\n",
            "[0.0, 0.0, 0.0, 0.0, 0.0, 0.0, 1.0]\n",
            "Entropia:  0.0\n",
            " \n",
            "Sin variable  I2 ...\n",
            "Datos; \n",
            "    I1   I3\n",
            "0  2.5  5.9\n",
            "1  7.2  2.1\n",
            "2  3.4  1.6\n",
            "3  5.6  6.8\n",
            "4  4.8  3.1\n",
            "5  8.1  8.3\n",
            "6  6.3  2.4\n",
            "Matriz de Similitud:\n",
            "[1.0, 0.0, 0.0, 0.0, 0.0, 0.0, 0.0]\n",
            "[0.0, 1.0, 0.0, 0.0, 0.0, 0.0, 0.0]\n",
            "[0.0, 0.0, 1.0, 0.0, 0.0, 0.0, 0.0]\n",
            "[0.0, 0.0, 0.0, 1.0, 0.0, 0.0, 0.0]\n",
            "[0.0, 0.0, 0.0, 0.0, 1.0, 0.0, 0.0]\n",
            "[0.0, 0.0, 0.0, 0.0, 0.0, 1.0, 0.0]\n",
            "[0.0, 0.0, 0.0, 0.0, 0.0, 0.0, 1.0]\n",
            "Entropia:  0.0\n",
            " \n",
            "Sin variable  I3 ...\n",
            "Datos; \n",
            "    I1   I2\n",
            "0  2.5  1.6\n",
            "1  7.2  4.3\n",
            "2  3.4  5.8\n",
            "3  5.6  3.6\n",
            "4  4.8  7.2\n",
            "5  8.1  4.9\n",
            "6  6.3  4.8\n",
            "Matriz de Similitud:\n",
            "[1.0, 0.0, 0.0, 0.0, 0.0, 0.0, 0.0]\n",
            "[0.0, 1.0, 0.0, 0.0, 0.0, 0.0, 0.0]\n",
            "[0.0, 0.0, 1.0, 0.0, 0.0, 0.0, 0.0]\n",
            "[0.0, 0.0, 0.0, 1.0, 0.0, 0.0, 0.0]\n",
            "[0.0, 0.0, 0.0, 0.0, 1.0, 0.0, 0.0]\n",
            "[0.0, 0.0, 0.0, 0.0, 0.0, 1.0, 0.0]\n",
            "[0.0, 0.0, 0.0, 0.0, 0.0, 0.0, 1.0]\n",
            "Entropia:  0.0\n",
            " \n",
            "{'I1': 0.0, 'I2': 0.0, 'I3': 0.0}\n",
            "Calculando la mínima ganacia de información...\n",
            "I1 0.0\n",
            "Ganacia de Información:  5.418539921951662\n",
            "I2 0.0\n",
            "Ganacia de Información:  5.418539921951662\n",
            "I3 0.0\n",
            "Ganacia de Información:  5.418539921951662\n",
            "Ganacia mínima de información:  5.418539921951662\n",
            "Variable a colocar en la lista de Ranking  I3\n",
            "Iteración No:  2\n",
            "Sin variable  I1 ...\n",
            "Datos; \n",
            "    I2\n",
            "0  1.6\n",
            "1  4.3\n",
            "2  5.8\n",
            "3  3.6\n",
            "4  7.2\n",
            "5  4.9\n",
            "6  4.8\n",
            "Matriz de Similitud:\n",
            "[1.0, 0.0, 0.0, 0.0, 0.0, 0.0, 0.0]\n",
            "[0.0, 1.0, 0.0, 0.0, 0.0, 0.0, 0.0]\n",
            "[0.0, 0.0, 1.0, 0.0, 0.0, 0.0, 0.0]\n",
            "[0.0, 0.0, 0.0, 1.0, 0.0, 0.0, 0.0]\n",
            "[0.0, 0.0, 0.0, 0.0, 1.0, 0.0, 0.0]\n",
            "[0.0, 0.0, 0.0, 0.0, 0.0, 1.0, 0.0]\n",
            "[0.0, 0.0, 0.0, 0.0, 0.0, 0.0, 1.0]\n",
            "Entropia:  0.0\n",
            " \n",
            "Sin variable  I2 ...\n",
            "Datos; \n",
            "    I1\n",
            "0  2.5\n",
            "1  7.2\n",
            "2  3.4\n",
            "3  5.6\n",
            "4  4.8\n",
            "5  8.1\n",
            "6  6.3\n",
            "Matriz de Similitud:\n",
            "[1.0, 0.0, 0.0, 0.0, 0.0, 0.0, 0.0]\n",
            "[0.0, 1.0, 0.0, 0.0, 0.0, 0.0, 0.0]\n",
            "[0.0, 0.0, 1.0, 0.0, 0.0, 0.0, 0.0]\n",
            "[0.0, 0.0, 0.0, 1.0, 0.0, 0.0, 0.0]\n",
            "[0.0, 0.0, 0.0, 0.0, 1.0, 0.0, 0.0]\n",
            "[0.0, 0.0, 0.0, 0.0, 0.0, 1.0, 0.0]\n",
            "[0.0, 0.0, 0.0, 0.0, 0.0, 0.0, 1.0]\n",
            "Entropia:  0.0\n",
            " \n",
            "{'I1': 0.0, 'I2': 0.0}\n",
            "Calculando la mínima ganacia de información...\n",
            "I1 0.0\n",
            "Ganacia de Información:  5.418539921951662\n",
            "I2 0.0\n",
            "Ganacia de Información:  5.418539921951662\n",
            "Ganacia mínima de información:  5.418539921951662\n",
            "Variable a colocar en la lista de Ranking  I2\n",
            "Ranking de dimensiones:  ['C', 'I3', 'I2']\n"
          ],
          "name": "stdout"
        }
      ]
    },
    {
      "cell_type": "markdown",
      "metadata": {
        "id": "EWzMWdwnpFne"
      },
      "source": [
        "Punto 8:"
      ]
    },
    {
      "cell_type": "code",
      "metadata": {
        "colab": {
          "base_uri": "https://localhost:8080/"
        },
        "id": "fNKoz2q5pI5k",
        "outputId": "2cd9cccb-cf9e-4211-b85f-49683c913a1e"
      },
      "source": [
        "#Cargue de información Punto 8\n",
        "diet8= {'X1': ['2.7','3.1','4.5','5.3','6.6','5'],\n",
        "       'X2': ['3.4','6.2','2.8','5.8','3.1','4.1'],\n",
        "       'X3': ['1','2','1','2','1','2'],\n",
        "       'X4': ['A','A','B','B','A','B']}\n",
        "\n",
        "data8 = pd.DataFrame (diet8)\n",
        "print (data8)"
      ],
      "execution_count": 21,
      "outputs": [
        {
          "output_type": "stream",
          "text": [
            "    X1   X2 X3 X4\n",
            "0  2.7  3.4  1  A\n",
            "1  3.1  6.2  2  A\n",
            "2  4.5  2.8  1  B\n",
            "3  5.3  5.8  2  B\n",
            "4  6.6  3.1  1  A\n",
            "5    5  4.1  2  B\n"
          ],
          "name": "stdout"
        }
      ]
    },
    {
      "cell_type": "code",
      "metadata": {
        "colab": {
          "base_uri": "https://localhost:8080/"
        },
        "id": "acAJPehtp9Hk",
        "outputId": "4d1d244e-ab2c-4f98-8dd4-f414ffdd3039"
      },
      "source": [
        "#Matriz de similitud\n",
        "s8 = similarity(data8)\n",
        "s8"
      ],
      "execution_count": 23,
      "outputs": [
        {
          "output_type": "execute_result",
          "data": {
            "text/plain": [
              "[[1.0, 0.25, 0.25, 0.0, 0.5, 0.0],\n",
              " [0.25, 1.0, 0.0, 0.25, 0.25, 0.25],\n",
              " [0.25, 0.0, 1.0, 0.25, 0.25, 0.25],\n",
              " [0.0, 0.25, 0.25, 1.0, 0.0, 0.5],\n",
              " [0.5, 0.25, 0.25, 0.0, 1.0, 0.0],\n",
              " [0.0, 0.25, 0.25, 0.5, 0.0, 1.0]]"
            ]
          },
          "metadata": {
            "tags": []
          },
          "execution_count": 23
        }
      ]
    },
    {
      "cell_type": "code",
      "metadata": {
        "colab": {
          "base_uri": "https://localhost:8080/"
        },
        "id": "sfoKmPp_p_kP",
        "outputId": "d04d8019-3cad-45d7-b448-8f6778c4c187"
      },
      "source": [
        "#Entropia Total del conjunto de datos\n",
        "ET8 = entropia(s8)\n",
        "print('Entropia total: ',ET8)"
      ],
      "execution_count": 24,
      "outputs": [
        {
          "output_type": "stream",
          "text": [
            "Entropia total:  5.418539921951662\n"
          ],
          "name": "stdout"
        }
      ]
    },
    {
      "cell_type": "code",
      "metadata": {
        "colab": {
          "base_uri": "https://localhost:8080/"
        },
        "id": "rMTYhy2yqHh5",
        "outputId": "21def44e-6fa2-4d30-d313-eb0988af54b7"
      },
      "source": [
        "numColumns= len(data8.columns)\n",
        "ranking = []\n",
        "dataT= data8\n",
        "for i in range(numColumns-1):\n",
        "  print('Iteración No: ', i)\n",
        "  ent={}\n",
        "  for f in dataT.columns:\n",
        "    print('Sin variable ',f,'...')\n",
        "    X= dataT.drop([f], axis=1)\n",
        "    print('Datos; ')\n",
        "    print(X)\n",
        "    sim= similarity(X)\n",
        "    printSimilarity(sim)\n",
        "    ent[f] = entropia(sim)\n",
        "    print('Entropia: ',ent[f])\n",
        "    print(' ')\n",
        "  print(ent)\n",
        "  feat = minFeature(ent,ET)\n",
        "  print('Variable a colocar en la lista de Ranking ', feat )\n",
        "  ranking.append(feat)\n",
        "  dataT=dataT.drop([feat], axis= 1)\n",
        "print('Ranking de dimensiones: ', ranking)"
      ],
      "execution_count": 25,
      "outputs": [
        {
          "output_type": "stream",
          "text": [
            "Iteración No:  0\n",
            "Sin variable  X1 ...\n",
            "Datos; \n",
            "    X2 X3 X4\n",
            "0  3.4  1  A\n",
            "1  6.2  2  A\n",
            "2  2.8  1  B\n",
            "3  5.8  2  B\n",
            "4  3.1  1  A\n",
            "5  4.1  2  B\n",
            "Matriz de Similitud:\n",
            "[1.0, 0.3333333333333333, 0.3333333333333333, 0.0, 0.6666666666666666, 0.0]\n",
            "[0.3333333333333333, 1.0, 0.0, 0.3333333333333333, 0.3333333333333333, 0.3333333333333333]\n",
            "[0.3333333333333333, 0.0, 1.0, 0.3333333333333333, 0.3333333333333333, 0.3333333333333333]\n",
            "[0.0, 0.3333333333333333, 0.3333333333333333, 1.0, 0.0, 0.6666666666666666]\n",
            "[0.6666666666666666, 0.3333333333333333, 0.3333333333333333, 0.0, 1.0, 0.0]\n",
            "[0.0, 0.3333333333333333, 0.3333333333333333, 0.6666666666666666, 0.0, 1.0]\n",
            "Entropia:  4.169152555868663\n",
            " \n",
            "Sin variable  X2 ...\n",
            "Datos; \n",
            "    X1 X3 X4\n",
            "0  2.7  1  A\n",
            "1  3.1  2  A\n",
            "2  4.5  1  B\n",
            "3  5.3  2  B\n",
            "4  6.6  1  A\n",
            "5    5  2  B\n",
            "Matriz de Similitud:\n",
            "[1.0, 0.3333333333333333, 0.3333333333333333, 0.0, 0.6666666666666666, 0.0]\n",
            "[0.3333333333333333, 1.0, 0.0, 0.3333333333333333, 0.3333333333333333, 0.3333333333333333]\n",
            "[0.3333333333333333, 0.0, 1.0, 0.3333333333333333, 0.3333333333333333, 0.3333333333333333]\n",
            "[0.0, 0.3333333333333333, 0.3333333333333333, 1.0, 0.0, 0.6666666666666666]\n",
            "[0.6666666666666666, 0.3333333333333333, 0.3333333333333333, 0.0, 1.0, 0.0]\n",
            "[0.0, 0.3333333333333333, 0.3333333333333333, 0.6666666666666666, 0.0, 1.0]\n",
            "Entropia:  4.169152555868663\n",
            " \n",
            "Sin variable  X3 ...\n",
            "Datos; \n",
            "    X1   X2 X4\n",
            "0  2.7  3.4  A\n",
            "1  3.1  6.2  A\n",
            "2  4.5  2.8  B\n",
            "3  5.3  5.8  B\n",
            "4  6.6  3.1  A\n",
            "5    5  4.1  B\n",
            "Matriz de Similitud:\n",
            "[1.0, 0.3333333333333333, 0.0, 0.0, 0.3333333333333333, 0.0]\n",
            "[0.3333333333333333, 1.0, 0.0, 0.0, 0.3333333333333333, 0.0]\n",
            "[0.0, 0.0, 1.0, 0.3333333333333333, 0.0, 0.3333333333333333]\n",
            "[0.0, 0.0, 0.3333333333333333, 1.0, 0.0, 0.3333333333333333]\n",
            "[0.3333333333333333, 0.3333333333333333, 0.0, 0.0, 1.0, 0.0]\n",
            "[0.0, 0.0, 0.3333333333333333, 0.3333333333333333, 0.0, 1.0]\n",
            "Entropia:  2.862727528317975\n",
            " \n",
            "Sin variable  X4 ...\n",
            "Datos; \n",
            "    X1   X2 X3\n",
            "0  2.7  3.4  1\n",
            "1  3.1  6.2  2\n",
            "2  4.5  2.8  1\n",
            "3  5.3  5.8  2\n",
            "4  6.6  3.1  1\n",
            "5    5  4.1  2\n",
            "Matriz de Similitud:\n",
            "[1.0, 0.0, 0.3333333333333333, 0.0, 0.3333333333333333, 0.0]\n",
            "[0.0, 1.0, 0.0, 0.3333333333333333, 0.0, 0.3333333333333333]\n",
            "[0.3333333333333333, 0.0, 1.0, 0.0, 0.3333333333333333, 0.0]\n",
            "[0.0, 0.3333333333333333, 0.0, 1.0, 0.0, 0.3333333333333333]\n",
            "[0.3333333333333333, 0.0, 0.3333333333333333, 0.0, 1.0, 0.0]\n",
            "[0.0, 0.3333333333333333, 0.0, 0.3333333333333333, 0.0, 1.0]\n",
            "Entropia:  2.862727528317975\n",
            " \n",
            "{'X1': 4.169152555868663, 'X2': 4.169152555868663, 'X3': 2.862727528317975, 'X4': 2.862727528317975}\n",
            "Calculando la mínima ganacia de información...\n",
            "X1 4.169152555868663\n",
            "Ganacia de Información:  1.249387366082999\n",
            "X2 4.169152555868663\n",
            "Ganacia de Información:  1.249387366082999\n",
            "X3 2.862727528317975\n",
            "Ganacia de Información:  2.5558123936336865\n",
            "X4 2.862727528317975\n",
            "Ganacia de Información:  2.5558123936336865\n",
            "Ganacia mínima de información:  1.249387366082999\n",
            "Variable a colocar en la lista de Ranking  X4\n",
            "Iteración No:  1\n",
            "Sin variable  X1 ...\n",
            "Datos; \n",
            "    X2 X3\n",
            "0  3.4  1\n",
            "1  6.2  2\n",
            "2  2.8  1\n",
            "3  5.8  2\n",
            "4  3.1  1\n",
            "5  4.1  2\n",
            "Matriz de Similitud:\n",
            "[1.0, 0.0, 0.5, 0.0, 0.5, 0.0]\n",
            "[0.0, 1.0, 0.0, 0.5, 0.0, 0.5]\n",
            "[0.5, 0.0, 1.0, 0.0, 0.5, 0.0]\n",
            "[0.0, 0.5, 0.0, 1.0, 0.0, 0.5]\n",
            "[0.5, 0.0, 0.5, 0.0, 1.0, 0.0]\n",
            "[0.0, 0.5, 0.0, 0.5, 0.0, 1.0]\n",
            "Entropia:  1.8061799739838873\n",
            " \n",
            "Sin variable  X2 ...\n",
            "Datos; \n",
            "    X1 X3\n",
            "0  2.7  1\n",
            "1  3.1  2\n",
            "2  4.5  1\n",
            "3  5.3  2\n",
            "4  6.6  1\n",
            "5    5  2\n",
            "Matriz de Similitud:\n",
            "[1.0, 0.0, 0.5, 0.0, 0.5, 0.0]\n",
            "[0.0, 1.0, 0.0, 0.5, 0.0, 0.5]\n",
            "[0.5, 0.0, 1.0, 0.0, 0.5, 0.0]\n",
            "[0.0, 0.5, 0.0, 1.0, 0.0, 0.5]\n",
            "[0.5, 0.0, 0.5, 0.0, 1.0, 0.0]\n",
            "[0.0, 0.5, 0.0, 0.5, 0.0, 1.0]\n",
            "Entropia:  1.8061799739838873\n",
            " \n",
            "Sin variable  X3 ...\n",
            "Datos; \n",
            "    X1   X2\n",
            "0  2.7  3.4\n",
            "1  3.1  6.2\n",
            "2  4.5  2.8\n",
            "3  5.3  5.8\n",
            "4  6.6  3.1\n",
            "5    5  4.1\n",
            "Matriz de Similitud:\n",
            "[1.0, 0.0, 0.0, 0.0, 0.0, 0.0]\n",
            "[0.0, 1.0, 0.0, 0.0, 0.0, 0.0]\n",
            "[0.0, 0.0, 1.0, 0.0, 0.0, 0.0]\n",
            "[0.0, 0.0, 0.0, 1.0, 0.0, 0.0]\n",
            "[0.0, 0.0, 0.0, 0.0, 1.0, 0.0]\n",
            "[0.0, 0.0, 0.0, 0.0, 0.0, 1.0]\n",
            "Entropia:  0.0\n",
            " \n",
            "{'X1': 1.8061799739838873, 'X2': 1.8061799739838873, 'X3': 0.0}\n",
            "Calculando la mínima ganacia de información...\n",
            "X1 1.8061799739838873\n",
            "Ganacia de Información:  3.612359947967774\n",
            "X2 1.8061799739838873\n",
            "Ganacia de Información:  3.612359947967774\n",
            "X3 0.0\n",
            "Ganacia de Información:  5.418539921951662\n",
            "Ganacia mínima de información:  3.612359947967774\n",
            "Variable a colocar en la lista de Ranking  X3\n",
            "Iteración No:  2\n",
            "Sin variable  X1 ...\n",
            "Datos; \n",
            "    X2\n",
            "0  3.4\n",
            "1  6.2\n",
            "2  2.8\n",
            "3  5.8\n",
            "4  3.1\n",
            "5  4.1\n",
            "Matriz de Similitud:\n",
            "[1.0, 0.0, 0.0, 0.0, 0.0, 0.0]\n",
            "[0.0, 1.0, 0.0, 0.0, 0.0, 0.0]\n",
            "[0.0, 0.0, 1.0, 0.0, 0.0, 0.0]\n",
            "[0.0, 0.0, 0.0, 1.0, 0.0, 0.0]\n",
            "[0.0, 0.0, 0.0, 0.0, 1.0, 0.0]\n",
            "[0.0, 0.0, 0.0, 0.0, 0.0, 1.0]\n",
            "Entropia:  0.0\n",
            " \n",
            "Sin variable  X2 ...\n",
            "Datos; \n",
            "    X1\n",
            "0  2.7\n",
            "1  3.1\n",
            "2  4.5\n",
            "3  5.3\n",
            "4  6.6\n",
            "5    5\n",
            "Matriz de Similitud:\n",
            "[1.0, 0.0, 0.0, 0.0, 0.0, 0.0]\n",
            "[0.0, 1.0, 0.0, 0.0, 0.0, 0.0]\n",
            "[0.0, 0.0, 1.0, 0.0, 0.0, 0.0]\n",
            "[0.0, 0.0, 0.0, 1.0, 0.0, 0.0]\n",
            "[0.0, 0.0, 0.0, 0.0, 1.0, 0.0]\n",
            "[0.0, 0.0, 0.0, 0.0, 0.0, 1.0]\n",
            "Entropia:  0.0\n",
            " \n",
            "{'X1': 0.0, 'X2': 0.0}\n",
            "Calculando la mínima ganacia de información...\n",
            "X1 0.0\n",
            "Ganacia de Información:  5.418539921951662\n",
            "X2 0.0\n",
            "Ganacia de Información:  5.418539921951662\n",
            "Ganacia mínima de información:  5.418539921951662\n",
            "Variable a colocar en la lista de Ranking  X2\n",
            "Ranking de dimensiones:  ['X4', 'X3', 'X2']\n"
          ],
          "name": "stdout"
        }
      ]
    }
  ]
}