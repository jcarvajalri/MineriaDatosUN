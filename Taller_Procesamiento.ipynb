{
  "nbformat": 4,
  "nbformat_minor": 0,
  "metadata": {
    "colab": {
      "name": "Taller Procesamiento.ipynb",
      "provenance": [],
      "authorship_tag": "ABX9TyPwU2A7lj0jviLheidcxJjD",
      "include_colab_link": true
    },
    "kernelspec": {
      "name": "python3",
      "display_name": "Python 3"
    },
    "language_info": {
      "name": "python"
    }
  },
  "cells": [
    {
      "cell_type": "markdown",
      "metadata": {
        "id": "view-in-github",
        "colab_type": "text"
      },
      "source": [
        "<a href=\"https://colab.research.google.com/github/jcarvajalri/MineriaDatosUN/blob/main/Taller_Procesamiento.ipynb\" target=\"_parent\"><img src=\"https://colab.research.google.com/assets/colab-badge.svg\" alt=\"Open In Colab\"/></a>"
      ]
    },
    {
      "cell_type": "markdown",
      "metadata": {
        "id": "MGr25p9wF7c7"
      },
      "source": [
        "##Universidad Nacional de Colombia \n",
        "###Mineria de Datos\n",
        "Taller de Procesamiento\n",
        "\n",
        "1. Punto"
      ]
    },
    {
      "cell_type": "code",
      "metadata": {
        "id": "2xHjAVS4F1LL"
      },
      "source": [
        ""
      ],
      "execution_count": null,
      "outputs": []
    }
  ]
}